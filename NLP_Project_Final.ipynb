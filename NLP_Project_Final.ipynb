{
  "nbformat": 4,
  "nbformat_minor": 0,
  "metadata": {
    "colab": {
      "name": "NLP_Project_Final.ipynb",
      "provenance": [],
      "collapsed_sections": [],
      "toc_visible": true
    },
    "kernelspec": {
      "name": "python3",
      "display_name": "Python 3"
    }
  },
  "cells": [
    {
      "cell_type": "markdown",
      "metadata": {
        "id": "tLX4xPNJbeea",
        "colab_type": "text"
      },
      "source": [
        "# **RESUME CLASSIFICATION PROJECT**\n",
        "\n",
        "\n",
        "---\n",
        "\n",
        "This project involves classification of Resumes into 25 categories. \n",
        "The data is has been taken from multiple sources and it is also freely available on kaggle. The raw dataset has also been uploaded.\n",
        "\n",
        "The project can be summarised as follows:\n",
        "\n",
        " - A quick EDA on the data\n",
        " - Method 1: TF-IDF/Count Vectoriser for the data representation and Random Forest and Extra Trees for the classification\n",
        " - Method 2: Importing GloVe and using the pre - trained word embeddings for the data represetation. Random Forest is used for the classification\n",
        " - Method 3: Using skip-grams and negative sampling to create word embeddings similar to those in word2vec. Use those word embeddings for data representation and Tree-Based algorithms for classification.  \n",
        " - Method 4: Create an LSTM using Keras and use it to classify the Resumes.\n",
        "\n"
      ]
    },
    {
      "cell_type": "markdown",
      "metadata": {
        "id": "TAT4b7Hbk_hm",
        "colab_type": "text"
      },
      "source": [
        "# Method 1: TF-IDF/Counr Vectorizer   "
      ]
    },
    {
      "cell_type": "code",
      "metadata": {
        "id": "SCpt8fx5DXFK",
        "colab_type": "code",
        "colab": {}
      },
      "source": [
        "import numpy as np \n",
        "import pandas as pd \n",
        "import matplotlib.pyplot as plt\n",
        "%matplotlib inline\n",
        "from sklearn.feature_extraction.text import TfidfVectorizer,CountVectorizer\n",
        "from sklearn.model_selection import train_test_split\n",
        "from sklearn.naive_bayes import MultinomialNB\n",
        "from wordcloud import WordCloud\n",
        "from sklearn import metrics"
      ],
      "execution_count": 0,
      "outputs": []
    },
    {
      "cell_type": "code",
      "metadata": {
        "id": "DuEVOk0hDeh8",
        "colab_type": "code",
        "outputId": "04c81615-5cd0-477f-ff46-8fd57f55b5e7",
        "colab": {
          "base_uri": "https://localhost:8080/",
          "height": 118
        }
      },
      "source": [
        "from google.colab import drive\n",
        "drive.mount('/content/gdrive')"
      ],
      "execution_count": 2,
      "outputs": [
        {
          "output_type": "stream",
          "text": [
            "Go to this URL in a browser: https://accounts.google.com/o/oauth2/auth?client_id=947318989803-6bn6qk8qdgf4n4g3pfee6491hc0brc4i.apps.googleusercontent.com&redirect_uri=urn%3aietf%3awg%3aoauth%3a2.0%3aoob&response_type=code&scope=email%20https%3a%2f%2fwww.googleapis.com%2fauth%2fdocs.test%20https%3a%2f%2fwww.googleapis.com%2fauth%2fdrive%20https%3a%2f%2fwww.googleapis.com%2fauth%2fdrive.photos.readonly%20https%3a%2f%2fwww.googleapis.com%2fauth%2fpeopleapi.readonly\n",
            "\n",
            "Enter your authorization code:\n",
            "··········\n",
            "Mounted at /content/gdrive\n"
          ],
          "name": "stdout"
        }
      ]
    },
    {
      "cell_type": "code",
      "metadata": {
        "id": "nH7xpuVDDgmT",
        "colab_type": "code",
        "colab": {}
      },
      "source": [
        "data_resume_path = '/content/gdrive/My Drive/NLP_adv/glove/UpdatedResumeDataSet.csv'"
      ],
      "execution_count": 0,
      "outputs": []
    },
    {
      "cell_type": "code",
      "metadata": {
        "id": "ADy4E5GQDnlV",
        "colab_type": "code",
        "colab": {}
      },
      "source": [
        "data = pd.read_csv(data_resume_path)"
      ],
      "execution_count": 0,
      "outputs": []
    },
    {
      "cell_type": "code",
      "metadata": {
        "id": "RogPP4AzDpiz",
        "colab_type": "code",
        "outputId": "b72cc9a3-7363-4866-a69d-6d6f6637d15a",
        "colab": {
          "base_uri": "https://localhost:8080/",
          "height": 191
        }
      },
      "source": [
        "data.head()"
      ],
      "execution_count": 10,
      "outputs": [
        {
          "output_type": "execute_result",
          "data": {
            "text/html": [
              "<div>\n",
              "<style scoped>\n",
              "    .dataframe tbody tr th:only-of-type {\n",
              "        vertical-align: middle;\n",
              "    }\n",
              "\n",
              "    .dataframe tbody tr th {\n",
              "        vertical-align: top;\n",
              "    }\n",
              "\n",
              "    .dataframe thead th {\n",
              "        text-align: right;\n",
              "    }\n",
              "</style>\n",
              "<table border=\"1\" class=\"dataframe\">\n",
              "  <thead>\n",
              "    <tr style=\"text-align: right;\">\n",
              "      <th></th>\n",
              "      <th>Category</th>\n",
              "      <th>Resume</th>\n",
              "    </tr>\n",
              "  </thead>\n",
              "  <tbody>\n",
              "    <tr>\n",
              "      <th>0</th>\n",
              "      <td>Data Science</td>\n",
              "      <td>Skills * Programming Languages: Python (pandas...</td>\n",
              "    </tr>\n",
              "    <tr>\n",
              "      <th>1</th>\n",
              "      <td>Data Science</td>\n",
              "      <td>Education Details \\r\\nMay 2013 to May 2017 B.E...</td>\n",
              "    </tr>\n",
              "    <tr>\n",
              "      <th>2</th>\n",
              "      <td>Data Science</td>\n",
              "      <td>Areas of Interest Deep Learning, Control Syste...</td>\n",
              "    </tr>\n",
              "    <tr>\n",
              "      <th>3</th>\n",
              "      <td>Data Science</td>\n",
              "      <td>Skills â¢ R â¢ Python â¢ SAP HANA â¢ Table...</td>\n",
              "    </tr>\n",
              "    <tr>\n",
              "      <th>4</th>\n",
              "      <td>Data Science</td>\n",
              "      <td>Education Details \\r\\n MCA   YMCAUST,  Faridab...</td>\n",
              "    </tr>\n",
              "  </tbody>\n",
              "</table>\n",
              "</div>"
            ],
            "text/plain": [
              "       Category                                             Resume\n",
              "0  Data Science  Skills * Programming Languages: Python (pandas...\n",
              "1  Data Science  Education Details \\r\\nMay 2013 to May 2017 B.E...\n",
              "2  Data Science  Areas of Interest Deep Learning, Control Syste...\n",
              "3  Data Science  Skills â¢ R â¢ Python â¢ SAP HANA â¢ Table...\n",
              "4  Data Science  Education Details \\r\\n MCA   YMCAUST,  Faridab..."
            ]
          },
          "metadata": {
            "tags": []
          },
          "execution_count": 10
        }
      ]
    },
    {
      "cell_type": "code",
      "metadata": {
        "id": "vGgGbQfdDr7E",
        "colab_type": "code",
        "outputId": "5361834a-3a2b-4b13-f4da-fb576c893001",
        "colab": {
          "base_uri": "https://localhost:8080/",
          "height": 115
        }
      },
      "source": [
        "# Unique categories in the Category column \n",
        "print(data[\"Category\"].unique())"
      ],
      "execution_count": 11,
      "outputs": [
        {
          "output_type": "stream",
          "text": [
            "['Data Science' 'HR' 'Advocate' 'Arts' 'Web Designing'\n",
            " 'Mechanical Engineer' 'Sales' 'Health and fitness' 'Civil Engineer'\n",
            " 'Java Developer' 'Business Analyst' 'SAP Developer' 'Automation Testing'\n",
            " 'Electrical Engineering' 'Operations Manager' 'Python Developer'\n",
            " 'DevOps Engineer' 'Network Security Engineer' 'PMO' 'Database' 'Hadoop'\n",
            " 'ETL Developer' 'DotNet Developer' 'Blockchain' 'Testing']\n"
          ],
          "name": "stdout"
        }
      ]
    },
    {
      "cell_type": "code",
      "metadata": {
        "id": "Tq5CVo3hDvDL",
        "colab_type": "code",
        "outputId": "fde62e36-1b40-48b2-81f9-dc26f146a8e5",
        "colab": {
          "base_uri": "https://localhost:8080/",
          "height": 440
        }
      },
      "source": [
        "# Total number of times each category has occured\n",
        "data[\"Category\"].value_counts(dropna = False)"
      ],
      "execution_count": 12,
      "outputs": [
        {
          "output_type": "execute_result",
          "data": {
            "text/plain": [
              "Java Developer               84\n",
              "Testing                      70\n",
              "DevOps Engineer              55\n",
              "Python Developer             48\n",
              "Web Designing                45\n",
              "HR                           44\n",
              "Hadoop                       42\n",
              "Sales                        40\n",
              "Data Science                 40\n",
              "Operations Manager           40\n",
              "ETL Developer                40\n",
              "Mechanical Engineer          40\n",
              "Blockchain                   40\n",
              "Arts                         36\n",
              "Database                     33\n",
              "PMO                          30\n",
              "Electrical Engineering       30\n",
              "Health and fitness           30\n",
              "DotNet Developer             28\n",
              "Business Analyst             28\n",
              "Automation Testing           26\n",
              "Network Security Engineer    25\n",
              "Civil Engineer               24\n",
              "SAP Developer                24\n",
              "Advocate                     20\n",
              "Name: Category, dtype: int64"
            ]
          },
          "metadata": {
            "tags": []
          },
          "execution_count": 12
        }
      ]
    },
    {
      "cell_type": "code",
      "metadata": {
        "id": "nrpTnebYD1jM",
        "colab_type": "code",
        "outputId": "eb714ae8-9058-41b6-b25f-54e3193318e3",
        "colab": {
          "base_uri": "https://localhost:8080/",
          "height": 893
        }
      },
      "source": [
        "import seaborn as sns \n",
        "# Ploting the unique counts using a countplot from seaborn\n",
        "#plt.figsize((12,8))\n",
        "plt.figure(figsize=(15,15))\n",
        "sns.countplot(y=\"Category\", data=data)"
      ],
      "execution_count": 13,
      "outputs": [
        {
          "output_type": "execute_result",
          "data": {
            "text/plain": [
              "<matplotlib.axes._subplots.AxesSubplot at 0x7ff076cd9f28>"
            ]
          },
          "metadata": {
            "tags": []
          },
          "execution_count": 13
        },
        {
          "output_type": "display_data",
          "data": {
            "image/png": "[encoded data removed]",
            "text/plain": [
              "<Figure size 1080x1080 with 1 Axes>"
            ]
          },
          "metadata": {
            "tags": []
          }
        }
      ]
    },
    {
      "cell_type": "code",
      "metadata": {
        "id": "xiIcaSuDD-Kc",
        "colab_type": "code",
        "colab": {}
      },
      "source": [
        "targetNames = data[\"Category\"].unique()"
      ],
      "execution_count": 0,
      "outputs": []
    },
    {
      "cell_type": "markdown",
      "metadata": {
        "id": "P1ft_9F-HBH2",
        "colab_type": "text"
      },
      "source": [
        "The function **cleanResume** uses regular expressions to remove anything that is unnecessary in the text such as:\n",
        "  - URLs\n",
        "  - RTs and cc's\n",
        "  - hashtags\n",
        "  - mentions\n",
        "  - punctuations\n",
        "  - extra whitespaces"
      ]
    },
    {
      "cell_type": "code",
      "metadata": {
        "id": "V2C0BvkQEEuz",
        "colab_type": "code",
        "colab": {}
      },
      "source": [
        "import re\n",
        "def cleanResume(resumeText):\n",
        "    resumeText = re.sub('http\\S+\\s*', ' ', resumeText)  # remove URLs\n",
        "    resumeText = re.sub('RT|cc', ' ', resumeText)  # remove RT and cc\n",
        "    resumeText = re.sub('#\\S+', '', resumeText)  # remove hashtags\n",
        "    resumeText = re.sub('@\\S+', '  ', resumeText)  # remove mentions\n",
        "    resumeText = re.sub('[%s]' % re.escape(\"\"\"!\"#$%&'()*+,-./:;<=>?@[\\]^_`{|}~\"\"\"), ' ', resumeText)  # remove punctuations\n",
        "    resumeText = re.sub(r'[^\\x00-\\x7f]',r' ', resumeText) \n",
        "    resumeText = re.sub('\\s+', ' ', resumeText)  # remove extra whitespace\n",
        "    return resumeText"
      ],
      "execution_count": 0,
      "outputs": []
    },
    {
      "cell_type": "code",
      "metadata": {
        "id": "BT1SXQkQHEnj",
        "colab_type": "code",
        "colab": {}
      },
      "source": [
        "# make a copy of the data\n",
        "data_cleaned_act = data"
      ],
      "execution_count": 0,
      "outputs": []
    },
    {
      "cell_type": "code",
      "metadata": {
        "id": "U_ukPAYCHHr7",
        "colab_type": "code",
        "colab": {}
      },
      "source": [
        "# Applying the fuction cleanResume\n",
        "data_cleaned_act[\"Resume_cls\"] = data[\"Resume\"].apply(lambda x:cleanResume(x))"
      ],
      "execution_count": 0,
      "outputs": []
    },
    {
      "cell_type": "code",
      "metadata": {
        "id": "m4PRQOMPHKmi",
        "colab_type": "code",
        "colab": {}
      },
      "source": [
        "# Drop the Resume column as it is no longer necessary \n",
        "data_cleaned_act.drop(columns=\"Resume\",inplace=True)"
      ],
      "execution_count": 0,
      "outputs": []
    },
    {
      "cell_type": "code",
      "metadata": {
        "id": "135NP4GbHbQz",
        "colab_type": "code",
        "outputId": "ba429032-9140-45c2-9366-ee1e66674d50",
        "colab": {
          "base_uri": "https://localhost:8080/",
          "height": 191
        }
      },
      "source": [
        "# Visualise the data\n",
        "data_cleaned_act.head()"
      ],
      "execution_count": 19,
      "outputs": [
        {
          "output_type": "execute_result",
          "data": {
            "text/html": [
              "<div>\n",
              "<style scoped>\n",
              "    .dataframe tbody tr th:only-of-type {\n",
              "        vertical-align: middle;\n",
              "    }\n",
              "\n",
              "    .dataframe tbody tr th {\n",
              "        vertical-align: top;\n",
              "    }\n",
              "\n",
              "    .dataframe thead th {\n",
              "        text-align: right;\n",
              "    }\n",
              "</style>\n",
              "<table border=\"1\" class=\"dataframe\">\n",
              "  <thead>\n",
              "    <tr style=\"text-align: right;\">\n",
              "      <th></th>\n",
              "      <th>Category</th>\n",
              "      <th>Resume_cls</th>\n",
              "    </tr>\n",
              "  </thead>\n",
              "  <tbody>\n",
              "    <tr>\n",
              "      <th>0</th>\n",
              "      <td>Data Science</td>\n",
              "      <td>Skills Programming Languages Python pandas num...</td>\n",
              "    </tr>\n",
              "    <tr>\n",
              "      <th>1</th>\n",
              "      <td>Data Science</td>\n",
              "      <td>Education Details May 2013 to May 2017 B E UIT...</td>\n",
              "    </tr>\n",
              "    <tr>\n",
              "      <th>2</th>\n",
              "      <td>Data Science</td>\n",
              "      <td>Areas of Interest Deep Learning Control System...</td>\n",
              "    </tr>\n",
              "    <tr>\n",
              "      <th>3</th>\n",
              "      <td>Data Science</td>\n",
              "      <td>Skills R Python SAP HANA Tableau SAP HANA SQL ...</td>\n",
              "    </tr>\n",
              "    <tr>\n",
              "      <th>4</th>\n",
              "      <td>Data Science</td>\n",
              "      <td>Education Details MCA YMCAUST Faridabad Haryan...</td>\n",
              "    </tr>\n",
              "  </tbody>\n",
              "</table>\n",
              "</div>"
            ],
            "text/plain": [
              "       Category                                         Resume_cls\n",
              "0  Data Science  Skills Programming Languages Python pandas num...\n",
              "1  Data Science  Education Details May 2013 to May 2017 B E UIT...\n",
              "2  Data Science  Areas of Interest Deep Learning Control System...\n",
              "3  Data Science  Skills R Python SAP HANA Tableau SAP HANA SQL ...\n",
              "4  Data Science  Education Details MCA YMCAUST Faridabad Haryan..."
            ]
          },
          "metadata": {
            "tags": []
          },
          "execution_count": 19
        }
      ]
    },
    {
      "cell_type": "code",
      "metadata": {
        "id": "6UWJviNSHd5i",
        "colab_type": "code",
        "colab": {}
      },
      "source": [
        "# import the preprocessing module from sklearn in order to encode the different categories\n",
        "from sklearn import preprocessing"
      ],
      "execution_count": 0,
      "outputs": []
    },
    {
      "cell_type": "code",
      "metadata": {
        "id": "1LdEsKIAHiAb",
        "colab_type": "code",
        "colab": {}
      },
      "source": [
        "# Initialise the label encoder\n",
        "le = preprocessing.LabelEncoder()"
      ],
      "execution_count": 0,
      "outputs": []
    },
    {
      "cell_type": "code",
      "metadata": {
        "id": "8yG_Y0xFHlwi",
        "colab_type": "code",
        "colab": {}
      },
      "source": [
        "# encode the Category column\n",
        "trans = le.fit_transform(data_cleaned_act[\"Category\"])\n",
        "#trans = le.transform(data_cleaned_act[\"Category\"])"
      ],
      "execution_count": 0,
      "outputs": []
    },
    {
      "cell_type": "code",
      "metadata": {
        "id": "PM-ce07uHn7T",
        "colab_type": "code",
        "colab": {}
      },
      "source": [
        "data_cleaned_act[\"act_labels\"] = trans"
      ],
      "execution_count": 0,
      "outputs": []
    },
    {
      "cell_type": "code",
      "metadata": {
        "id": "bUm-DBXNHqVy",
        "colab_type": "code",
        "outputId": "9c4cbb53-a81d-44bc-c51d-5c067484726f",
        "colab": {
          "base_uri": "https://localhost:8080/",
          "height": 335
        }
      },
      "source": [
        "data_cleaned_act.head(10)"
      ],
      "execution_count": 24,
      "outputs": [
        {
          "output_type": "execute_result",
          "data": {
            "text/html": [
              "<div>\n",
              "<style scoped>\n",
              "    .dataframe tbody tr th:only-of-type {\n",
              "        vertical-align: middle;\n",
              "    }\n",
              "\n",
              "    .dataframe tbody tr th {\n",
              "        vertical-align: top;\n",
              "    }\n",
              "\n",
              "    .dataframe thead th {\n",
              "        text-align: right;\n",
              "    }\n",
              "</style>\n",
              "<table border=\"1\" class=\"dataframe\">\n",
              "  <thead>\n",
              "    <tr style=\"text-align: right;\">\n",
              "      <th></th>\n",
              "      <th>Category</th>\n",
              "      <th>Resume_cls</th>\n",
              "      <th>act_labels</th>\n",
              "    </tr>\n",
              "  </thead>\n",
              "  <tbody>\n",
              "    <tr>\n",
              "      <th>0</th>\n",
              "      <td>Data Science</td>\n",
              "      <td>Skills Programming Languages Python pandas num...</td>\n",
              "      <td>6</td>\n",
              "    </tr>\n",
              "    <tr>\n",
              "      <th>1</th>\n",
              "      <td>Data Science</td>\n",
              "      <td>Education Details May 2013 to May 2017 B E UIT...</td>\n",
              "      <td>6</td>\n",
              "    </tr>\n",
              "    <tr>\n",
              "      <th>2</th>\n",
              "      <td>Data Science</td>\n",
              "      <td>Areas of Interest Deep Learning Control System...</td>\n",
              "      <td>6</td>\n",
              "    </tr>\n",
              "    <tr>\n",
              "      <th>3</th>\n",
              "      <td>Data Science</td>\n",
              "      <td>Skills R Python SAP HANA Tableau SAP HANA SQL ...</td>\n",
              "      <td>6</td>\n",
              "    </tr>\n",
              "    <tr>\n",
              "      <th>4</th>\n",
              "      <td>Data Science</td>\n",
              "      <td>Education Details MCA YMCAUST Faridabad Haryan...</td>\n",
              "      <td>6</td>\n",
              "    </tr>\n",
              "    <tr>\n",
              "      <th>5</th>\n",
              "      <td>Data Science</td>\n",
              "      <td>SKILLS C Basics IOT Python MATLAB Data Science...</td>\n",
              "      <td>6</td>\n",
              "    </tr>\n",
              "    <tr>\n",
              "      <th>6</th>\n",
              "      <td>Data Science</td>\n",
              "      <td>Skills Python Tableau Data Visualization R Stu...</td>\n",
              "      <td>6</td>\n",
              "    </tr>\n",
              "    <tr>\n",
              "      <th>7</th>\n",
              "      <td>Data Science</td>\n",
              "      <td>Education Details B Tech Rayat and Bahra Insti...</td>\n",
              "      <td>6</td>\n",
              "    </tr>\n",
              "    <tr>\n",
              "      <th>8</th>\n",
              "      <td>Data Science</td>\n",
              "      <td>Personal Skills Ability to quickly grasp techn...</td>\n",
              "      <td>6</td>\n",
              "    </tr>\n",
              "    <tr>\n",
              "      <th>9</th>\n",
              "      <td>Data Science</td>\n",
              "      <td>Expertise Data and Quantitative Analysis Decis...</td>\n",
              "      <td>6</td>\n",
              "    </tr>\n",
              "  </tbody>\n",
              "</table>\n",
              "</div>"
            ],
            "text/plain": [
              "       Category                                         Resume_cls  act_labels\n",
              "0  Data Science  Skills Programming Languages Python pandas num...           6\n",
              "1  Data Science  Education Details May 2013 to May 2017 B E UIT...           6\n",
              "2  Data Science  Areas of Interest Deep Learning Control System...           6\n",
              "3  Data Science  Skills R Python SAP HANA Tableau SAP HANA SQL ...           6\n",
              "4  Data Science  Education Details MCA YMCAUST Faridabad Haryan...           6\n",
              "5  Data Science  SKILLS C Basics IOT Python MATLAB Data Science...           6\n",
              "6  Data Science  Skills Python Tableau Data Visualization R Stu...           6\n",
              "7  Data Science  Education Details B Tech Rayat and Bahra Insti...           6\n",
              "8  Data Science  Personal Skills Ability to quickly grasp techn...           6\n",
              "9  Data Science  Expertise Data and Quantitative Analysis Decis...           6"
            ]
          },
          "metadata": {
            "tags": []
          },
          "execution_count": 24
        }
      ]
    },
    {
      "cell_type": "code",
      "metadata": {
        "id": "rSU69uF1Hwq6",
        "colab_type": "code",
        "outputId": "812f0f6c-b27d-43f9-ef03-67737aa69bd6",
        "colab": {
          "base_uri": "https://localhost:8080/",
          "height": 212
        }
      },
      "source": [
        "# Encoded labels\n",
        "data_cleaned_act[\"act_labels\"]"
      ],
      "execution_count": 25,
      "outputs": [
        {
          "output_type": "execute_result",
          "data": {
            "text/plain": [
              "0       6\n",
              "1       6\n",
              "2       6\n",
              "3       6\n",
              "4       6\n",
              "       ..\n",
              "957    23\n",
              "958    23\n",
              "959    23\n",
              "960    23\n",
              "961    23\n",
              "Name: act_labels, Length: 962, dtype: int64"
            ]
          },
          "metadata": {
            "tags": []
          },
          "execution_count": 25
        }
      ]
    },
    {
      "cell_type": "code",
      "metadata": {
        "id": "q4IWK7qrHzkj",
        "colab_type": "code",
        "outputId": "9a96756a-42e9-4e69-c84a-d2f1cd20f30f",
        "colab": {
          "base_uri": "https://localhost:8080/",
          "height": 50
        }
      },
      "source": [
        "Y = data_cleaned_act[\"act_labels\"].as_matrix()"
      ],
      "execution_count": 26,
      "outputs": [
        {
          "output_type": "stream",
          "text": [
            "/usr/local/lib/python3.6/dist-packages/ipykernel_launcher.py:1: FutureWarning: Method .as_matrix will be removed in a future version. Use .values instead.\n",
            "  \"\"\"Entry point for launching an IPython kernel.\n"
          ],
          "name": "stderr"
        }
      ]
    },
    {
      "cell_type": "code",
      "metadata": {
        "id": "ughW_VLCH_7j",
        "colab_type": "code",
        "colab": {}
      },
      "source": [
        "count_vect = CountVectorizer(decode_error='ignore')\n",
        "tiidf_vect = TfidfVectorizer(decode_error='ignore')"
      ],
      "execution_count": 0,
      "outputs": []
    },
    {
      "cell_type": "code",
      "metadata": {
        "id": "ArM3TW5DIEoq",
        "colab_type": "code",
        "colab": {}
      },
      "source": [
        "X_cv = count_vect.fit_transform(data_cleaned_act[\"Resume_cls\"])\n",
        "X_tfidf = tiidf_vect.fit_transform(data_cleaned_act[\"Resume_cls\"])"
      ],
      "execution_count": 0,
      "outputs": []
    },
    {
      "cell_type": "code",
      "metadata": {
        "id": "0RNc1lHQISnK",
        "colab_type": "code",
        "colab": {}
      },
      "source": [
        "Xtrain,Xtest,Ytrain,Ytest = train_test_split(X_cv,Y,test_size=0.33)"
      ],
      "execution_count": 0,
      "outputs": []
    },
    {
      "cell_type": "code",
      "metadata": {
        "id": "AlblwtH4Iata",
        "colab_type": "code",
        "outputId": "9f8dbdb1-5e66-4c73-9d0d-e7ab1267dab5",
        "colab": {
          "base_uri": "https://localhost:8080/",
          "height": 50
        }
      },
      "source": [
        "model = MultinomialNB()\n",
        "model.fit(Xtrain,Ytrain)\n",
        "print(\"train score\",model.score(Xtrain,Ytrain))\n",
        "print(\"test score\",model.score(Xtest,Ytest))"
      ],
      "execution_count": 30,
      "outputs": [
        {
          "output_type": "stream",
          "text": [
            "train score 0.9984472049689441\n",
            "test score 0.9779874213836478\n"
          ],
          "name": "stdout"
        }
      ]
    },
    {
      "cell_type": "code",
      "metadata": {
        "id": "IELLAwdrIdSL",
        "colab_type": "code",
        "colab": {}
      },
      "source": [
        "predictions = model.predict(Xtest)"
      ],
      "execution_count": 0,
      "outputs": []
    },
    {
      "cell_type": "code",
      "metadata": {
        "id": "4gHDj9bZIgAy",
        "colab_type": "code",
        "outputId": "b814be7a-67ee-4b74-ae43-0877426464e2",
        "colab": {
          "base_uri": "https://localhost:8080/",
          "height": 33
        }
      },
      "source": [
        "print(metrics.accuracy_score(Ytest,predictions))"
      ],
      "execution_count": 32,
      "outputs": [
        {
          "output_type": "stream",
          "text": [
            "0.9779874213836478\n"
          ],
          "name": "stdout"
        }
      ]
    },
    {
      "cell_type": "code",
      "metadata": {
        "id": "0NW4sLTUIiA7",
        "colab_type": "code",
        "outputId": "dd00223c-ccbc-4c4c-ac0d-1985abdb8acc",
        "colab": {
          "base_uri": "https://localhost:8080/",
          "height": 537
        }
      },
      "source": [
        "print(metrics.classification_report(Ytest,predictions))"
      ],
      "execution_count": 33,
      "outputs": [
        {
          "output_type": "stream",
          "text": [
            "              precision    recall  f1-score   support\n",
            "\n",
            "           0       1.00      0.60      0.75         5\n",
            "           1       0.87      1.00      0.93        13\n",
            "           2       1.00      1.00      1.00         8\n",
            "           3       1.00      1.00      1.00        15\n",
            "           4       1.00      1.00      1.00         4\n",
            "           5       1.00      1.00      1.00         9\n",
            "           6       1.00      1.00      1.00        11\n",
            "           7       1.00      1.00      1.00        12\n",
            "           8       1.00      0.89      0.94        18\n",
            "           9       1.00      0.79      0.88        14\n",
            "          10       1.00      1.00      1.00        10\n",
            "          11       1.00      1.00      1.00        12\n",
            "          12       1.00      1.00      1.00        12\n",
            "          13       1.00      1.00      1.00        19\n",
            "          14       1.00      1.00      1.00         6\n",
            "          15       0.90      1.00      0.95        27\n",
            "          16       1.00      1.00      1.00        13\n",
            "          17       1.00      1.00      1.00         9\n",
            "          18       1.00      1.00      1.00        11\n",
            "          19       0.82      1.00      0.90         9\n",
            "          20       1.00      1.00      1.00        25\n",
            "          21       1.00      1.00      1.00         8\n",
            "          22       1.00      1.00      1.00        15\n",
            "          23       1.00      1.00      1.00        24\n",
            "          24       1.00      1.00      1.00         9\n",
            "\n",
            "    accuracy                           0.98       318\n",
            "   macro avg       0.98      0.97      0.97       318\n",
            "weighted avg       0.98      0.98      0.98       318\n",
            "\n"
          ],
          "name": "stdout"
        }
      ]
    },
    {
      "cell_type": "code",
      "metadata": {
        "id": "iUoIfdNOIkpy",
        "colab_type": "code",
        "colab": {}
      },
      "source": [
        "def visualise(label):\n",
        "    # labels is a class. One of the 24 classes \n",
        "    \n",
        "    words = ''\n",
        "    for resume in data_cleaned_act[data_cleaned_act['Category'] == label][\"Resume_cls\"]:\n",
        "        #resume is the whole Resume\n",
        "        \n",
        "        resume = resume.lower()\n",
        "        words += resume + ' '\n",
        "    wordcloud = WordCloud(width=600,height=400).generate(words)\n",
        "    print(wordcloud.words_)\n",
        "    print(\"++++++++++++++++++++++++++++++++++\")\n",
        "    print(wordcloud.stopwords)\n",
        "    plt.imshow(wordcloud)\n",
        "    plt.axis('off')\n",
        "    plt.figure(figsize=(15,15))\n",
        "    plt.show()    "
      ],
      "execution_count": 0,
      "outputs": []
    },
    {
      "cell_type": "code",
      "metadata": {
        "id": "I3BiqvnFInaq",
        "colab_type": "code",
        "outputId": "f65e144b-6118-4596-f8ce-cfb90dfec4ab",
        "colab": {
          "base_uri": "https://localhost:8080/",
          "height": 332
        }
      },
      "source": [
        "visualise(\"Data Science\")"
      ],
      "execution_count": 35,
      "outputs": [
        {
          "output_type": "stream",
          "text": [
            "{'exprience less': 1.0, 'less year': 1.0, 'data science': 0.9743589743589743, 'machine learning': 0.9230769230769231, 'year months': 0.8205128205128205, 'exprience months': 0.5128205128205128, 'data': 0.41025641025641024, 'deep learning': 0.3333333333333333, 'education details': 0.2564102564102564, 'skill details': 0.2564102564102564, 'monthscompany details': 0.2564102564102564, 'details company': 0.2564102564102564, 'sap hana': 0.23076923076923078, 'technical environment': 0.23076923076923078, 'python exprience': 0.20512820512820512, 'learning exprience': 0.20512820512820512, 'months python': 0.1794871794871795, 'year monthscompany': 0.1794871794871795, 'key responsibilities': 0.1794871794871795, 'neural network': 0.1794871794871795, 'learning deep': 0.1794871794871795, 'analytic': 0.15384615384615385, 'sentiment analysis': 0.15384615384615385, 'months machine': 0.15384615384615385, 'consultant months': 0.15384615384615385, 'aegis school': 0.15384615384615385, 'school data': 0.15384615384615385, 'python': 0.1282051282051282, 'topic modelling': 0.1282051282051282, 'data scientist': 0.1282051282051282, 'decision tree': 0.1282051282051282, 'using': 0.10256410256410256, 'scikit learn': 0.10256410256410256, 'natural language': 0.10256410256410256, 'language processing': 0.10256410256410256, 'end end': 0.10256410256410256, 'tools technologies': 0.10256410256410256, 'details january': 0.10256410256410256, 'data modelling': 0.10256410256410256, 'project involved': 0.10256410256410256, 'cross industry': 0.10256410256410256, 'service area': 0.10256410256410256, 'project name': 0.10256410256410256, 'months project': 0.10256410256410256, 'data models': 0.10256410256410256, 'developed various': 0.10256410256410256, 'pvt ltd': 0.10256410256410256, 'sql server': 0.10256410256410256, 'data visualization': 0.10256410256410256, 'company wipro': 0.10256410256410256, 'knowledge python': 0.10256410256410256, 'programming language': 0.10256410256410256, 'operating system': 0.10256410256410256, 'wipro neural': 0.10256410256410256, 'neural intelligence': 0.10256410256410256, 'intelligence platform': 0.10256410256410256, 'deep machine': 0.10256410256410256, 'user queries': 0.10256410256410256, 'tensor flow': 0.10256410256410256, 'model trained': 0.10256410256410256, 'madhya pradesh': 0.10256410256410256, 'learning algorithms': 0.10256410256410256, 'skills programming': 0.07692307692307693, 'exprience monthscompany': 0.07692307692307693, 'technologies python': 0.07692307692307693, 'positive negative': 0.07692307692307693, 'time series': 0.07692307692307693, 'chat bot': 0.07692307692307693, 'responses user': 0.07692307692307693, 'unstructured data': 0.07692307692307693, 'data sources': 0.07692307692307693, 'elastic search': 0.07692307692307693, 'fraud analytic': 0.07692307692307693, 'python software': 0.07692307692307693, 'january tech': 0.07692307692307693, 'technology january': 0.07692307692307693, 'hana tableau': 0.07692307692307693, 'advance analytics': 0.07692307692307693, 'electronics communication': 0.07692307692307693, 'college engineering': 0.07692307692307693, 'science consultant': 0.07692307692307693, 'products project': 0.07692307692307693, 'responsibilities design': 0.07692307692307693, 'design develop': 0.07692307692307693, 'develop data': 0.07692307692307693, 'data flow': 0.07692307692307693, 'validate various': 0.07692307692307693, 'various reports': 0.07692307692307693, 'environment sap': 0.07692307692307693, 'solutions pvt': 0.07692307692307693, 'analytics tool': 0.07692307692307693, 'predictive analytics': 0.07692307692307693, 'experience years': 0.07692307692307693, 'computer science': 0.07692307692307693, 'institute engineering': 0.07692307692307693, 'wipro description': 0.07692307692307693, 'wipro technologies': 0.07692307692307693, 'python libraries': 0.07692307692307693, 'numpy pandas': 0.07692307692307693, 'knn decision': 0.07692307692307693, 'logistic regression': 0.07692307692307693, 'regression neural': 0.07692307692307693, 'skills ability': 0.07692307692307693, 'bot using': 0.07692307692307693, 'learning nlp': 0.07692307692307693, 'handle queries': 0.07692307692307693, 'science mumbai': 0.07692307692307693, 'science business': 0.07692307692307693, 'goal project': 0.07692307692307693, 'service provider': 0.07692307692307693, 'analysis': 0.05128205128205128, 'scm': 0.05128205128205128, 'javascript jquery': 0.05128205128205128, 'na ve': 0.05128205128205128, 've bayes': 0.05128205128205128, 'cluster analysis': 0.05128205128205128, 'analysis word': 0.05128205128205128, 'word embedding': 0.05128205128205128, 'dimensionality reduction': 0.05128205128205128, 'lda nmf': 0.05128205128205128, 'd3 js': 0.05128205128205128, 'js dc': 0.05128205128205128, 'dc js': 0.05128205128205128, 'html css': 0.05128205128205128, 'python flask': 0.05128205128205128, 'open cv': 0.05128205128205128, 'science assurance': 0.05128205128205128, 'assurance associate': 0.05128205128205128, 'ernst young': 0.05128205128205128, 'young llp': 0.05128205128205128, 'technology assisted': 0.05128205128205128, 'assisted review': 0.05128205128205128, 'generate reports': 0.05128205128205128, 'predictive coding': 0.05128205128205128, 'coding topic': 0.05128205128205128, 'cosine similarity': 0.05128205128205128, 'tableau dashboard': 0.05128205128205128, 'negative neutral': 0.05128205128205128, 'created customized': 0.05128205128205128, 'information governance': 0.05128205128205128, 'analytics investigative': 0.05128205128205128, 'investigative platform': 0.05128205128205128, 'red flag': 0.05128205128205128, 'company matelabs': 0.05128205128205128, 'matelabs description': 0.05128205128205128, 'outlier detection': 0.05128205128205128, 'series forecasting': 0.05128205128205128, 'research paper': 0.05128205128205128, 'technical skills': 0.05128205128205128, 'institute technology': 0.05128205128205128, 'public school': 0.05128205128205128, 'months matlab': 0.05128205128205128, 'matlab exprience': 0.05128205128205128, 'tableau sap': 0.05128205128205128, 'hana sql': 0.05128205128205128, 'sql sap': 0.05128205128205128, 'linear programming': 0.05128205128205128, 'deloitte usi': 0.05128205128205128, 'months retail': 0.05128205128205128, 'insights optimize': 0.05128205128205128, 'raw data': 0.05128205128205128, 'insights client': 0.05128205128205128, 'industry cross': 0.05128205128205128, 'development project': 0.05128205128205128, 'project develop': 0.05128205128205128, 'develop analytics': 0.05128205128205128, 'analytics infrastructure': 0.05128205128205128, 'infrastructure top': 0.05128205128205128, 'models reporting': 0.05128205128205128, 'reporting develop': 0.05128205128205128, 'reports technical': 0.05128205128205128, 'role involved': 0.05128205128205128, 'modelling sap': 0.05128205128205128, 'industry fmcg': 0.05128205128205128, 'involved setting': 0.05128205128205128, 'rfm analysis': 0.05128205128205128, 'months initiative': 0.05128205128205128, 'hana sps12': 0.05128205128205128, 'involved development': 0.05128205128205128, 'process analytics': 0.05128205128205128, 'developer months': 0.05128205128205128, 'months enture': 0.05128205128205128, 'enture solutions': 0.05128205128205128, 'ltd india': 0.05128205128205128, 'database objects': 0.05128205128205128, 'various deployments': 0.05128205128205128, 'calculation view': 0.05128205128205128, 'bringing business': 0.05128205128205128, 'tech computer': 0.05128205128205128, 'ltd description': 0.05128205128205128, 'rayat bahra': 0.05128205128205128, 'bahra institute': 0.05128205128205128, 'engineering biotechnology': 0.05128205128205128, 'high energy': 0.05128205128205128, 'professional knowledge': 0.05128205128205128, 'knowledge experience': 0.05128205128205128, 'technologies machine': 0.05128205128205128, 'software development': 0.05128205128205128, 'development skilled': 0.05128205128205128, 'skilled managing': 0.05128205128205128}\n",
            "++++++++++++++++++++++++++++++++++\n",
            "{\"i'd\", 'nor', 'at', 'up', 'with', 'otherwise', \"wasn't\", 'do', \"it's\", \"you'll\", 'such', 'these', 'we', 'doing', \"couldn't\", 'this', 'has', 'which', 'was', 'of', \"where's\", \"he'd\", 'where', \"you're\", 'com', 'then', \"i've\", \"she'd\", \"we'll\", 'during', 'down', 'about', 'those', 'a', 'did', 'she', 'themselves', \"that's\", 'so', 'whom', 'you', 'had', 'who', 'her', 'being', \"you've\", 'in', \"he's\", 'too', \"why's\", \"won't\", 'hers', \"we're\", 'what', 'any', 'theirs', 'him', 'out', \"shouldn't\", 'ours', \"wouldn't\", 'if', 'very', 'our', 'would', \"they'd\", 'yours', \"she's\", 'there', 'while', 'yourself', 'until', \"let's\", 'against', \"hasn't\", 'own', \"we'd\", 'ourselves', 'since', 'the', 'also', 'ever', 'that', 'over', 'under', \"aren't\", 'before', \"doesn't\", \"i'll\", 'again', 'why', \"don't\", 'few', 'www', 'how', 'your', 'above', 'cannot', 'for', 'does', 'each', \"they'll\", 'my', \"how's\", 'i', 'off', 'just', 'it', 'other', 'into', 'are', 'to', \"mustn't\", 'were', 'k', 'should', 'like', 'can', \"who's\", 'them', 'itself', 'is', 'all', \"shan't\", 'http', 'or', 'an', \"when's\", 'his', 'here', 'ought', \"there's\", 'between', 'else', 'could', \"they're\", 'not', 'more', 'most', \"you'd\", 'am', 'as', \"i'm\", 'shall', 'however', 'their', 'yourselves', 'herself', 'he', \"can't\", 'some', 'be', 'and', 'both', 'further', 'himself', \"hadn't\", 'than', 'after', \"we've\", 'only', 'they', \"he'll\", 'same', 'but', \"isn't\", \"weren't\", \"haven't\", 'through', 'been', 'get', 'having', 'myself', 'r', \"they've\", \"didn't\", 'once', 'me', 'when', \"here's\", 'by', 'no', 'on', 'below', 'from', \"she'll\", 'because', 'have', 'its', \"what's\"}\n"
          ],
          "name": "stdout"
        },
        {
          "output_type": "display_data",
          "data": {
            "image/png": "[encoded data removed]",
            "text/plain": [
              "<Figure size 432x288 with 1 Axes>"
            ]
          },
          "metadata": {
            "tags": []
          }
        },
        {
          "output_type": "display_data",
          "data": {
            "text/plain": [
              "<Figure size 1080x1080 with 0 Axes>"
            ]
          },
          "metadata": {
            "tags": []
          }
        }
      ]
    },
    {
      "cell_type": "markdown",
      "metadata": {
        "id": "Ex9MRmGLIvGI",
        "colab_type": "text"
      },
      "source": [
        "Example code of words that make the algorithm make a wrong prediction."
      ]
    },
    {
      "cell_type": "code",
      "metadata": {
        "id": "86zGwU4uIpl7",
        "colab_type": "code",
        "colab": {}
      },
      "source": [
        "# Predictions on the entire dataset \n",
        "data_cleaned_act[\"Preds\"] = model.predict(X_cv)"
      ],
      "execution_count": 0,
      "outputs": []
    },
    {
      "cell_type": "code",
      "metadata": {
        "id": "oVr40EI2IyPb",
        "colab_type": "code",
        "colab": {}
      },
      "source": [
        "#mistakes_0_class_res - represents pandas series containing the rows as well as the content (words) that the algorithm\n",
        "#classifies incorrectly. \n",
        "\n",
        "# Usefull for further analysis!\n",
        "\n",
        "\n",
        "mistakes_0_class_res = data_cleaned_act[(data_cleaned_act[\"Preds\"] != 0) & (data_cleaned_act[\"act_labels\"] == 0)][\"Resume_cls\"]"
      ],
      "execution_count": 0,
      "outputs": []
    },
    {
      "cell_type": "code",
      "metadata": {
        "id": "uDvJVZPMI3kS",
        "colab_type": "code",
        "colab": {}
      },
      "source": [
        "msg = ''\n",
        "for words in mistakes_0_class_res:\n",
        "    words.lower()\n",
        "    msg += words + ' '"
      ],
      "execution_count": 0,
      "outputs": []
    },
    {
      "cell_type": "code",
      "metadata": {
        "id": "iG0PlKhLI5v6",
        "colab_type": "code",
        "outputId": "01cabfc6-7808-4993-d926-19ce39ab7a56",
        "colab": {
          "base_uri": "https://localhost:8080/",
          "height": 53
        }
      },
      "source": [
        "msg"
      ],
      "execution_count": 39,
      "outputs": [
        {
          "output_type": "execute_result",
          "data": {
            "text/plain": [
              "' Hard working Quick learnerEducation Details June 2014 to May 2017 LLB LAW Mumbai Maharashtra mumbai university January 2014 B Com Commerce Mumbai Maharashtra Mumbai university January 2011 HSC Maharashtra board January 2009 SSC Maharashtra board Advocate Skill Details Company Details company The vidishtra description   Hard working Quick learnerEducation Details June 2014 to May 2017 LLB LAW Mumbai Maharashtra mumbai university January 2014 B Com Commerce Mumbai Maharashtra Mumbai university January 2011 HSC Maharashtra board January 2009 SSC Maharashtra board Advocate Skill Details Company Details company The vidishtra description  '"
            ]
          },
          "metadata": {
            "tags": []
          },
          "execution_count": 39
        }
      ]
    },
    {
      "cell_type": "code",
      "metadata": {
        "id": "xzM3KTaLI76O",
        "colab_type": "code",
        "outputId": "cb1653cd-423b-4365-a1b3-7d644732eca5",
        "colab": {
          "base_uri": "https://localhost:8080/",
          "height": 66
        }
      },
      "source": [
        "mistakes_0_class_res\n"
      ],
      "execution_count": 40,
      "outputs": [
        {
          "output_type": "execute_result",
          "data": {
            "text/plain": [
              "93      Hard working Quick learnerEducation Details J...\n",
              "103     Hard working Quick learnerEducation Details J...\n",
              "Name: Resume_cls, dtype: object"
            ]
          },
          "metadata": {
            "tags": []
          },
          "execution_count": 40
        }
      ]
    },
    {
      "cell_type": "markdown",
      "metadata": {
        "id": "h5OeN533wbLi",
        "colab_type": "text"
      },
      "source": [
        "# Conclusion\n",
        "Despite the fact that TF-IDF/Count Vectorizer models do not take grammar or relationship between words into account, the model presented in this chapter produces very high accuracy despite its simplicity."
      ]
    },
    {
      "cell_type": "markdown",
      "metadata": {
        "id": "rDX0KjyEJGNo",
        "colab_type": "text"
      },
      "source": [
        "#  Method 2: Classification using pretrained weights from Glove"
      ]
    },
    {
      "cell_type": "markdown",
      "metadata": {
        "id": "SJPpW02cJKGB",
        "colab_type": "text"
      },
      "source": [
        "This section is focused on using weights from **GloVe** to classify each Resume.\n",
        "**GloVe** is a pre-trained vector representation of words, trained by researchers from Stanford at a very large scale. **GloVe** has several different variation depending on the size of each vector representing each word. For this example, the smallest vector size will be used which is a lenght of 50.\n",
        "Overall **GloVe's** main advantage is the fact that it considers word order, unlike Bag Of Words algorithm which does not.   "
      ]
    },
    {
      "cell_type": "code",
      "metadata": {
        "id": "8IoboaWMJB4j",
        "colab_type": "code",
        "colab": {}
      },
      "source": [
        "# Path to the glove file \n",
        "glove_path = '/content/gdrive/My Drive/NLP_adv/glove/glove.6B.50d.txt'"
      ],
      "execution_count": 0,
      "outputs": []
    },
    {
      "cell_type": "code",
      "metadata": {
        "id": "UHNyFivKJYqh",
        "colab_type": "code",
        "outputId": "5ad94833-de7f-4139-a9ac-f46c61118e0b",
        "colab": {
          "base_uri": "https://localhost:8080/",
          "height": 50
        }
      },
      "source": [
        "print('Loading test vectors')\n",
        "word2vec = {}\n",
        "embeddings = []\n",
        "idx2word = []\n",
        "with open(glove_path) as f:\n",
        "  for line in f:\n",
        "    values = line.split()\n",
        "    word = values[0]\n",
        "    w_embedings = np.asarray(values[1:], dtype='float32')\n",
        "\n",
        "    word2vec[word] = w_embedings\n",
        "    embeddings.append(w_embedings)\n",
        "    idx2word.append(word)\n",
        "print('Found %s word vectors.' % len(word2vec))"
      ],
      "execution_count": 39,
      "outputs": [
        {
          "output_type": "stream",
          "text": [
            "Loading test vectors\n",
            "Found 400000 word vectors.\n"
          ],
          "name": "stdout"
        }
      ]
    },
    {
      "cell_type": "code",
      "metadata": {
        "id": "0_HJpvI5JbkB",
        "colab_type": "code",
        "colab": {}
      },
      "source": [
        "# Visualising the word2vec dictionary\n",
        "# output truncated to ensure better visualisation\n",
        "word2vec"
      ],
      "execution_count": 0,
      "outputs": []
    },
    {
      "cell_type": "code",
      "metadata": {
        "id": "8d024cF1JrDa",
        "colab_type": "code",
        "colab": {}
      },
      "source": [
        "# Visualising the first 10 embeddings\n",
        "# output truncated to ensure better visualisation\n",
        "embeddings[:10]"
      ],
      "execution_count": 0,
      "outputs": []
    },
    {
      "cell_type": "code",
      "metadata": {
        "id": "JmgKcl1CK9bp",
        "colab_type": "code",
        "colab": {}
      },
      "source": [
        "#Setting up the data and the targets for GloVe\n",
        "X_glove = data_cleaned_act.Resume_cls\n",
        "Y_glove = data_cleaned_act.act_labels"
      ],
      "execution_count": 0,
      "outputs": []
    },
    {
      "cell_type": "code",
      "metadata": {
        "id": "3TbgofO9LBNi",
        "colab_type": "code",
        "colab": {}
      },
      "source": [
        "#Performing a train - test split\n",
        "X_glove_train,X_glove_test,Y_glove_train,Y_glove_test = train_test_split(X_glove,Y_glove,test_size=0.33)"
      ],
      "execution_count": 0,
      "outputs": []
    },
    {
      "cell_type": "code",
      "metadata": {
        "id": "udO8-npGLEf6",
        "colab_type": "code",
        "colab": {}
      },
      "source": [
        "# Path to the glove file \n",
        "glove_path = '/content/gdrive/My Drive/NLP_adv/glove/glove.6B.50d.txt'"
      ],
      "execution_count": 0,
      "outputs": []
    },
    {
      "cell_type": "code",
      "metadata": {
        "id": "jV9T3STwLGtB",
        "colab_type": "code",
        "colab": {}
      },
      "source": [
        "# Imports\n",
        "import sys\n",
        "import numpy as np\n",
        "import pandas as pd\n",
        "import matplotlib.pyplot as plt\n",
        "\n",
        "from sklearn.ensemble import ExtraTreesClassifier, RandomForestClassifier\n",
        "from gensim.models import KeyedVectors"
      ],
      "execution_count": 0,
      "outputs": []
    },
    {
      "cell_type": "markdown",
      "metadata": {
        "id": "0aFE6xdk1HfK",
        "colab_type": "text"
      },
      "source": [
        "The Glove class has an inrface has been designed to have an interface very similar to that of a SkLearn model.\n",
        "In the Initialiser method, the glove directory is accessed and the file is opened and read. We then obtain word_vec_dictinary which contains all the words in glove and their respective embeddings, lst_embds containing all embeddings from glove and word_idxs containing all the words.\n",
        "The fit method is then initialised which takes the data set and returns or does nothing. It only serves to mimic the SkLearn interface.\n",
        "The transform method goes through the data and substitutes each word of each sentence with its corresponding embedding vector from glove. It then finds the mean of all word embeddings accross the columns. "
      ]
    },
    {
      "cell_type": "code",
      "metadata": {
        "id": "7AIYUdV0zYX0",
        "colab_type": "code",
        "colab": {}
      },
      "source": [
        ""
      ],
      "execution_count": 0,
      "outputs": []
    },
    {
      "cell_type": "code",
      "metadata": {
        "id": "U5T1zgsiLLnh",
        "colab_type": "code",
        "colab": {}
      },
      "source": [
        "class Glove:\n",
        "  def __init__(self):\n",
        "    # load in pre-trained word vectors\n",
        "    print('Loading word vectors...')\n",
        "\n",
        "    word_vec_dict = {}\n",
        "    lst_of_embds = []\n",
        "    word_idxs = []\n",
        "    with open(glove_path) as f:\n",
        "      for line in f:\n",
        "        values = line.split()\n",
        "        word = values[0]\n",
        "        vec = np.asarray(values[1:], dtype='float32')\n",
        "        word_vec_dict[word] = vec\n",
        "        lst_of_embds.append(vec)\n",
        "        word_idxs.append(word)\n",
        "    print('Found %s word vectors.' % len(word_vec_dict))\n",
        "    self.word_vec_dict = word_vec_dict\n",
        "    self.lst_of_embds = np.array(lst_of_embds)\n",
        "    self.word2idx = {v:k for k,v in enumerate(word_idxs)}\n",
        "    self.V, self.D = self.lst_of_embds.shape\n",
        "\n",
        "  def fit(self, data):\n",
        "    pass\n",
        "\n",
        "  def transform(self, data):\n",
        "    X = np.zeros((len(data), self.D))\n",
        "    n = 0\n",
        "    emptycount = 0\n",
        "    for sentence in data:\n",
        "      #print(sentence)\n",
        "      tokens = sentence.lower().split()\n",
        "      #print(\"Lenght of Tokens is: \",len(tokens))\n",
        "      #print(\"tokens are: \",tokens)\n",
        "      all_vectors = []\n",
        "      for word in tokens:\n",
        "        #print(\"word is: \",word)\n",
        "        if word in self.word_vec_dict:\n",
        "          single_vec = self.word_vec_dict[word]\n",
        "          #print(\"single_vec is: \",single_vec)\n",
        "          all_vectors.append(single_vec)\n",
        "          #print(\"#######################################\")\n",
        "          #print(\"all_vectors is: \",all_vectors)\n",
        "      if len(all_vectors) > 0:\n",
        "        all_vectors = np.array(all_vectors)\n",
        "        #print(\"all_vectors after np array are now: \",all_vectors)\n",
        "        X[n] = all_vectors.mean(axis=0)\n",
        "        #print(\"X is: \",X)\n",
        "        #print(\"X[n] is: \",X[n])\n",
        "      else:\n",
        "        emptycount += 1\n",
        "      n += 1\n",
        "    print(\"Numer of samples containing no words found: %s / %s\" % (emptycount, len(data)))\n",
        "    return X\n",
        "\n",
        "  def fit_transform(self, data):\n",
        "    self.fit(data)\n",
        "    return self.transform(data)"
      ],
      "execution_count": 0,
      "outputs": []
    },
    {
      "cell_type": "markdown",
      "metadata": {
        "id": "90uFLGfP4S6J",
        "colab_type": "text"
      },
      "source": [
        "For this part of the project, two classifiers from SkLearn will be used - Random Forest and Extra Trees.\n"
      ]
    },
    {
      "cell_type": "code",
      "metadata": {
        "id": "fvp9qvfwLQxQ",
        "colab_type": "code",
        "outputId": "458527c9-8ec8-4096-8925-2f7b759524e5",
        "colab": {
          "base_uri": "https://localhost:8080/",
          "height": 115
        }
      },
      "source": [
        "vectorizer = Glove()\n",
        "# vectorizer = Word2VecVectorizer()\n",
        "Xtrain = vectorizer.fit_transform(X_glove_train)\n",
        "Ytrain = Y_glove_train\n",
        "\n",
        "Xtest = vectorizer.transform(X_glove_test)\n",
        "Ytest = Y_glove_test\n",
        "\n",
        "\n",
        "\n",
        "# create the model, train it, print scores\n",
        "model = RandomForestClassifier(n_estimators=200)\n",
        "model.fit(Xtrain, Ytrain)\n",
        "print(\"train score:\", model.score(Xtrain, Ytrain))\n",
        "print(\"test score:\", model.score(Xtest, Ytest))"
      ],
      "execution_count": 49,
      "outputs": [
        {
          "output_type": "stream",
          "text": [
            "Loading word vectors...\n",
            "Found 400000 word vectors.\n",
            "Numer of samples containing no words found: 0 / 644\n",
            "Numer of samples containing no words found: 0 / 318\n",
            "train score: 1.0\n",
            "test score: 0.9779874213836478\n"
          ],
          "name": "stdout"
        }
      ]
    },
    {
      "cell_type": "code",
      "metadata": {
        "id": "pQoCR5Q8LTQo",
        "colab_type": "code",
        "outputId": "33c6aac3-13ff-45d9-a707-fba6c486366b",
        "colab": {
          "base_uri": "https://localhost:8080/",
          "height": 570
        }
      },
      "source": [
        "# Extra trees classifier\n",
        "params = {'n_estimators':100,\n",
        "          'criterion':'gini',\n",
        "          'min_samples_leaf':1,\n",
        "          'max_features':'auto'\n",
        "          }\n",
        "model = ExtraTreesClassifier(**params)\n",
        "model.fit(Xtrain, Ytrain)\n",
        "print(\"train score:\", model.score(Xtrain, Ytrain))\n",
        "print(\"test score:\", model.score(Xtest, Ytest))\n",
        "predictions = model.predict(Xtest)\n",
        "print(metrics.classification_report(Ytest,predictions))"
      ],
      "execution_count": 50,
      "outputs": [
        {
          "output_type": "stream",
          "text": [
            "train score: 1.0\n",
            "test score: 0.9779874213836478\n",
            "              precision    recall  f1-score   support\n",
            "\n",
            "           0       1.00      1.00      1.00         7\n",
            "           1       1.00      1.00      1.00         8\n",
            "           2       1.00      0.78      0.88         9\n",
            "           3       1.00      1.00      1.00         9\n",
            "           4       1.00      0.75      0.86        16\n",
            "           5       1.00      1.00      1.00         6\n",
            "           6       0.85      1.00      0.92        11\n",
            "           7       1.00      1.00      1.00         7\n",
            "           8       1.00      0.93      0.96        14\n",
            "           9       1.00      1.00      1.00         8\n",
            "          10       1.00      1.00      1.00        10\n",
            "          11       1.00      1.00      1.00         9\n",
            "          12       1.00      1.00      1.00        17\n",
            "          13       1.00      1.00      1.00        19\n",
            "          14       1.00      1.00      1.00        10\n",
            "          15       1.00      1.00      1.00        35\n",
            "          16       0.89      1.00      0.94        16\n",
            "          17       1.00      1.00      1.00         6\n",
            "          18       1.00      1.00      1.00        18\n",
            "          19       0.85      1.00      0.92        11\n",
            "          20       1.00      1.00      1.00        16\n",
            "          21       0.92      1.00      0.96        11\n",
            "          22       1.00      1.00      1.00        15\n",
            "          23       1.00      1.00      1.00        17\n",
            "          24       1.00      1.00      1.00        13\n",
            "\n",
            "    accuracy                           0.98       318\n",
            "   macro avg       0.98      0.98      0.98       318\n",
            "weighted avg       0.98      0.98      0.98       318\n",
            "\n"
          ],
          "name": "stdout"
        }
      ]
    },
    {
      "cell_type": "markdown",
      "metadata": {
        "id": "jAiXH_qC8cfs",
        "colab_type": "text"
      },
      "source": [
        "The two classifiers both produce very high and identical overall accuracy scores. "
      ]
    },
    {
      "cell_type": "markdown",
      "metadata": {
        "id": "udjV22OQLgzZ",
        "colab_type": "text"
      },
      "source": [
        "# Method 3: Deriving a word2vec from the Resume Dataset\n",
        "In this subsection, Word2Vec embeddings will be derived. \n",
        "The method that will be used will be skip-grams and negative sampling.\n",
        "\n",
        "The link below can be used to obtain a diagram of a skip-gram.\n",
        "The sentence which has been outlined is: \"The yellow car crashed into the tree\".\n",
        "https://drive.google.com/open?id=1-0KZLsDpFt01ycCSH5WsOgCWQe70ZeMj\n",
        "\n",
        "The idea behind a skip-gram is that given a middle word as an input we try to predict the words around it. From the diagram shown in the link above we can see that given the input word \"car\" we try to find the conditional probability that given the input word \"car\" what is the probability the words \"the\",\"yellow\",\"crashed\" and \"into\". Essentially we have a standart neural network for multiclass classification, the main difference is that there is no activation function between the input and the hidden layer.   \n",
        "\n",
        "The value at the hidden layer then is equal to:\n",
        "h = W1[input] which is a D sized vector\n",
        "\n",
        "The output probability then becomes:\n",
        "P(y|input) = softmax((W2.T).dot(h)).\n",
        "\n",
        "\n",
        "The weight matrixes W1 and W2 will be updated through stochastic gradient descent. The function in the code is: **stoch_grad_descent**.\n",
        "\n",
        "Negative sampling is also used to reduce the number of samples we train on.\n",
        "\n",
        "The functions used in the code are:\n",
        " - sentences_wordidx_dic - which goes through each word within each \n",
        "\n",
        "\n",
        "\n"
      ]
    },
    {
      "cell_type": "code",
      "metadata": {
        "id": "FyVYdpwlLZ9J",
        "colab_type": "code",
        "outputId": "cd1065eb-7cd7-4ade-dd11-4f89353a078e",
        "colab": {
          "base_uri": "https://localhost:8080/",
          "height": 212
        }
      },
      "source": [
        "# Visualising the data\n",
        "data_cleaned_act.Resume_cls"
      ],
      "execution_count": 51,
      "outputs": [
        {
          "output_type": "execute_result",
          "data": {
            "text/plain": [
              "0      Skills Programming Languages Python pandas num...\n",
              "1      Education Details May 2013 to May 2017 B E UIT...\n",
              "2      Areas of Interest Deep Learning Control System...\n",
              "3      Skills R Python SAP HANA Tableau SAP HANA SQL ...\n",
              "4      Education Details MCA YMCAUST Faridabad Haryan...\n",
              "                             ...                        \n",
              "957    Computer Skills Proficient in MS office Word B...\n",
              "958     Willingness to a ept the challenges Positive ...\n",
              "959    PERSONAL SKILLS Quick learner Eagerness to lea...\n",
              "960    COMPUTER SKILLS SOFTWARE KNOWLEDGE MS Power Po...\n",
              "961    Skill Set OS Windows XP 7 8 8 1 10 Database MY...\n",
              "Name: Resume_cls, Length: 962, dtype: object"
            ]
          },
          "metadata": {
            "tags": []
          },
          "execution_count": 51
        }
      ]
    },
    {
      "cell_type": "code",
      "metadata": {
        "id": "PjFUGqRpNuCC",
        "colab_type": "code",
        "outputId": "e6432bf2-1166-4937-9df6-a7b2ae5b198e",
        "colab": {
          "base_uri": "https://localhost:8080/",
          "height": 218
        }
      },
      "source": [
        "data_cleaned_act.act_labels"
      ],
      "execution_count": 0,
      "outputs": [
        {
          "output_type": "execute_result",
          "data": {
            "text/plain": [
              "0       6\n",
              "1       6\n",
              "2       6\n",
              "3       6\n",
              "4       6\n",
              "       ..\n",
              "957    23\n",
              "958    23\n",
              "959    23\n",
              "960    23\n",
              "961    23\n",
              "Name: act_labels, Length: 962, dtype: int64"
            ]
          },
          "metadata": {
            "tags": []
          },
          "execution_count": 47
        }
      ]
    },
    {
      "cell_type": "code",
      "metadata": {
        "id": "yerHRuY9OuUR",
        "colab_type": "code",
        "colab": {}
      },
      "source": [
        "# get the Resume data into data_wvec and the labels to labels_wvec\n",
        "data_w2vec = data_cleaned_act.Resume_cls\n",
        "labels_w2vec = data_cleaned_act.act_labels"
      ],
      "execution_count": 0,
      "outputs": []
    },
    {
      "cell_type": "code",
      "metadata": {
        "id": "EnRE4Ru3Pb0Q",
        "colab_type": "code",
        "colab": {}
      },
      "source": [
        ""
      ],
      "execution_count": 0,
      "outputs": []
    },
    {
      "cell_type": "markdown",
      "metadata": {
        "id": "PCDAdE1XPt-5",
        "colab_type": "text"
      },
      "source": [
        "The **sentences_wordidx_dic** function returns a list of lists of unique indexes, each unique index corresponding to a unique word and a dictionary consisting of each unique word as a key and an index as a value.\n",
        "The function starts by looping through each word in each sentence in the Resumes. A dictionary called word_counts is created containing each word as a key and the number of times each word appears as a count.\n",
        "The wordidx_dic dictionary is then created by using enumerate on a sorted word_counts. A second loop is then used to go over the Resumes again and extract each index from the wordidx_dic dictionary. The sentences and the wordidx_dic dictionary are then returned."
      ]
    },
    {
      "cell_type": "code",
      "metadata": {
        "id": "9iSmkl2wPose",
        "colab_type": "code",
        "colab": {}
      },
      "source": [
        "def sentences_wordidx_dic():\n",
        "  V = 7550\n",
        "  sents = []\n",
        "  word_counts = {} # contains a word and its count\n",
        "  wordidx_dic = {}\n",
        "\n",
        "  for line in data_w2vec:\n",
        "    if len(line) > 0:\n",
        "      tokens = line.lower().split()\n",
        "      for word in tokens:\n",
        "        if word not in word_counts:\n",
        "          word_counts[word] = 0\n",
        "        word_counts[word] +=1\n",
        "  sorted_word_counts = sorted(word_counts.items(),key=lambda x:x[1],reverse=True)\n",
        "  print(\"Done\")\n",
        "  #V = min(V,len(word_counts))\n",
        "\n",
        "  #total_words = [w for w,count in words_sorted[:V]]\n",
        "  #total_words = words_sorted\n",
        "  print(len(sorted_word_counts))\n",
        "\n",
        "\n",
        "  #word2idx = {w:i for i,w in enumerate(words_sorted)}\n",
        "  #word2idx = {w:i for i,w in enumerate(total_words)}\n",
        "  #enumerate returns key pairs of index and key\n",
        "\n",
        "  \n",
        "  wordidx_dic = {w:i for i,w in enumerate(word_counts)} # contains word and an index \n",
        "  print(\"Second Loop\")\n",
        "\n",
        "  for row in data_w2vec:\n",
        "    if len(row) > 0:\n",
        "      sep_words = row.lower().split()\n",
        "      single_sent = [wordidx_dic[w] for w in sep_words] # gives indexes in a single sentence\n",
        "    sents.append(single_sent)\n",
        "  \n",
        "\n",
        "  return sents,wordidx_dic"
      ],
      "execution_count": 0,
      "outputs": []
    },
    {
      "cell_type": "markdown",
      "metadata": {
        "id": "J_j8JkcTXnIH",
        "colab_type": "text"
      },
      "source": [
        "The **neg_sampling** returns the negative sampling distribution from which we sample to  obtain the negative samples."
      ]
    },
    {
      "cell_type": "code",
      "metadata": {
        "id": "pI3dCQC5PdOV",
        "colab_type": "code",
        "colab": {}
      },
      "source": [
        "def neg_sampling(sentences, vocab_size):\n",
        "  # Pn(w) = prob of word occuring\n",
        "  # we would like to sample the negative samples\n",
        "  # such that words that occur more often\n",
        "  # should be sampled more often\n",
        "\n",
        "  word_freq = np.zeros(vocab_size)\n",
        "  word_count = sum(len(sentence) for sentence in sentences)\n",
        "  for sentence in sentences:\n",
        "      for word in sentence:\n",
        "          word_freq[word] += 1\n",
        "\n",
        "  neg_prob = (word_freq**0.75)/(word_freq**0.75).sum()\n",
        "  # smooth it\n",
        "  #p_neg = word_freq**0.75\n",
        "\n",
        "  # normalize it\n",
        "  #p_neg = p_neg / p_neg.sum()\n",
        "\n",
        "  assert(np.all(neg_prob > 0))\n",
        "  return neg_prob"
      ],
      "execution_count": 0,
      "outputs": []
    },
    {
      "cell_type": "code",
      "metadata": {
        "id": "uNWzAvdzQbNl",
        "colab_type": "code",
        "outputId": "20f226f6-e3e3-4607-e4aa-64c0c51f18f0",
        "colab": {
          "base_uri": "https://localhost:8080/",
          "height": 67
        }
      },
      "source": [
        "# Testing sentences_wordidx_dic()\n",
        "sentences,wordidx_dic = sentences_wordidx_dic()"
      ],
      "execution_count": 0,
      "outputs": [
        {
          "output_type": "stream",
          "text": [
            "Done\n",
            "7601\n",
            "Second Loop\n"
          ],
          "name": "stdout"
        }
      ]
    },
    {
      "cell_type": "code",
      "metadata": {
        "id": "qe_Beru6Qh5q",
        "colab_type": "code",
        "colab": {}
      },
      "source": [
        "# Size of the vocabulary\n",
        "vocab_size = vocab_size = len(wordidx_dic)"
      ],
      "execution_count": 0,
      "outputs": []
    },
    {
      "cell_type": "code",
      "metadata": {
        "id": "kJcxyJx9Qsxm",
        "colab_type": "code",
        "colab": {}
      },
      "source": [
        "# Obtain negative probability distribution\n",
        "probs = neg_sampling(sentences,vocab_size)"
      ],
      "execution_count": 0,
      "outputs": []
    },
    {
      "cell_type": "code",
      "metadata": {
        "id": "MAxTKAVjQ0A6",
        "colab_type": "code",
        "outputId": "2a044586-729a-48b5-b44a-acbef9a8e96f",
        "colab": {
          "base_uri": "https://localhost:8080/",
          "height": 50
        }
      },
      "source": [
        "probs"
      ],
      "execution_count": 0,
      "outputs": [
        {
          "output_type": "execute_result",
          "data": {
            "text/plain": [
              "array([1.56061994e-03, 5.85402117e-04, 5.78555248e-04, ...,\n",
              "       5.12866635e-05, 5.12866635e-05, 5.12866635e-05])"
            ]
          },
          "metadata": {
            "tags": []
          },
          "execution_count": 54
        }
      ]
    },
    {
      "cell_type": "code",
      "metadata": {
        "id": "lyo3nQ6hPpXI",
        "colab_type": "code",
        "colab": {}
      },
      "source": [
        ""
      ],
      "execution_count": 0,
      "outputs": []
    },
    {
      "cell_type": "code",
      "metadata": {
        "id": "h45z3jBwdUwW",
        "colab_type": "code",
        "colab": {}
      },
      "source": [
        "#probs = get_negative_sampling_distribution(sentences,vocab_size)"
      ],
      "execution_count": 0,
      "outputs": []
    },
    {
      "cell_type": "code",
      "metadata": {
        "id": "qmtUY613dOsb",
        "colab_type": "code",
        "outputId": "c7dcc21f-3d02-448c-c037-531623887eb3",
        "colab": {
          "base_uri": "https://localhost:8080/",
          "height": 50
        }
      },
      "source": [
        "probs"
      ],
      "execution_count": 0,
      "outputs": [
        {
          "output_type": "execute_result",
          "data": {
            "text/plain": [
              "array([1.56061994e-03, 5.85402117e-04, 5.78555248e-04, ...,\n",
              "       5.12866635e-05, 5.12866635e-05, 5.12866635e-05])"
            ]
          },
          "metadata": {
            "tags": []
          },
          "execution_count": 53
        }
      ]
    },
    {
      "cell_type": "code",
      "metadata": {
        "id": "aQQnnkTfhNml",
        "colab_type": "code",
        "colab": {}
      },
      "source": [
        "def skip_gram_true_context(pos, sentence, window_size):\n",
        " \n",
        "  start = max(0, pos - window_size)\n",
        "  end_  = min(len(sentence), pos + window_size)\n",
        "\n",
        "  skip_gram_output_context = []\n",
        "  for skip_pos, word_idx in enumerate(sentence[start:end_], start=start):\n",
        "    if skip_pos != pos:\n",
        "      skip_gram_output_context.append(word_idx)\n",
        "  return skip_gram_output_context"
      ],
      "execution_count": 0,
      "outputs": []
    },
    {
      "cell_type": "code",
      "metadata": {
        "id": "vkMeVgKadQrz",
        "colab_type": "code",
        "colab": {}
      },
      "source": [
        ""
      ],
      "execution_count": 0,
      "outputs": []
    },
    {
      "cell_type": "markdown",
      "metadata": {
        "id": "fz-ppYXsi5nv",
        "colab_type": "text"
      },
      "source": [
        "The **stoch_grad_descent** performs stochastic gradient descent to update the two weight metrixes. W1 is of size VxD and W2 is of size DxV where V is the vocabulary size and D is the size of the each embedding vector. The skip-gram approach is used where the middle word is the input and the predictions are its surrounding words"
      ]
    },
    {
      "cell_type": "code",
      "metadata": {
        "id": "Pv0rY8lalCKp",
        "colab_type": "code",
        "colab": {}
      },
      "source": [
        "def stoch_grad_descent(input_, targets, label, learning_rate, W1, W2):\n",
        " \n",
        "  output_prob = sigmoid(W1[input_].dot(W2[:,targets]))\n",
        "  # gradients\n",
        "  gW2 = np.outer(W1[input_], output_prob - label) \n",
        "  gW1 = np.sum((output_prob - label)*W2[:,targets], axis=1) \n",
        "\n",
        "  W2[:,targets] -= learning_rate*gW2 \n",
        "  W1[input_] -= learning_rate*gW1 \n",
        "\n",
        "  cost = label * np.log(output_prob + 1e-10) + (1 - label) * np.log(1 - output_prob + 1e-10) # cost function for binary cross entropy\n",
        "  return cost.sum()"
      ],
      "execution_count": 0,
      "outputs": []
    },
    {
      "cell_type": "code",
      "metadata": {
        "id": "F39OgmJAi2Zt",
        "colab_type": "code",
        "colab": {}
      },
      "source": [
        ""
      ],
      "execution_count": 0,
      "outputs": []
    },
    {
      "cell_type": "code",
      "metadata": {
        "id": "E6_sdQGCtx50",
        "colab_type": "code",
        "colab": {}
      },
      "source": [
        "def word_to_vec_model_train(savedir):\n",
        "  # get the data\n",
        "  sentences, word2idx = sentences_wordidx_dic() #get_brown()\n",
        "\n",
        "\n",
        "  # number of unique words\n",
        "  vocab_size = len(word2idx)\n",
        "\n",
        "\n",
        "  # config\n",
        "  window_size = 5#how many surrounding words we are going to predict\n",
        "  learning_rate = 0.025\n",
        "  final_learning_rate = 0.0001\n",
        "  num_negatives = 5 # number of negative samples to draw per input word\n",
        "  epochs = 20\n",
        "  D = 50 # word embedding size\n",
        "\n",
        "\n",
        "  # learning rate decay\n",
        "  learning_rate_delta = (learning_rate - final_learning_rate) / epochs\n",
        "\n",
        "\n",
        "  # Weight Matrixes in the skip-gram\n",
        "  W1 = np.random.randn(vocab_size, D) # input-to-hidden\n",
        "  W2 = np.random.randn(D, vocab_size) # hidden-to-output\n",
        "\n",
        "\n",
        "  # Negative Sample Distribution\n",
        "  p_neg = neg_sampling(sentences, vocab_size)\n",
        "\n",
        "\n",
        "  # A list to hold all the cost\n",
        "  # Usefull to ensure that the cost is decreasing for each iteration\n",
        "  costs = []\n",
        "\n",
        "\n",
        "  # Number of total words\n",
        "  total_words = sum(len(sentence) for sentence in sentences)\n",
        "  print(\"total number of words in corpus:\", total_words)\n",
        "\n",
        "  # Subsampling distribution\n",
        "  threshold = 1e-5 # standart value for the threshold\n",
        "  p_drop = 1 - np.sqrt(threshold / p_neg)\n",
        "\n",
        "\n",
        "  # train the model\n",
        "  for epoch in range(epochs):\n",
        "    # randomly order sentences so we don't always see\n",
        "    # sentences in the same order\n",
        "    np.random.shuffle(sentences)\n",
        "\n",
        "    # accumulate the cost\n",
        "    cost = 0\n",
        "    counter = 0\n",
        "    t0 = datetime.now()\n",
        "    for sentence in sentences:\n",
        "      # Words are being droped based on the subsampling distribution\n",
        "      sentence = [w for w in sentence \\\n",
        "        if np.random.random() < (1 - p_drop[w])\n",
        "      ]\n",
        "      if len(sentence) < 2:\n",
        "        continue\n",
        "\n",
        "\n",
        "      # randomises the word order\n",
        "      randomly_ordered_positions = np.random.choice(\n",
        "        len(sentence),\n",
        "        size=len(sentence),\n",
        "        replace=False,\n",
        "      )\n",
        "\n",
        "      # For each possition in the random possitions obtain\n",
        "      # the actual word \n",
        "      for pos in randomly_ordered_positions:\n",
        "        word = sentence[pos]\n",
        "        \n",
        "        skip_gram_context_words = skip_gram_true_context(pos, sentence, window_size)\n",
        "        neg_sampled_word = np.random.choice(vocab_size, p=p_neg)\n",
        "        targets = np.array(skip_gram_context_words)\n",
        "\n",
        "        # perform stochastic grad descent for a contexual word and a negative\n",
        "        # word. The label changes between 0 and 1 depending on whether the word is \n",
        "        # contexual or negative\n",
        "        c = stoch_grad_descent(word, targets, 1, learning_rate, W1, W2)\n",
        "        cost += c\n",
        "        c = stoch_grad_descent(neg_sampled_word, targets, 0, learning_rate, W1, W2)\n",
        "        cost += c\n",
        "\n",
        "      counter += 1\n",
        "      if counter % 100 == 0:\n",
        "        sys.stdout.write(\"processed %s / %s\\r\" % (counter, len(sentences)))\n",
        "        sys.stdout.flush()\n",
        "        \n",
        "\n",
        "\n",
        "    # Output the cost at each epoch\n",
        "    dt = datetime.now() - t0\n",
        "    print(\"NUmber of epochs secessfully completed:\", epoch, \"Total cost:\", cost, \"Time:\", dt)\n",
        "\n",
        "    # Append the cost to the total list of costs.\n",
        "    costs.append(cost)\n",
        "\n",
        "    # update the learning rate\n",
        "    learning_rate -= learning_rate_delta\n",
        "\n",
        "\n",
        "  # After looping over the epochs has been completed, plot the gathered costs\n",
        "  # It is expected that the cost will be decreasing per iteration\n",
        "  plt.plot(costs)\n",
        "  plt.show()\n",
        "\n",
        "\n",
        "  # save the model\n",
        "  if not os.path.exists(savedir):\n",
        "    os.mkdir(savedir)\n",
        "\n",
        "  with open('%s/word2idx_real2.json' % savedir, 'w') as f:\n",
        "    json.dump(word2idx, f)\n",
        "\n",
        "  np.savez('%s/weights_real2.npz' % savedir, W1, W2)\n",
        "\n",
        "  # return the model\n",
        "  return word2idx, W1, W2\n"
      ],
      "execution_count": 0,
      "outputs": []
    },
    {
      "cell_type": "code",
      "metadata": {
        "id": "-M0UaJ9_t4YO",
        "colab_type": "code",
        "colab": {}
      },
      "source": [
        "import os\n",
        "import json\n",
        "import numpy as np\n",
        "import matplotlib.pyplot as plt\n",
        "from scipy.special import expit as sigmoid\n",
        "from sklearn.utils import shuffle\n",
        "from datetime import datetime\n",
        "# from util import find_analogies\n",
        "\n",
        "from scipy.spatial.distance import cosine as cos_dist\n",
        "from sklearn.metrics.pairwise import pairwise_distances"
      ],
      "execution_count": 0,
      "outputs": []
    },
    {
      "cell_type": "code",
      "metadata": {
        "id": "sSnIjmkat4VP",
        "colab_type": "code",
        "colab": {}
      },
      "source": [
        "dir = \"/content/gdrive/My Drive/NLP_adv\""
      ],
      "execution_count": 0,
      "outputs": []
    },
    {
      "cell_type": "code",
      "metadata": {
        "id": "yKqnUL8_t4NT",
        "colab_type": "code",
        "outputId": "a351a643-f26e-4c17-81c7-05227ab2d6a1",
        "colab": {
          "base_uri": "https://localhost:8080/",
          "height": 1000
        }
      },
      "source": [
        "# Training the Model\n",
        "word_to_vec_model_train(dir)"
      ],
      "execution_count": 0,
      "outputs": [
        {
          "output_type": "stream",
          "text": [
            "Done\n",
            "7601\n",
            "Second Loop\n",
            "total number of words in corpus: 412242\n",
            "epoch complete: 0 cost: -2080417.4513326641 dt: 0:00:20.276647\n",
            "epoch complete: 1 cost: -1337825.2145914442 dt: 0:00:20.545005\n",
            "epoch complete: 2 cost: -1087883.7925485543 dt: 0:00:20.399265\n",
            "epoch complete: 3 cost: -978870.8279356859 dt: 0:00:20.463782\n",
            "epoch complete: 4 cost: -907613.9141857132 dt: 0:00:20.625189\n",
            "epoch complete: 5 cost: -862232.3551801858 dt: 0:00:20.597663\n",
            "epoch complete: 6 cost: -835966.9123226118 dt: 0:00:20.433946\n",
            "epoch complete: 7 cost: -807165.3091662242 dt: 0:00:20.417893\n",
            "epoch complete: 8 cost: -792172.5368010179 dt: 0:00:20.503551\n",
            "epoch complete: 9 cost: -777878.9530961068 dt: 0:00:20.516562\n",
            "epoch complete: 10 cost: -766400.548884251 dt: 0:00:20.478169\n",
            "epoch complete: 11 cost: -748549.1173835476 dt: 0:00:20.427334\n",
            "epoch complete: 12 cost: -741004.4862009548 dt: 0:00:20.271091\n",
            "epoch complete: 13 cost: -734375.6792659628 dt: 0:00:20.346901\n",
            "epoch complete: 14 cost: -726082.2095136187 dt: 0:00:20.366640\n",
            "epoch complete: 15 cost: -713613.7261346035 dt: 0:00:20.208900\n",
            "epoch complete: 16 cost: -715167.268185601 dt: 0:00:20.443855\n",
            "epoch complete: 17 cost: -712065.370543206 dt: 0:00:20.412169\n",
            "epoch complete: 18 cost: -707036.3429559106 dt: 0:00:20.311727\n",
            "epoch complete: 19 cost: -701862.2398046429 dt: 0:00:20.448376\n"
          ],
          "name": "stdout"
        },
        {
          "output_type": "display_data",
          "data": {
            "image/png": "[encoded data removed]",
            "text/plain": [
              "<Figure size 432x288 with 1 Axes>"
            ]
          },
          "metadata": {
            "tags": []
          }
        },
        {
          "output_type": "execute_result",
          "data": {
            "text/plain": [
              "({'skills': 0,\n",
              "  'programming': 1,\n",
              "  'languages': 2,\n",
              "  'python': 3,\n",
              "  'pandas': 4,\n",
              "  'numpy': 5,\n",
              "  'scipy': 6,\n",
              "  'scikit': 7,\n",
              "  'learn': 8,\n",
              "  'matplotlib': 9,\n",
              "  'sql': 10,\n",
              "  'java': 11,\n",
              "  'javascript': 12,\n",
              "  'jquery': 13,\n",
              "  'machine': 14,\n",
              "  'learning': 15,\n",
              "  'regression': 16,\n",
              "  'svm': 17,\n",
              "  'na': 18,\n",
              "  've': 19,\n",
              "  'bayes': 20,\n",
              "  'knn': 21,\n",
              "  'random': 22,\n",
              "  'forest': 23,\n",
              "  'decision': 24,\n",
              "  'trees': 25,\n",
              "  'boosting': 26,\n",
              "  'techniques': 27,\n",
              "  'cluster': 28,\n",
              "  'analysis': 29,\n",
              "  'word': 30,\n",
              "  'embedding': 31,\n",
              "  'sentiment': 32,\n",
              "  'natural': 33,\n",
              "  'language': 34,\n",
              "  'processing': 35,\n",
              "  'dimensionality': 36,\n",
              "  'reduction': 37,\n",
              "  'topic': 38,\n",
              "  'modelling': 39,\n",
              "  'lda': 40,\n",
              "  'nmf': 41,\n",
              "  'pca': 42,\n",
              "  'neural': 43,\n",
              "  'nets': 44,\n",
              "  'database': 45,\n",
              "  'visualizations': 46,\n",
              "  'mysql': 47,\n",
              "  'sqlserver': 48,\n",
              "  'cassandra': 49,\n",
              "  'hbase': 50,\n",
              "  'elasticsearch': 51,\n",
              "  'd3': 52,\n",
              "  'js': 53,\n",
              "  'dc': 54,\n",
              "  'plotly': 55,\n",
              "  'kibana': 56,\n",
              "  'ggplot': 57,\n",
              "  'tableau': 58,\n",
              "  'others': 59,\n",
              "  'regular': 60,\n",
              "  'expression': 61,\n",
              "  'html': 62,\n",
              "  'css': 63,\n",
              "  'angular': 64,\n",
              "  '6': 65,\n",
              "  'logstash': 66,\n",
              "  'kafka': 67,\n",
              "  'flask': 68,\n",
              "  'git': 69,\n",
              "  'docker': 70,\n",
              "  'computer': 71,\n",
              "  'vision': 72,\n",
              "  'open': 73,\n",
              "  'cv': 74,\n",
              "  'and': 75,\n",
              "  'understanding': 76,\n",
              "  'of': 77,\n",
              "  'deep': 78,\n",
              "  'education': 79,\n",
              "  'details': 80,\n",
              "  'data': 81,\n",
              "  'science': 82,\n",
              "  'assurance': 83,\n",
              "  'associate': 84,\n",
              "  'ernst': 85,\n",
              "  'young': 86,\n",
              "  'llp': 87,\n",
              "  'skill': 88,\n",
              "  'exprience': 89,\n",
              "  '24': 90,\n",
              "  'months': 91,\n",
              "  'monthscompany': 92,\n",
              "  'company': 93,\n",
              "  'description': 94,\n",
              "  'fraud': 95,\n",
              "  'investigations': 96,\n",
              "  'dispute': 97,\n",
              "  'services': 98,\n",
              "  'technology': 99,\n",
              "  'assisted': 100,\n",
              "  'review': 101,\n",
              "  'tar': 102,\n",
              "  'assists': 103,\n",
              "  'in': 104,\n",
              "  'a': 105,\n",
              "  'elerating': 106,\n",
              "  'the': 107,\n",
              "  'process': 108,\n",
              "  'run': 109,\n",
              "  'analytics': 110,\n",
              "  'generate': 111,\n",
              "  'reports': 112,\n",
              "  'core': 113,\n",
              "  'member': 114,\n",
              "  'team': 115,\n",
              "  'helped': 116,\n",
              "  'developing': 117,\n",
              "  'automated': 118,\n",
              "  'platform': 119,\n",
              "  'tool': 120,\n",
              "  'from': 121,\n",
              "  'scratch': 122,\n",
              "  'for': 123,\n",
              "  'assisting': 124,\n",
              "  'e': 125,\n",
              "  'discovery': 126,\n",
              "  'domain': 127,\n",
              "  'this': 128,\n",
              "  'implements': 129,\n",
              "  'predictive': 130,\n",
              "  'coding': 131,\n",
              "  'by': 132,\n",
              "  'automating': 133,\n",
              "  'reviews': 134,\n",
              "  'resulting': 135,\n",
              "  'reduced': 136,\n",
              "  'labor': 137,\n",
              "  'costs': 138,\n",
              "  'time': 139,\n",
              "  'spent': 140,\n",
              "  'during': 141,\n",
              "  'lawyers': 142,\n",
              "  'understand': 143,\n",
              "  'end': 144,\n",
              "  'to': 145,\n",
              "  'flow': 146,\n",
              "  'solution': 147,\n",
              "  'doing': 148,\n",
              "  'research': 149,\n",
              "  'development': 150,\n",
              "  'classification': 151,\n",
              "  'models': 152,\n",
              "  'mining': 153,\n",
              "  'information': 154,\n",
              "  'present': 155,\n",
              "  'text': 156,\n",
              "  'worked': 157,\n",
              "  'on': 158,\n",
              "  'analyzing': 159,\n",
              "  'outputs': 160,\n",
              "  'precision': 161,\n",
              "  'monitoring': 162,\n",
              "  'entire': 163,\n",
              "  'evidence': 164,\n",
              "  'following': 165,\n",
              "  'ey': 166,\n",
              "  'standards': 167,\n",
              "  'developed': 168,\n",
              "  'classifier': 169,\n",
              "  'order': 170,\n",
              "  'identify': 171,\n",
              "  'red': 172,\n",
              "  'flags': 173,\n",
              "  'related': 174,\n",
              "  'issues': 175,\n",
              "  'tools': 176,\n",
              "  'technologies': 177,\n",
              "  'tfidf': 178,\n",
              "  'word2vec': 179,\n",
              "  'doc2vec': 180,\n",
              "  'cosine': 181,\n",
              "  'similarity': 182,\n",
              "  'vader': 183,\n",
              "  'blob': 184,\n",
              "  'matplot': 185,\n",
              "  'lib': 186,\n",
              "  'dashboard': 187,\n",
              "  'reporting': 188,\n",
              "  'multiple': 189,\n",
              "  'analytic': 190,\n",
              "  'projects': 191,\n",
              "  'usa': 192,\n",
              "  'clients': 193,\n",
              "  'motor': 194,\n",
              "  'vehicle': 195,\n",
              "  'customer': 196,\n",
              "  'received': 197,\n",
              "  'feedback': 198,\n",
              "  'survey': 199,\n",
              "  'past': 200,\n",
              "  'one': 201,\n",
              "  'year': 202,\n",
              "  'performed': 203,\n",
              "  'positive': 204,\n",
              "  'negative': 205,\n",
              "  'neutral': 206,\n",
              "  'series': 207,\n",
              "  'comments': 208,\n",
              "  'across': 209,\n",
              "  'all': 210,\n",
              "  '4': 211,\n",
              "  'categories': 212,\n",
              "  'created': 213,\n",
              "  'heat': 214,\n",
              "  'map': 215,\n",
              "  'terms': 216,\n",
              "  'category': 217,\n",
              "  'based': 218,\n",
              "  'frequency': 219,\n",
              "  'words': 220,\n",
              "  'extracted': 221,\n",
              "  'plotted': 222,\n",
              "  'cloud': 223,\n",
              "  'customized': 224,\n",
              "  'dashboards': 225,\n",
              "  'effective': 226,\n",
              "  'chatbot': 227,\n",
              "  'user': 228,\n",
              "  'friendly': 229,\n",
              "  'our': 230,\n",
              "  'products': 231,\n",
              "  'which': 232,\n",
              "  'handle': 233,\n",
              "  'simple': 234,\n",
              "  'questions': 235,\n",
              "  'about': 236,\n",
              "  'hours': 237,\n",
              "  'operation': 238,\n",
              "  'reservation': 239,\n",
              "  'options': 240,\n",
              "  'so': 241,\n",
              "  'chat': 242,\n",
              "  'bot': 243,\n",
              "  'serves': 244,\n",
              "  'product': 245,\n",
              "  'giving': 246,\n",
              "  'overview': 247,\n",
              "  'via': 248,\n",
              "  'qa': 249,\n",
              "  'also': 250,\n",
              "  'give': 251,\n",
              "  'recommendation': 252,\n",
              "  'responses': 253,\n",
              "  'that': 254,\n",
              "  'question': 255,\n",
              "  'build': 256,\n",
              "  'chain': 257,\n",
              "  'relevant': 258,\n",
              "  'answer': 259,\n",
              "  'too': 260,\n",
              "  'has': 261,\n",
              "  'intelligence': 262,\n",
              "  'pipeline': 263,\n",
              "  'as': 264,\n",
              "  'per': 265,\n",
              "  'requirement': 266,\n",
              "  'asks': 267,\n",
              "  'recommended': 268,\n",
              "  'nltk': 269,\n",
              "  'spacy': 270,\n",
              "  'governance': 271,\n",
              "  'organizations': 272,\n",
              "  'make': 273,\n",
              "  'informed': 274,\n",
              "  'decisions': 275,\n",
              "  'they': 276,\n",
              "  'store': 277,\n",
              "  'integrated': 278,\n",
              "  'portfolio': 279,\n",
              "  'synthesizes': 280,\n",
              "  'unstructured': 281,\n",
              "  'sources': 282,\n",
              "  'facilitates': 283,\n",
              "  'action': 284,\n",
              "  'ensure': 285,\n",
              "  'are': 286,\n",
              "  'best': 287,\n",
              "  'positioned': 288,\n",
              "  'counter': 289,\n",
              "  'risk': 290,\n",
              "  'scan': 291,\n",
              "  'formats': 292,\n",
              "  'parse': 293,\n",
              "  'different': 294,\n",
              "  'file': 295,\n",
              "  'extract': 296,\n",
              "  'meta': 297,\n",
              "  'push': 298,\n",
              "  'results': 299,\n",
              "  'indexing': 300,\n",
              "  'elastic': 301,\n",
              "  'search': 302,\n",
              "  'interactive': 303,\n",
              "  'using': 304,\n",
              "  'preforming': 305,\n",
              "  'rot': 306,\n",
              "  'helps': 307,\n",
              "  'content': 308,\n",
              "  'is': 309,\n",
              "  'either': 310,\n",
              "  'redundant': 311,\n",
              "  'outdated': 312,\n",
              "  'or': 313,\n",
              "  'trivial': 314,\n",
              "  'full': 315,\n",
              "  'with': 316,\n",
              "  'predefined': 317,\n",
              "  'methods': 318,\n",
              "  'can': 319,\n",
              "  'tag': 320,\n",
              "  'pii': 321,\n",
              "  'personally': 322,\n",
              "  'identifiable': 323,\n",
              "  'social': 324,\n",
              "  'security': 325,\n",
              "  'numbers': 326,\n",
              "  'addresses': 327,\n",
              "  'names': 328,\n",
              "  'etc': 329,\n",
              "  'frequently': 330,\n",
              "  'targeted': 331,\n",
              "  'cyber': 332,\n",
              "  'attacks': 333,\n",
              "  'investigative': 334,\n",
              "  'flag': 335,\n",
              "  'cases': 336,\n",
              "  'fap': 337,\n",
              "  'inbuilt': 338,\n",
              "  'case': 339,\n",
              "  'manager': 340,\n",
              "  'suite': 341,\n",
              "  'various': 342,\n",
              "  'erp': 343,\n",
              "  'systems': 344,\n",
              "  'it': 345,\n",
              "  'be': 346,\n",
              "  'used': 347,\n",
              "  'interrogate': 348,\n",
              "  'their': 349,\n",
              "  'ounting': 350,\n",
              "  'identifying': 351,\n",
              "  'anomalies': 352,\n",
              "  'indicators': 353,\n",
              "  'running': 354,\n",
              "  'advanced': 355,\n",
              "  'bootstrap': 356,\n",
              "  'node': 357,\n",
              "  'may': 358,\n",
              "  '2013': 359,\n",
              "  '2017': 360,\n",
              "  'b': 361,\n",
              "  'uit': 362,\n",
              "  'rgpv': 363,\n",
              "  'scientist': 364,\n",
              "  'matelabs': 365,\n",
              "  'less': 366,\n",
              "  'than': 367,\n",
              "  '1': 368,\n",
              "  'statsmodels': 369,\n",
              "  '12': 370,\n",
              "  'aws': 371,\n",
              "  'sklearn': 372,\n",
              "  'keras': 373,\n",
              "  'ml': 374,\n",
              "  'business': 375,\n",
              "  'professionals': 376,\n",
              "  'dummies': 377,\n",
              "  'enthusiasts': 378,\n",
              "  '60': 379,\n",
              "  'koramangala': 380,\n",
              "  '5th': 381,\n",
              "  'block': 382,\n",
              "  'achievements': 383,\n",
              "  'tasks': 384,\n",
              "  'behind': 385,\n",
              "  'sukh': 386,\n",
              "  'sagar': 387,\n",
              "  'bengaluru': 388,\n",
              "  'india': 389,\n",
              "  'deployed': 390,\n",
              "  'auto': 391,\n",
              "  'preprocessing': 392,\n",
              "  'steps': 393,\n",
              "  'mainly': 394,\n",
              "  'missing': 395,\n",
              "  'value': 396,\n",
              "  'treatment': 397,\n",
              "  'outlier': 398,\n",
              "  'detection': 399,\n",
              "  'encoding': 400,\n",
              "  'scaling': 401,\n",
              "  'feature': 402,\n",
              "  'selection': 403,\n",
              "  'model': 404,\n",
              "  'linkedin': 405,\n",
              "  'com': 406,\n",
              "  'aditya': 407,\n",
              "  'rathore': 408,\n",
              "  'b4600b146': 409,\n",
              "  'reasearch': 410,\n",
              "  'forecasting': 411,\n",
              "  'arima': 412,\n",
              "  'sarimax': 413,\n",
              "  'holt': 414,\n",
              "  'winter': 415,\n",
              "  'prophet': 416,\n",
              "  'extracting': 417,\n",
              "  'problem': 418,\n",
              "  'github': 419,\n",
              "  'rathorology': 420,\n",
              "  'implemented': 421,\n",
              "  'state': 422,\n",
              "  'art': 423,\n",
              "  'paper': 424,\n",
              "  'mixed': 425,\n",
              "  'attributes': 426,\n",
              "  'areas': 427,\n",
              "  'interest': 428,\n",
              "  'control': 429,\n",
              "  'system': 430,\n",
              "  'design': 431,\n",
              "  'electric': 432,\n",
              "  'machinery': 433,\n",
              "  'web': 434,\n",
              "  'technical': 435,\n",
              "  'activities': 436,\n",
              "  'q': 437,\n",
              "  'hindustan': 438,\n",
              "  'aeronautics': 439,\n",
              "  'limited': 440,\n",
              "  'bangalore': 441,\n",
              "  'weeks': 442,\n",
              "  'under': 443,\n",
              "  'guidance': 444,\n",
              "  'mr': 445,\n",
              "  'satish': 446,\n",
              "  'senior': 447,\n",
              "  'engineer': 448,\n",
              "  'hangar': 449,\n",
              "  'mirage': 450,\n",
              "  '2000': 451,\n",
              "  'fighter': 452,\n",
              "  'aircraft': 453,\n",
              "  'matlab': 454,\n",
              "  'labview': 455,\n",
              "  'webframework': 456,\n",
              "  'django': 457,\n",
              "  'ltspice': 458,\n",
              "  'intermediate': 459,\n",
              "  'mipower': 460,\n",
              "  'gitbash': 461,\n",
              "  'jupyter': 462,\n",
              "  'notebook': 463,\n",
              "  'xampp': 464,\n",
              "  'basics': 465,\n",
              "  'software': 466,\n",
              "  'packages': 467,\n",
              "  'interpreters': 468,\n",
              "  'anaconda': 469,\n",
              "  'python2': 470,\n",
              "  'python3': 471,\n",
              "  'pycharm': 472,\n",
              "  'ide': 473,\n",
              "  'eclipse': 474,\n",
              "  'operating': 475,\n",
              "  'windows': 476,\n",
              "  'ubuntu': 477,\n",
              "  'debian': 478,\n",
              "  'kali': 479,\n",
              "  'linux': 480,\n",
              "  'january': 481,\n",
              "  '2019': 482,\n",
              "  'tech': 483,\n",
              "  'electrical': 484,\n",
              "  'electronics': 485,\n",
              "  'engineering': 486,\n",
              "  'manipal': 487,\n",
              "  'institute': 488,\n",
              "  '2015': 489,\n",
              "  'deeksha': 490,\n",
              "  'center': 491,\n",
              "  'little': 492,\n",
              "  'flower': 493,\n",
              "  'public': 494,\n",
              "  'school': 495,\n",
              "  'august': 496,\n",
              "  'academy': 497,\n",
              "  'higher': 498,\n",
              "  'enthusiast': 499,\n",
              "  'excel': 500,\n",
              "  'mathematics': 501,\n",
              "  'themathcompany': 502,\n",
              "  'i': 503,\n",
              "  'am': 504,\n",
              "  'currently': 505,\n",
              "  'working': 506,\n",
              "  'casino': 507,\n",
              "  'operator': 508,\n",
              "  'name': 509,\n",
              "  'not': 510,\n",
              "  'disclosed': 511,\n",
              "  'macau': 512,\n",
              "  'need': 513,\n",
              "  'segment': 514,\n",
              "  'customers': 515,\n",
              "  'who': 516,\n",
              "  'visit': 517,\n",
              "  'property': 518,\n",
              "  'patrons': 519,\n",
              "  'bring': 520,\n",
              "  'into': 521,\n",
              "  'basically': 522,\n",
              "  'prove': 523,\n",
              "  'segmentation': 524,\n",
              "  'done': 525,\n",
              "  'much': 526,\n",
              "  'better': 527,\n",
              "  'way': 528,\n",
              "  'current': 529,\n",
              "  'have': 530,\n",
              "  'proper': 531,\n",
              "  'back': 532,\n",
              "  'up': 533,\n",
              "  'henceforth': 534,\n",
              "  'implement': 535,\n",
              "  'target': 536,\n",
              "  'marketing': 537,\n",
              "  'strategy': 538,\n",
              "  'attract': 539,\n",
              "  'add': 540,\n",
              "  'r': 541,\n",
              "  'sap': 542,\n",
              "  'hana': 543,\n",
              "  'pal': 544,\n",
              "  'ms': 545,\n",
              "  'lumira': 546,\n",
              "  'c': 547,\n",
              "  'linear': 548,\n",
              "  'advance': 549,\n",
              "  'scm': 550,\n",
              "  'retail': 551,\n",
              "  'media': 552,\n",
              "  'nlp': 553,\n",
              "  '2018': 554,\n",
              "  'pgdm': 555,\n",
              "  'great': 556,\n",
              "  'lakes': 557,\n",
              "  'management': 558,\n",
              "  'illinois': 559,\n",
              "  'bachelor': 560,\n",
              "  'communication': 561,\n",
              "  'karnataka': 562,\n",
              "  'new': 563,\n",
              "  'horizon': 564,\n",
              "  'college': 565,\n",
              "  'visvesvaraya': 566,\n",
              "  'technological': 567,\n",
              "  'university': 568,\n",
              "  'consultant': 569,\n",
              "  'deloitte': 570,\n",
              "  'usi': 571,\n",
              "  'project': 572,\n",
              "  'involved': 573,\n",
              "  'analysing': 574,\n",
              "  'historic': 575,\n",
              "  'deals': 576,\n",
              "  'coming': 577,\n",
              "  'insights': 578,\n",
              "  'optimize': 579,\n",
              "  'future': 580,\n",
              "  'role': 581,\n",
              "  'was': 582,\n",
              "  'given': 583,\n",
              "  'raw': 584,\n",
              "  'carried': 585,\n",
              "  'out': 586,\n",
              "  'presented': 587,\n",
              "  'client': 588,\n",
              "  'key': 589,\n",
              "  'responsibilities': 590,\n",
              "  'geographies': 591,\n",
              "  'infer': 592,\n",
              "  'meaningful': 593,\n",
              "  'prices': 594,\n",
              "  'find': 595,\n",
              "  'blockades': 596,\n",
              "  'environment': 597,\n",
              "  'industry': 598,\n",
              "  'cross': 599,\n",
              "  'service': 600,\n",
              "  'area': 601,\n",
              "  'handwriting': 602,\n",
              "  'recognition': 603,\n",
              "  '3': 604,\n",
              "  'taking': 605,\n",
              "  'handwritten': 606,\n",
              "  'images': 607,\n",
              "  'converting': 608,\n",
              "  'them': 609,\n",
              "  'digital': 610,\n",
              "  'object': 611,\n",
              "  'sentence': 612,\n",
              "  'creation': 613,\n",
              "  'correction': 614,\n",
              "  'functionality': 615,\n",
              "  'gather': 616,\n",
              "  'large': 617,\n",
              "  'enough': 618,\n",
              "  'capture': 619,\n",
              "  'english': 620,\n",
              "  'train': 621,\n",
              "  'lstm': 622,\n",
              "  'finance': 623,\n",
              "  'financial': 624,\n",
              "  'bi': 625,\n",
              "  'swift': 626,\n",
              "  '8': 627,\n",
              "  'develop': 628,\n",
              "  'an': 629,\n",
              "  'infrastructure': 630,\n",
              "  'top': 631,\n",
              "  's': 632,\n",
              "  'would': 633,\n",
              "  'view': 634,\n",
              "  'respective': 635,\n",
              "  'departments': 636,\n",
              "  'included': 637,\n",
              "  'expenses': 638,\n",
              "  'leading': 639,\n",
              "  'offshore': 640,\n",
              "  'etl': 641,\n",
              "  'validate': 642,\n",
              "  'ao': 643,\n",
              "  'healthcare': 644,\n",
              "  'life': 645,\n",
              "  'sciences': 646,\n",
              "  'clinical': 647,\n",
              "  '2': 648,\n",
              "  'argus': 649,\n",
              "  'allow': 650,\n",
              "  'users': 651,\n",
              "  'query': 652,\n",
              "  'faster': 653,\n",
              "  'provide': 654,\n",
              "  'capabilities': 655,\n",
              "  'deploy': 656,\n",
              "  'phase': 657,\n",
              "  'lot': 658,\n",
              "  'restructuring': 659,\n",
              "  'built': 660,\n",
              "  'analytical': 661,\n",
              "  'fmcg': 662,\n",
              "  'trade': 663,\n",
              "  'promotion': 664,\n",
              "  'consumption': 665,\n",
              "  'planning': 666,\n",
              "  'flowers': 667,\n",
              "  'foods': 668,\n",
              "  'setting': 669,\n",
              "  'crm': 670,\n",
              "  'cbp': 671,\n",
              "  'modules': 672,\n",
              "  'decomposition': 673,\n",
              "  'base': 674,\n",
              "  'forecast': 675,\n",
              "  'over': 676,\n",
              "  'course': 677,\n",
              "  'performance': 678,\n",
              "  'improvements': 679,\n",
              "  'views': 680,\n",
              "  'sales': 681,\n",
              "  'funds': 682,\n",
              "  'bobj': 683,\n",
              "  'internal': 684,\n",
              "  'initiative': 685,\n",
              "  'rfm': 686,\n",
              "  'interface': 687,\n",
              "  'had': 688,\n",
              "  'su': 689,\n",
              "  'essfully': 690,\n",
              "  'segmented': 691,\n",
              "  'five': 692,\n",
              "  'segments': 693,\n",
              "  'k': 694,\n",
              "  'means': 695,\n",
              "  'algorithm': 696,\n",
              "  'categorize': 697,\n",
              "  'any': 698,\n",
              "  'defined': 699,\n",
              "  'buckets': 700,\n",
              "  'anaconda3': 701,\n",
              "  'sps12': 702,\n",
              "  'telecom': 703,\n",
              "  'invoice': 704,\n",
              "  'reduce': 705,\n",
              "  'manual': 706,\n",
              "  'effort': 707,\n",
              "  'verifying': 708,\n",
              "  'closed': 709,\n",
              "  'invoices': 710,\n",
              "  'manually': 711,\n",
              "  'tree': 712,\n",
              "  'classify': 713,\n",
              "  'enabled': 714,\n",
              "  'enture': 715,\n",
              "  'experience': 716,\n",
              "  'developer': 717,\n",
              "  '19': 718,\n",
              "  'solutions': 719,\n",
              "  'pvt': 720,\n",
              "  'ltd': 721,\n",
              "  'ipa': 722,\n",
              "  'my': 723,\n",
              "  'objects': 724,\n",
              "  'operational': 725,\n",
              "  'kpis': 726,\n",
              "  'spearheaded': 727,\n",
              "  'deployments': 728,\n",
              "  'introduced': 729,\n",
              "  'reuse': 730,\n",
              "  'functionalities': 731,\n",
              "  'prepared': 732,\n",
              "  'production': 733,\n",
              "  'designed': 734,\n",
              "  'attribute': 735,\n",
              "  'calculation': 736,\n",
              "  'kpi': 737,\n",
              "  'individually': 738,\n",
              "  'complex': 739,\n",
              "  'scripts': 740,\n",
              "  'procedures': 741,\n",
              "  'took': 742,\n",
              "  'ownership': 743,\n",
              "  'building': 744,\n",
              "  'algorithms': 745,\n",
              "  'executed': 746,\n",
              "  'server': 747,\n",
              "  't': 748,\n",
              "  'testing': 749,\n",
              "  'elerator': 750,\n",
              "  '21': 751,\n",
              "  'taken': 752,\n",
              "  'care': 753,\n",
              "  'atas': 754,\n",
              "  'completed': 755,\n",
              "  'apart': 756,\n",
              "  'these': 757,\n",
              "  'actively': 758,\n",
              "  'maintenance': 759,\n",
              "  'servers': 760,\n",
              "  'quality': 761,\n",
              "  'requirements': 762,\n",
              "  'scope': 763,\n",
              "  'getting': 764,\n",
              "  'clarified': 765,\n",
              "  'interacting': 766,\n",
              "  'further': 767,\n",
              "  'transform': 768,\n",
              "  'mapping': 769,\n",
              "  'documents': 770,\n",
              "  'reviewing': 771,\n",
              "  'specification': 772,\n",
              "  'documentation': 773,\n",
              "  'create': 774,\n",
              "  'update': 775,\n",
              "  'like': 776,\n",
              "  'tables': 777,\n",
              "  'stored': 778,\n",
              "  'function': 779,\n",
              "  'monitored': 780,\n",
              "  'error': 781,\n",
              "  'logs': 782,\n",
              "  'application': 783,\n",
              "  'through': 784,\n",
              "  'agent': 785,\n",
              "  'diagrams': 786,\n",
              "  'entity': 787,\n",
              "  'relationship': 788,\n",
              "  'uml': 789,\n",
              "  'responsible': 790,\n",
              "  'designing': 791,\n",
              "  'normalization': 792,\n",
              "  'tuning': 793,\n",
              "  'profiler': 794,\n",
              "  'uat': 795,\n",
              "  'knowledge': 796,\n",
              "  'transfer': 797,\n",
              "  'support': 798,\n",
              "  '2008': 799,\n",
              "  '2014': 800,\n",
              "  'visual': 801,\n",
              "  'studio': 802,\n",
              "  '2010': 803,\n",
              "  'monitor': 804,\n",
              "  'pl': 805,\n",
              "  'mca': 806,\n",
              "  'ymcaust': 807,\n",
              "  'faridabad': 808,\n",
              "  'haryana': 809,\n",
              "  'internship': 810,\n",
              "  'structure': 811,\n",
              "  'itechpower': 812,\n",
              "  'iot': 813,\n",
              "  'microsoft': 814,\n",
              "  'powerpoint': 815,\n",
              "  'academic': 816,\n",
              "  'secured': 817,\n",
              "  'first': 818,\n",
              "  'place': 819,\n",
              "  'ghatkesar': 820,\n",
              "  'andhra': 821,\n",
              "  'pradesh': 822,\n",
              "  'aurora': 823,\n",
              "  'scientific': 824,\n",
              "  'june': 825,\n",
              "  '2012': 826,\n",
              "  'secondary': 827,\n",
              "  'warangal': 828,\n",
              "  'telangana': 829,\n",
              "  'sr': 830,\n",
              "  'junior': 831,\n",
              "  'office': 832,\n",
              "  'visualization': 833,\n",
              "  'statistics': 834,\n",
              "  'iabac': 835,\n",
              "  'certified': 836,\n",
              "  'versatile': 837,\n",
              "  'years': 838,\n",
              "  'managing': 839,\n",
              "  'consulting': 840,\n",
              "  'innovation': 841,\n",
              "  'bringing': 842,\n",
              "  'ideas': 843,\n",
              "  'real': 844,\n",
              "  'world': 845,\n",
              "  'being': 846,\n",
              "  'strong': 847,\n",
              "  'advocator': 848,\n",
              "  'augmented': 849,\n",
              "  'era': 850,\n",
              "  'where': 851,\n",
              "  'human': 852,\n",
              "  'enhanced': 853,\n",
              "  'machines': 854,\n",
              "  'fahed': 855,\n",
              "  'passionate': 856,\n",
              "  'concepts': 857,\n",
              "  'ai': 858,\n",
              "  'robotics': 859,\n",
              "  'mohali': 860,\n",
              "  'punjab': 861,\n",
              "  'indo': 862,\n",
              "  'global': 863,\n",
              "  'datamites': 864,\n",
              "  '13': 865,\n",
              "  'analyzed': 866,\n",
              "  'processed': 867,\n",
              "  'sets': 868,\n",
              "  'querying': 869,\n",
              "  'loading': 870,\n",
              "  'validation': 871,\n",
              "  'manipulating': 872,\n",
              "  'cleaning': 873,\n",
              "  'heretic': 874,\n",
              "  'closely': 875,\n",
              "  'propose': 876,\n",
              "  'making': 877,\n",
              "  'cleansing': 878,\n",
              "  'drawing': 879,\n",
              "  'conclusions': 880,\n",
              "  'recommendations': 881,\n",
              "  'statistical': 882,\n",
              "  'produce': 883,\n",
              "  'problems': 884,\n",
              "  'rayat': 885,\n",
              "  'bahra': 886,\n",
              "  'biotechnology': 887,\n",
              "  'tensorflow': 888,\n",
              "  'gcp': 889,\n",
              "  'network': 890,\n",
              "  'wipro': 891,\n",
              "  'bhawana': 892,\n",
              "  'aggarwal': 893,\n",
              "  'mail': 894,\n",
              "  'chd': 895,\n",
              "  'phone': 896,\n",
              "  '09876971076': 897,\n",
              "  'vversatile': 898,\n",
              "  'high': 899,\n",
              "  'energy': 900,\n",
              "  'professional': 901,\n",
              "  'targeting': 902,\n",
              "  'challenging': 903,\n",
              "  'assignments': 904,\n",
              "  'profile': 905,\n",
              "  'summary': 906,\n",
              "  'skilled': 907,\n",
              "  'inception': 908,\n",
              "  'specs': 909,\n",
              "  'implementation': 910,\n",
              "  'configuration': 911,\n",
              "  'libraries': 912,\n",
              "  'seaborn': 913,\n",
              "  'cufflinks': 914,\n",
              "  'bias': 915,\n",
              "  'variance': 916,\n",
              "  'off': 917,\n",
              "  'vector': 918,\n",
              "  'logistic': 919,\n",
              "  'networks': 920,\n",
              "  'unsupervised': 921,\n",
              "  'supervised': 922,\n",
              "  'reinforcement': 923,\n",
              "  'relational': 924,\n",
              "  'platforms': 925,\n",
              "  'oracle': 926,\n",
              "  'some': 927,\n",
              "  'google': 928,\n",
              "  'good': 929,\n",
              "  'interpersonal': 930,\n",
              "  'solving': 931,\n",
              "  'ability': 932,\n",
              "  'think': 933,\n",
              "  'laterally': 934,\n",
              "  'medium': 935,\n",
              "  'term': 936,\n",
              "  'long': 937,\n",
              "  'perspective': 938,\n",
              "  'flexibility': 939,\n",
              "  'attitude': 940,\n",
              "  'change': 941,\n",
              "  'define': 942,\n",
              "  'own': 943,\n",
              "  'frameworks': 944,\n",
              "  'emphasis': 945,\n",
              "  'code': 946,\n",
              "  'reusability': 947,\n",
              "  'clustering': 948,\n",
              "  'databases': 949,\n",
              "  'window': 950,\n",
              "  'environments': 951,\n",
              "  'netbeans': 952,\n",
              "  'notebooks': 953,\n",
              "  'sublime': 954,\n",
              "  'ticketing': 955,\n",
              "  'now': 956,\n",
              "  'remedy': 957,\n",
              "  'ug': 958,\n",
              "  'passed': 959,\n",
              "  '78': 960,\n",
              "  '2016': 961,\n",
              "  'schooling': 962,\n",
              "  'xii': 963,\n",
              "  'moti': 964,\n",
              "  'ram': 965,\n",
              "  'arya': 966,\n",
              "  'x': 967,\n",
              "  'valley': 968,\n",
              "  '9': 969,\n",
              "  'cgpa': 970,\n",
              "  'work': 971,\n",
              "  'experince': 972,\n",
              "  'title': 973,\n",
              "  'size': 974,\n",
              "  '5': 975,\n",
              "  'brief': 976,\n",
              "  'harnesses': 977,\n",
              "  'power': 978,\n",
              "  'automation': 979,\n",
              "  'artificial': 980,\n",
              "  'cognitive': 981,\n",
              "  'comprises': 982,\n",
              "  'three': 983,\n",
              "  'layers': 984,\n",
              "  'engagement': 985,\n",
              "  'easily': 986,\n",
              "  'ess': 987,\n",
              "  'manage': 988,\n",
              "  'structured': 989,\n",
              "  'intent': 990,\n",
              "  'assessment': 991,\n",
              "  'reasoning': 992,\n",
              "  'engine': 993,\n",
              "  'includes': 994,\n",
              "  'sense': 995,\n",
              "  'act': 996,\n",
              "  'entailed': 997,\n",
              "  'queries': 998,\n",
              "  'at': 999,\n",
              "  ...},\n",
              " array([[ 0.29344473, -0.27541557, -0.24219741, ..., -0.27098524,\n",
              "          0.19226343,  0.2386692 ],\n",
              "        [ 0.13617491, -0.03238629, -0.12875579, ..., -0.4628168 ,\n",
              "          0.10558741, -0.11660628],\n",
              "        [ 0.06317014, -0.29380438,  0.01090408, ..., -0.1485874 ,\n",
              "          0.29138133,  0.14831607],\n",
              "        ...,\n",
              "        [ 0.00992763, -0.61364393,  0.61109839, ...,  0.84984779,\n",
              "         -0.74567847,  0.03734684],\n",
              "        [ 0.40651243, -0.06513831, -0.22618883, ...,  1.05568519,\n",
              "          0.23498377, -0.18502553],\n",
              "        [ 0.23184772,  1.07925861, -0.54575445, ...,  0.4432915 ,\n",
              "          0.13321986, -0.3589485 ]]),\n",
              " array([[ 0.03834968, -0.13327806, -0.25380173, ..., -0.175212  ,\n",
              "          0.5667359 ,  0.20566039],\n",
              "        [-0.07615254,  0.04207952, -0.25255543, ..., -1.02685692,\n",
              "          0.45397037, -0.40906259],\n",
              "        [-0.15551686, -0.08347136,  0.39778873, ...,  0.13772867,\n",
              "          0.41545135,  0.07843079],\n",
              "        ...,\n",
              "        [-0.10478025, -0.16235694, -0.03683819, ...,  0.5334333 ,\n",
              "          0.56433006,  1.35456578],\n",
              "        [ 0.18120075,  0.22386247,  0.27683855, ...,  1.07919928,\n",
              "         -0.64012867, -0.97833756],\n",
              "        [ 0.02384143, -0.25372474, -0.20071967, ...,  0.25271193,\n",
              "         -1.78735033,  0.12260598]]))"
            ]
          },
          "metadata": {
            "tags": []
          },
          "execution_count": 62
        }
      ]
    },
    {
      "cell_type": "markdown",
      "metadata": {
        "id": "swC5gUFCHZHS",
        "colab_type": "text"
      },
      "source": [
        "# Conclusion\n",
        "The cost has been decreasing as expected.\n",
        "The shape of the curve is also as expected.\n",
        "It can be observed that the cost decreasees for every iteration"
      ]
    },
    {
      "cell_type": "markdown",
      "metadata": {
        "id": "ukXi32WaHw4x",
        "colab_type": "text"
      },
      "source": [
        "Loading the New Word2Vec model i.e the one that was just produced and testing it on the Resumes Data Set. \n",
        "We can re-use some of the Glove code previously written. \n",
        "We will use the Random Forest algorithm from SkLearn to verify the correct operation of the algorithm."
      ]
    },
    {
      "cell_type": "code",
      "metadata": {
        "id": "_vD6dye2zrMT",
        "colab_type": "code",
        "colab": {}
      },
      "source": [
        "def load_model(savedir):\n",
        "  with open('%s/word2idx_real2.json' % savedir) as f:\n",
        "    word2idx = json.load(f)\n",
        "  npz = np.load('%s/weights_real2.npz' % savedir)\n",
        "  W1 = npz['arr_0']\n",
        "  W2 = npz['arr_1']\n",
        "  return word2idx, W1, W2"
      ],
      "execution_count": 0,
      "outputs": []
    },
    {
      "cell_type": "code",
      "metadata": {
        "id": "6mpXV_wazrFh",
        "colab_type": "code",
        "colab": {}
      },
      "source": [
        "word2idx,W1,W2 = load_model(dir)"
      ],
      "execution_count": 0,
      "outputs": []
    },
    {
      "cell_type": "markdown",
      "metadata": {
        "id": "nCplA8kYIlCY",
        "colab_type": "text"
      },
      "source": [
        "The function **word_to_vec** takes in the word2idx dictionary containing each word in our corpus and its corresponding index and the weight matrix W1. It is also possible to take advantage of both W1 and W2 and combine them into one."
      ]
    },
    {
      "cell_type": "code",
      "metadata": {
        "id": "z6akjRBhzq7i",
        "colab_type": "code",
        "colab": {}
      },
      "source": [
        "def word_to_vec(word2idx,W1):\n",
        "  words = [w for w,i in word2idx.items()]\n",
        "  new_word_vecs = dict(zip(words,W1))\n",
        "  return new_word_vecs"
      ],
      "execution_count": 0,
      "outputs": []
    },
    {
      "cell_type": "code",
      "metadata": {
        "id": "fqrRcGI20bWC",
        "colab_type": "code",
        "colab": {}
      },
      "source": [
        "new_word_vecs = word_to_vec(word2idx,W1)"
      ],
      "execution_count": 0,
      "outputs": []
    },
    {
      "cell_type": "code",
      "metadata": {
        "id": "cG72z8ZQHUq3",
        "colab_type": "code",
        "colab": {}
      },
      "source": [
        "#output truncated since it is too long\n",
        "new_word_vecs"
      ],
      "execution_count": 0,
      "outputs": []
    },
    {
      "cell_type": "code",
      "metadata": {
        "id": "-SN92ZQr0bPk",
        "colab_type": "code",
        "colab": {}
      },
      "source": [
        "X_my_glove = data_cleaned_act.Resume_cls\n",
        "Y_my_glove = data_cleaned_act.act_labels"
      ],
      "execution_count": 0,
      "outputs": []
    },
    {
      "cell_type": "code",
      "metadata": {
        "id": "Kuz8byn10bIi",
        "colab_type": "code",
        "colab": {}
      },
      "source": [
        "X_myglove_train,X_myglove_test,Y_myglove_train,Y_myglove_test = train_test_split(X_my_glove,Y_my_glove,test_size=0.33)"
      ],
      "execution_count": 0,
      "outputs": []
    },
    {
      "cell_type": "markdown",
      "metadata": {
        "id": "nmVRHZ5XKGy3",
        "colab_type": "text"
      },
      "source": [
        "The **transform_new** function takes the Resumes data and for each word it finds its corresponding word embedding vector with the new_word_vecs which now contains word embeddings produced with the skip-grams and negative sampling approach demonstrated above."
      ]
    },
    {
      "cell_type": "code",
      "metadata": {
        "id": "WAIxNjz90a_b",
        "colab_type": "code",
        "colab": {}
      },
      "source": [
        "def transform_new(data):\n",
        "    X = np.zeros((len(data),50))\n",
        "    n = 0\n",
        "    emptycount = 0\n",
        "    for sentence in data:\n",
        "      tokens = sentence.lower().split()\n",
        "      vecs = []\n",
        "      for word in tokens:\n",
        "        if word in new_word_vecs:\n",
        "          vec = new_word_vecs[word]\n",
        "          vecs = np.append(vecs,vec)\n",
        "      if len(vecs) > 0:\n",
        "        vecs = np.array(vecs)\n",
        "        X[n] = vecs.mean(axis=0)\n",
        "      else:\n",
        "        emptycount += 1\n",
        "      n += 1\n",
        "    print(\"Numer of samples with no words found: %s / %s\" % (emptycount, len(data)))\n",
        "    return X"
      ],
      "execution_count": 0,
      "outputs": []
    },
    {
      "cell_type": "markdown",
      "metadata": {
        "id": "V09qb8icMUoD",
        "colab_type": "text"
      },
      "source": [
        "Run Random Forest Classifier on the data"
      ]
    },
    {
      "cell_type": "code",
      "metadata": {
        "id": "WAtJVd5s1q2O",
        "colab_type": "code",
        "outputId": "d24d049c-8e28-4038-d4f6-e2dc9c18f95a",
        "colab": {
          "base_uri": "https://localhost:8080/",
          "height": 84
        }
      },
      "source": [
        "Xtrain = transform_new(X_myglove_train)\n",
        "Ytrain = Y_myglove_train\n",
        "\n",
        "Xtest = transform_new(X_myglove_test)\n",
        "Ytest = Y_myglove_test\n",
        "\n",
        "model = RandomForestClassifier(n_estimators=200)\n",
        "model.fit(Xtrain, Ytrain)\n",
        "print(\"train score:\", model.score(Xtrain, Ytrain))\n",
        "print(\"test score:\", model.score(Xtest, Ytest))"
      ],
      "execution_count": 0,
      "outputs": [
        {
          "output_type": "stream",
          "text": [
            "Numer of samples with no words found: 0 / 644\n",
            "Numer of samples with no words found: 0 / 318\n",
            "train score: 1.0\n",
            "test score: 0.9779874213836478\n"
          ],
          "name": "stdout"
        }
      ]
    },
    {
      "cell_type": "markdown",
      "metadata": {
        "id": "9uLG7C8GMcj1",
        "colab_type": "text"
      },
      "source": [
        "# Final Conclussion\n",
        "\n",
        "We can see that the performance of the Random Forest Classifier is fairly close to the performance of the classification algorithms when using GloVe.\n",
        "\n",
        "Some improvements such as combining both embedding matrixes W1 and W2 and using CBOW instead of skip-grams. "
      ]
    },
    {
      "cell_type": "markdown",
      "metadata": {
        "id": "htYtiJ_Q8-qo",
        "colab_type": "text"
      },
      "source": [
        "# Method 4: Classification of Resumes Using LSTMs with Keras"
      ]
    },
    {
      "cell_type": "markdown",
      "metadata": {
        "id": "CWQ1ilk_9FSK",
        "colab_type": "text"
      },
      "source": [
        "This section presents another  approach to Resumes Classification using Long Short-Term Memory(LSTM). For this section Keras will be used to create the Model."
      ]
    },
    {
      "cell_type": "code",
      "metadata": {
        "id": "rnhvU-cT1qro",
        "colab_type": "code",
        "colab": {}
      },
      "source": [
        " # Initialising the data and the targets\n",
        "X_rnn = data_cleaned_act.Resume_cls\n",
        "Y_rnn = data_cleaned_act.act_labels"
      ],
      "execution_count": 0,
      "outputs": []
    },
    {
      "cell_type": "code",
      "metadata": {
        "id": "w_6SpKJ11qmp",
        "colab_type": "code",
        "outputId": "fef22bf2-f653-4c28-ad47-408eca149587",
        "colab": {
          "base_uri": "https://localhost:8080/",
          "height": 218
        }
      },
      "source": [
        "X_rnn"
      ],
      "execution_count": 0,
      "outputs": [
        {
          "output_type": "execute_result",
          "data": {
            "text/plain": [
              "0      Skills Programming Languages Python pandas num...\n",
              "1      Education Details May 2013 to May 2017 B E UIT...\n",
              "2      Areas of Interest Deep Learning Control System...\n",
              "3      Skills R Python SAP HANA Tableau SAP HANA SQL ...\n",
              "4      Education Details MCA YMCAUST Faridabad Haryan...\n",
              "                             ...                        \n",
              "957    Computer Skills Proficient in MS office Word B...\n",
              "958     Willingness to a ept the challenges Positive ...\n",
              "959    PERSONAL SKILLS Quick learner Eagerness to lea...\n",
              "960    COMPUTER SKILLS SOFTWARE KNOWLEDGE MS Power Po...\n",
              "961    Skill Set OS Windows XP 7 8 8 1 10 Database MY...\n",
              "Name: Resume_cls, Length: 962, dtype: object"
            ]
          },
          "metadata": {
            "tags": []
          },
          "execution_count": 76
        }
      ]
    },
    {
      "cell_type": "code",
      "metadata": {
        "id": "-g5YQ7f11qgd",
        "colab_type": "code",
        "outputId": "0b7e5c5f-dc9a-4c14-eb39-124653563cdc",
        "colab": {
          "base_uri": "https://localhost:8080/",
          "height": 218
        }
      },
      "source": [
        "Y_rnn"
      ],
      "execution_count": 0,
      "outputs": [
        {
          "output_type": "execute_result",
          "data": {
            "text/plain": [
              "0       6\n",
              "1       6\n",
              "2       6\n",
              "3       6\n",
              "4       6\n",
              "       ..\n",
              "957    23\n",
              "958    23\n",
              "959    23\n",
              "960    23\n",
              "961    23\n",
              "Name: act_labels, Length: 962, dtype: int64"
            ]
          },
          "metadata": {
            "tags": []
          },
          "execution_count": 77
        }
      ]
    },
    {
      "cell_type": "markdown",
      "metadata": {
        "id": "9EpE4kLDzZsl",
        "colab_type": "text"
      },
      "source": [
        ""
      ]
    },
    {
      "cell_type": "code",
      "metadata": {
        "id": "JBxVG85ci6wy",
        "colab_type": "code",
        "outputId": "febc5909-790b-43e8-9ac6-88482456039f",
        "colab": {
          "base_uri": "https://localhost:8080/",
          "height": 50
        }
      },
      "source": [
        "# Importing Tensorflow 2.0 and outputing the tensorflow's verion \n",
        "try:\n",
        "  %tensorflow_version 2.x\n",
        "except Exception:\n",
        "  pass\n",
        "\n",
        "import tensorflow as tf\n",
        "print(tf.__version__)"
      ],
      "execution_count": 1,
      "outputs": [
        {
          "output_type": "stream",
          "text": [
            "TensorFlow 2.x selected.\n",
            "2.1.0-rc1\n"
          ],
          "name": "stdout"
        }
      ]
    },
    {
      "cell_type": "code",
      "metadata": {
        "id": "OVe7rb6Okm7D",
        "colab_type": "code",
        "colab": {}
      },
      "source": [
        "# Preprocessing Imports\n",
        "from tensorflow.keras.preprocessing.text import Tokenizer\n",
        "from tensorflow.keras.preprocessing.sequence import pad_sequences\n"
      ],
      "execution_count": 0,
      "outputs": []
    },
    {
      "cell_type": "code",
      "metadata": {
        "id": "P05B2ykHxuO_",
        "colab_type": "code",
        "colab": {}
      },
      "source": [
        "# Keras Imports\n",
        "from tensorflow.keras.layers import Input,Dense,GlobalMaxPooling1D\n",
        "from tensorflow.keras.layers import LSTM,Embedding\n",
        "from tensorflow.keras.models import Model"
      ],
      "execution_count": 0,
      "outputs": []
    },
    {
      "cell_type": "code",
      "metadata": {
        "id": "sUTr7mQUzaHI",
        "colab_type": "code",
        "colab": {}
      },
      "source": [
        "X_rnn = data_cleaned_act.Resume_cls\n",
        "Y_rnn = data_cleaned_act.act_labels"
      ],
      "execution_count": 0,
      "outputs": []
    },
    {
      "cell_type": "code",
      "metadata": {
        "id": "vu0hx95mx2j_",
        "colab_type": "code",
        "colab": {}
      },
      "source": [
        "# Performing train and test split\n",
        "X_rnn_train,X_rnn_test,Y_rnn_train,Y_rnn_test = train_test_split(X_rnn,Y_rnn.values,test_size=0.33)"
      ],
      "execution_count": 0,
      "outputs": []
    },
    {
      "cell_type": "markdown",
      "metadata": {
        "id": "ejHsMV2eIRRf",
        "colab_type": "text"
      },
      "source": [
        "After performing the train and test split, we initialise the tokenizer and fit it on the our training data which is in the form of resumes. The tokenisation process involves assigning a unique integer to each word. thus turning it into a sequence."
      ]
    },
    {
      "cell_type": "code",
      "metadata": {
        "id": "-H3U19pbzwrF",
        "colab_type": "code",
        "colab": {}
      },
      "source": [
        "MAX_VOCAB_SIZE = 7600\n",
        "tokenizer = Tokenizer(num_words=MAX_VOCAB_SIZE)\n",
        "tokenizer.fit_on_texts(X_rnn_train)\n",
        "train_seq = tokenizer.texts_to_sequences(X_rnn_train)\n",
        "test_seq = tokenizer.texts_to_sequences(X_rnn_test)"
      ],
      "execution_count": 0,
      "outputs": []
    },
    {
      "cell_type": "code",
      "metadata": {
        "id": "5OsmrVbZ27YD",
        "colab_type": "code",
        "colab": {}
      },
      "source": [
        ""
      ],
      "execution_count": 0,
      "outputs": []
    },
    {
      "cell_type": "code",
      "metadata": {
        "id": "FRFXMcZu1e-7",
        "colab_type": "code",
        "colab": {}
      },
      "source": [
        "# word2idx is a dictionary containing all the words in the corpus and their unique\n",
        "# integers \n",
        "word2idx = tokenizer.word_index"
      ],
      "execution_count": 0,
      "outputs": []
    },
    {
      "cell_type": "code",
      "metadata": {
        "id": "DIO-9RbdCJq2",
        "colab_type": "code",
        "colab": {}
      },
      "source": [
        "# Total number of words - 7544\n",
        "V = len(word2idx)"
      ],
      "execution_count": 0,
      "outputs": []
    },
    {
      "cell_type": "code",
      "metadata": {
        "id": "844SBTvf1h_C",
        "colab_type": "code",
        "outputId": "67209404-9d49-45ac-fc5c-d916c0cfdade",
        "colab": {
          "base_uri": "https://localhost:8080/",
          "height": 33
        }
      },
      "source": [
        "len(word2idx)"
      ],
      "execution_count": 50,
      "outputs": [
        {
          "output_type": "execute_result",
          "data": {
            "text/plain": [
              "7544"
            ]
          },
          "metadata": {
            "tags": []
          },
          "execution_count": 50
        }
      ]
    },
    {
      "cell_type": "markdown",
      "metadata": {
        "id": "TkOZudilKmkT",
        "colab_type": "text"
      },
      "source": [
        "After the sequences have been generated by the tokeniser, padding needs to be applied to ensure that all sequences are of the same length. After padding we obtain an NxT array where N is the number of samples and T is the number of time steps. In this case we have pre-padding. "
      ]
    },
    {
      "cell_type": "code",
      "metadata": {
        "id": "T8KyRUZz12g5",
        "colab_type": "code",
        "colab": {}
      },
      "source": [
        "data_train = pad_sequences(train_seq)"
      ],
      "execution_count": 0,
      "outputs": []
    },
    {
      "cell_type": "code",
      "metadata": {
        "id": "XdqR7Vef2J3w",
        "colab_type": "code",
        "outputId": "30cd359d-2412-40c4-c01c-fb76f9f68ac0",
        "colab": {
          "base_uri": "https://localhost:8080/",
          "height": 33
        }
      },
      "source": [
        "len(data_train)"
      ],
      "execution_count": 52,
      "outputs": [
        {
          "output_type": "execute_result",
          "data": {
            "text/plain": [
              "644"
            ]
          },
          "metadata": {
            "tags": []
          },
          "execution_count": 52
        }
      ]
    },
    {
      "cell_type": "code",
      "metadata": {
        "id": "g0UGkBcU2UMH",
        "colab_type": "code",
        "outputId": "d793d260-0f6a-4557-ec5b-1d064b49a845",
        "colab": {
          "base_uri": "https://localhost:8080/",
          "height": 33
        }
      },
      "source": [
        "data_train.shape"
      ],
      "execution_count": 53,
      "outputs": [
        {
          "output_type": "execute_result",
          "data": {
            "text/plain": [
              "(644, 2064)"
            ]
          },
          "metadata": {
            "tags": []
          },
          "execution_count": 53
        }
      ]
    },
    {
      "cell_type": "code",
      "metadata": {
        "id": "s-vYsbZH2eqJ",
        "colab_type": "code",
        "colab": {}
      },
      "source": [
        "T = data_train.shape[1] # length of the sequences"
      ],
      "execution_count": 0,
      "outputs": []
    },
    {
      "cell_type": "code",
      "metadata": {
        "id": "NsWl9F3Y3_5J",
        "colab_type": "code",
        "colab": {}
      },
      "source": [
        "data_test = pad_sequences(test_seq,maxlen=T)"
      ],
      "execution_count": 0,
      "outputs": []
    },
    {
      "cell_type": "code",
      "metadata": {
        "id": "w_7FTnlY6wBg",
        "colab_type": "code",
        "outputId": "68e24d80-7a0a-4bda-c2c0-daef88a5f17c",
        "colab": {
          "base_uri": "https://localhost:8080/",
          "height": 33
        }
      },
      "source": [
        "print(\"Shape of the test data: \",data_test.shape)"
      ],
      "execution_count": 56,
      "outputs": [
        {
          "output_type": "stream",
          "text": [
            "Shape of the test data:  (318, 2064)\n"
          ],
          "name": "stdout"
        }
      ]
    },
    {
      "cell_type": "markdown",
      "metadata": {
        "id": "S-ti8qXOWLzc",
        "colab_type": "text"
      },
      "source": [
        "In this model, the LSTM layer also takes in a second parameter in addition to the size of the hidden layer M, called return_sequences.\n",
        "Tipically, an RNN goes through the entire sequence and returns only the final hidden state i.e h(T) where h is the value of at the hidden layer and T is the lenght of the sequence i.e the sequnce goes from 1,2....T. In this the RNN returns a vector of size M.\n",
        "\n",
        "If the return_sequences is set to True the RNN returns all the hidden states i.e it returns an array of size TxM. \n",
        "We can now use GlobalMaxPool1D which takes in a 2 dimentional array of size TxM and collapsees the first dimention so the output is a vector of size M.\n",
        "\n"
      ]
    },
    {
      "cell_type": "code",
      "metadata": {
        "id": "oJOZdkqH9qR2",
        "colab_type": "code",
        "colab": {}
      },
      "source": [
        "# Create the model\n",
        "\n",
        "# Embeding dimentinality\n",
        "D = 20\n",
        "\n",
        "# Hidden layer dimentionality \n",
        "M = 15\n",
        "\n",
        "i = Input(shape = (T,))#sequence of integers of size T\n",
        "x = Embedding(V + 1,D)(i)#takes in sequences of integers and returns sequences of word vectors. This is an array of size NxTxD.\n",
        "x = LSTM(M,return_sequences=True)(x)# Actual LSTM layer.Outputs a TxM matrix\n",
        "x = GlobalMaxPooling1D()(x)#output is M\n",
        "x = Dense(25,activation='softmax')(x)# K outputs where K is equal to 25 since we have 25 classes.\n",
        "\n",
        "model = Model(i,x)"
      ],
      "execution_count": 0,
      "outputs": []
    },
    {
      "cell_type": "code",
      "metadata": {
        "id": "1l6_Yhi1EEVw",
        "colab_type": "code",
        "outputId": "904c00e3-2d7f-4d2e-f8c1-0ae40fa55de9",
        "colab": {
          "base_uri": "https://localhost:8080/",
          "height": 1000
        }
      },
      "source": [
        "model.compile(\n",
        "    loss = 'sparse_categorical_crossentropy',\n",
        "    optimizer = 'adam',\n",
        "    metrics = ['accuracy']\n",
        ")\n",
        "\n",
        "print(\"Training Model\")\n",
        "\n",
        "r = model.fit(data_train,\n",
        "              Y_rnn_train,\n",
        "              epochs = 30,\n",
        "              validation_data = (data_test,Y_rnn_test))\n"
      ],
      "execution_count": 58,
      "outputs": [
        {
          "output_type": "stream",
          "text": [
            "Training Model\n",
            "Train on 644 samples, validate on 318 samples\n",
            "Epoch 1/30\n",
            "644/644 [==============================] - 25s 40ms/sample - loss: 3.2085 - accuracy: 0.0901 - val_loss: 3.1933 - val_accuracy: 0.1006\n",
            "Epoch 2/30\n",
            "644/644 [==============================] - 23s 36ms/sample - loss: 3.1810 - accuracy: 0.1102 - val_loss: 3.1605 - val_accuracy: 0.1038\n",
            "Epoch 3/30\n",
            "644/644 [==============================] - 24s 37ms/sample - loss: 3.1365 - accuracy: 0.1273 - val_loss: 3.0807 - val_accuracy: 0.0912\n",
            "Epoch 4/30\n",
            "644/644 [==============================] - 23s 36ms/sample - loss: 3.0275 - accuracy: 0.1661 - val_loss: 2.9526 - val_accuracy: 0.2579\n",
            "Epoch 5/30\n",
            "644/644 [==============================] - 24s 37ms/sample - loss: 2.9168 - accuracy: 0.2547 - val_loss: 2.8552 - val_accuracy: 0.1855\n",
            "Epoch 6/30\n",
            "644/644 [==============================] - 23s 36ms/sample - loss: 2.8234 - accuracy: 0.2236 - val_loss: 2.7515 - val_accuracy: 0.1918\n",
            "Epoch 7/30\n",
            "644/644 [==============================] - 23s 36ms/sample - loss: 2.7339 - accuracy: 0.2453 - val_loss: 2.6821 - val_accuracy: 0.1918\n",
            "Epoch 8/30\n",
            "644/644 [==============================] - 23s 36ms/sample - loss: 2.6148 - accuracy: 0.2717 - val_loss: 2.5378 - val_accuracy: 0.2358\n",
            "Epoch 9/30\n",
            "644/644 [==============================] - 23s 36ms/sample - loss: 2.5086 - accuracy: 0.3121 - val_loss: 2.4494 - val_accuracy: 0.2830\n",
            "Epoch 10/30\n",
            "644/644 [==============================] - 23s 36ms/sample - loss: 2.4419 - accuracy: 0.3913 - val_loss: 2.3789 - val_accuracy: 0.3994\n",
            "Epoch 11/30\n",
            "644/644 [==============================] - 24s 37ms/sample - loss: 2.3118 - accuracy: 0.4814 - val_loss: 2.2523 - val_accuracy: 0.4843\n",
            "Epoch 12/30\n",
            "644/644 [==============================] - 23s 36ms/sample - loss: 2.2020 - accuracy: 0.5124 - val_loss: 2.1678 - val_accuracy: 0.5252\n",
            "Epoch 13/30\n",
            "644/644 [==============================] - 24s 37ms/sample - loss: 2.1007 - accuracy: 0.6087 - val_loss: 2.0706 - val_accuracy: 0.6164\n",
            "Epoch 14/30\n",
            "644/644 [==============================] - 24s 37ms/sample - loss: 2.0062 - accuracy: 0.6988 - val_loss: 1.9893 - val_accuracy: 0.6730\n",
            "Epoch 15/30\n",
            "644/644 [==============================] - 24s 37ms/sample - loss: 1.9176 - accuracy: 0.7360 - val_loss: 1.8980 - val_accuracy: 0.7075\n",
            "Epoch 16/30\n",
            "644/644 [==============================] - 24s 37ms/sample - loss: 1.8191 - accuracy: 0.7857 - val_loss: 1.8095 - val_accuracy: 0.7736\n",
            "Epoch 17/30\n",
            "644/644 [==============================] - 23s 36ms/sample - loss: 1.7243 - accuracy: 0.8261 - val_loss: 1.7222 - val_accuracy: 0.8208\n",
            "Epoch 18/30\n",
            "644/644 [==============================] - 24s 37ms/sample - loss: 1.6642 - accuracy: 0.8370 - val_loss: 1.7213 - val_accuracy: 0.8019\n",
            "Epoch 19/30\n",
            "644/644 [==============================] - 24s 37ms/sample - loss: 1.5878 - accuracy: 0.8509 - val_loss: 1.5823 - val_accuracy: 0.8396\n",
            "Epoch 20/30\n",
            "644/644 [==============================] - 24s 37ms/sample - loss: 1.4910 - accuracy: 0.8602 - val_loss: 1.5141 - val_accuracy: 0.8396\n",
            "Epoch 21/30\n",
            "644/644 [==============================] - 24s 37ms/sample - loss: 1.4055 - accuracy: 0.8665 - val_loss: 1.4246 - val_accuracy: 0.8491\n",
            "Epoch 22/30\n",
            "644/644 [==============================] - 23s 36ms/sample - loss: 1.3217 - accuracy: 0.8773 - val_loss: 1.3453 - val_accuracy: 0.8585\n",
            "Epoch 23/30\n",
            "644/644 [==============================] - 23s 36ms/sample - loss: 1.2525 - accuracy: 0.8804 - val_loss: 1.2841 - val_accuracy: 0.8648\n",
            "Epoch 24/30\n",
            "644/644 [==============================] - 24s 37ms/sample - loss: 1.1786 - accuracy: 0.8944 - val_loss: 1.2163 - val_accuracy: 0.8836\n",
            "Epoch 25/30\n",
            "644/644 [==============================] - 24s 37ms/sample - loss: 1.1110 - accuracy: 0.9084 - val_loss: 1.1354 - val_accuracy: 0.8899\n",
            "Epoch 26/30\n",
            "644/644 [==============================] - 24s 37ms/sample - loss: 1.0410 - accuracy: 0.9177 - val_loss: 1.2602 - val_accuracy: 0.8459\n",
            "Epoch 27/30\n",
            "644/644 [==============================] - 23s 36ms/sample - loss: 1.1323 - accuracy: 0.8680 - val_loss: 1.0973 - val_accuracy: 0.8994\n",
            "Epoch 28/30\n",
            "644/644 [==============================] - 23s 36ms/sample - loss: 0.9810 - accuracy: 0.9410 - val_loss: 1.0094 - val_accuracy: 0.9119\n",
            "Epoch 29/30\n",
            "644/644 [==============================] - 24s 37ms/sample - loss: 0.9085 - accuracy: 0.9534 - val_loss: 0.9575 - val_accuracy: 0.9245\n",
            "Epoch 30/30\n",
            "644/644 [==============================] - 23s 36ms/sample - loss: 0.8477 - accuracy: 0.9612 - val_loss: 0.8949 - val_accuracy: 0.9403\n"
          ],
          "name": "stdout"
        }
      ]
    },
    {
      "cell_type": "code",
      "metadata": {
        "id": "1-2zsT5lFbcN",
        "colab_type": "code",
        "colab": {}
      },
      "source": [
        ""
      ],
      "execution_count": 0,
      "outputs": []
    },
    {
      "cell_type": "code",
      "metadata": {
        "id": "gzHYOPdsHv5t",
        "colab_type": "code",
        "colab": {}
      },
      "source": [
        ""
      ],
      "execution_count": 0,
      "outputs": []
    },
    {
      "cell_type": "code",
      "metadata": {
        "id": "UPpft56nIkiz",
        "colab_type": "code",
        "outputId": "e37489df-bbe7-4625-bc88-f46df67f9fe9",
        "colab": {
          "base_uri": "https://localhost:8080/",
          "height": 281
        }
      },
      "source": [
        "import matplotlib.pyplot as plt\n",
        "\n",
        "plt.plot(r.history['loss'],label = 'loss')\n",
        "plt.plot(r.history['val_loss'],label = 'val_loss')\n",
        "plt.legend()"
      ],
      "execution_count": 59,
      "outputs": [
        {
          "output_type": "execute_result",
          "data": {
            "text/plain": [
              "<matplotlib.legend.Legend at 0x7ff06c5cc940>"
            ]
          },
          "metadata": {
            "tags": []
          },
          "execution_count": 59
        },
        {
          "output_type": "display_data",
          "data": {
            "image/png": "[encoded data removed]",
            "text/plain": [
              "<Figure size 432x288 with 1 Axes>"
            ]
          },
          "metadata": {
            "tags": []
          }
        }
      ]
    },
    {
      "cell_type": "code",
      "metadata": {
        "id": "mzCl-a2wKeFv",
        "colab_type": "code",
        "colab": {
          "base_uri": "https://localhost:8080/",
          "height": 283
        },
        "outputId": "73a08ae4-871e-4f25-8d33-5a750ad76921"
      },
      "source": [
        "plt.plot(r.history['accuracy'],label = 'accuracy')\n",
        "plt.plot(r.history['val_accuracy'],label = 'val_accuracy')\n",
        "plt.legend()"
      ],
      "execution_count": 60,
      "outputs": [
        {
          "output_type": "execute_result",
          "data": {
            "text/plain": [
              "<matplotlib.legend.Legend at 0x7ff06c4f2b38>"
            ]
          },
          "metadata": {
            "tags": []
          },
          "execution_count": 60
        },
        {
          "output_type": "display_data",
          "data": {
            "image/png": "[encoded data removed]",
            "text/plain": [
              "<Figure size 432x288 with 1 Axes>"
            ]
          },
          "metadata": {
            "tags": []
          }
        }
      ]
    },
    {
      "cell_type": "markdown",
      "metadata": {
        "id": "DAroCVlQZaGk",
        "colab_type": "text"
      },
      "source": [
        "# Conclusion\n",
        "In this section of the project, an LSTM was used to classify the resumes.\n",
        "Keras was used to create the model and the model was training on roughly 70% of the data with 30% left for testing. The model was able  to achieve training accuracy of 96.12% and a validation accuracy of 94.03%. The number of epochs that the model was trained on was 30. The overall accuracy of the model is lower compared to some of the other models that were tried in this project.\n",
        "\n",
        "However, this is somewhat to be expected as more advanced models such as LSTM generally require to be trained on more data and require more hyper-parameter optmisation, to be made to work."
      ]
    },
    {
      "cell_type": "code",
      "metadata": {
        "id": "uC1QPqPvtehF",
        "colab_type": "code",
        "colab": {}
      },
      "source": [
        ""
      ],
      "execution_count": 0,
      "outputs": []
    }
  ]
}