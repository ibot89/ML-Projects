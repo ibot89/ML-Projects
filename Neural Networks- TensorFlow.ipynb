{
 "cells": [
  {
   "cell_type": "markdown",
   "metadata": {},
   "source": [
    "# Image Recognition with a Multi-hidden Layer with Tensorflow"
   ]
  },
  {
   "cell_type": "markdown",
   "metadata": {},
   "source": [
    "> This project uses a Multi-hidden layer Neural Network for multiclass image classification. The neural network used is programmed using Tensorflow. The data is taken from Kaggle.The data consists of 48x48 pixel grayscale images of faces. The task is to categorize each face based on the emotion shown in the facial expression in to one of seven categories (0=Angry, 1=Disgust, 2=Fear, 3=Happy, 4=Sad, 5=Surprise, 6=Neutral). The relevant URL is:https://www.kaggle.com/c/challenges-in-representation-learning-facial-expression-recognition-challenge The utils file contains all the necessary function that will be used such as activation functions(relu,tanh), indicator matrix function etc. In this project we use backpropagation to allow the neural network to be trained. In order the Neural Network to operate faster RMSPropOptimizer is used."
   ]
  },
  {
   "cell_type": "markdown",
   "metadata": {},
   "source": [
    "## Imports"
   ]
  },
  {
   "cell_type": "code",
   "execution_count": 2,
   "metadata": {
    "collapsed": false
   },
   "outputs": [
    {
     "name": "stdout",
     "output_type": "stream",
     "text": [
      "0: 4953 1: 547 2: 5121 3: 8989 4: 6077 5: 4002 6: 6198 7: 0 8: 0 9: 35887\n"
     ]
    }
   ],
   "source": [
    "from __future__ import print_function, division\n",
    "from builtins import range\n",
    "\n",
    "import numpy as np\n",
    "import tensorflow as tf\n",
    "import matplotlib.pyplot as plt\n",
    "from utils2 import getData, getBinaryData, indicator_mat_conv, error_rate_mean, init_weight_and_bias\n",
    "from sklearn.utils import shuffle"
   ]
  },
  {
   "cell_type": "markdown",
   "metadata": {},
   "source": [
    "## A Hidden Layer Class"
   ]
  },
  {
   "cell_type": "markdown",
   "metadata": {},
   "source": [
    "> The hidden layer class initialises a hidden layer class with three attributes, input layer with M1 number of features, M2 number of output features and an id. It has one method, forward, which performs matrix multiplication and passes it to a tensorflow activation function,in this case relu."
   ]
  },
  {
   "cell_type": "code",
   "execution_count": 1,
   "metadata": {
    "collapsed": true
   },
   "outputs": [],
   "source": [
    "class HiddenLayer(object):\n",
    "    def __init__(self, M1, M2, an_id):\n",
    "        self.id = an_id\n",
    "        self.M1 = M1\n",
    "        self.M2 = M2\n",
    "        W, b = init_weight_and_bias(M1, M2)\n",
    "        self.W = tf.Variable(W.astype(np.float32))\n",
    "        self.b = tf.Variable(b.astype(np.float32))\n",
    "        self.params = [self.W, self.b]\n",
    "\n",
    "    def forward(self, X):\n",
    "        return tf.nn.relu(tf.matmul(X, self.W) + self.b)"
   ]
  },
  {
   "cell_type": "markdown",
   "metadata": {},
   "source": [
    "## A Neural Network Class"
   ]
  },
  {
   "cell_type": "markdown",
   "metadata": {},
   "source": [
    "> This is the main class in this project and it takes one attribute - hidden layer sizes.\n",
    "It contains a fit method contains most of functionality including: spitting the data into training and validataion(testing) sets, hidden layer initialisation, setting up the neural network cost by using softmax_cross_entropy_with_logits, setting up a tensorflow session and calling the RMSPropOptimiser to perform the backpropagation. This effectivelly substitutes all the derivatives equations from the project Neural Network for Binary Classification. It also defines two more methods - forward which performs matrix multiplication between the input data X and the weights and biasses which is used in cost calculation and prediction which uses argmax to obtain the index of the predicted class. The learning rate is set to 1e-2, the momentum has a value of 0.99, regularisation parameter has a value of 1e-3 and the batch size is of value 100. For convenience the batch size is set to 10 in order to speed up the calculation. "
   ]
  },
  {
   "cell_type": "code",
   "execution_count": 3,
   "metadata": {
    "collapsed": true
   },
   "outputs": [],
   "source": [
    "class NNet(object):\n",
    "    def __init__(self, hidden_layer_sizes):\n",
    "        self.hidden_layer_sizes = hidden_layer_sizes\n",
    "\n",
    "    def fit(self, X, Y, learning_rate=1e-2, mu=0.99, decay=0.999, reg=1e-3, epochs=10, batch_sz=100, show_fig=False):\n",
    "        K = len(set(Y))# K contains all the classes that we are trying to predict.\n",
    "\n",
    "        # Spliting the data into training and validation sets\n",
    "        X, Y = shuffle(X, Y)\n",
    "        X = X.astype(np.float32)\n",
    "        Y = indicator_mat_conv(Y).astype(np.float32)#performs one hot encoding on labels\n",
    "        # Y = Y.astype(np.int32)\n",
    "        Xvalid, Yvalid = X[-1000:], Y[-1000:]#1000 samples for validation(testing) the rest are reserved for learning\n",
    "        Yvalid_flat = np.argmax(Yvalid, axis=1) \n",
    "        X, Y = X[:-1000], Y[:-1000]\n",
    "\n",
    "        # initialize hidden layers\n",
    "        N, D = X.shape\n",
    "        \n",
    "        self.hidden_layers = []\n",
    "        M1 = D\n",
    "        count = 0\n",
    "        #Initialise each hidden layer. The assignment statement M1=M2 is due to the fact that the output of each previous hidden\n",
    "        #layer becomes input to the next hidden layer\n",
    "        for M2 in self.hidden_layer_sizes:\n",
    "            h = HiddenLayer(M1, M2, count)\n",
    "            self.hidden_layers.append(h)\n",
    "            M1 = M2\n",
    "            count += 1\n",
    "        W, b = init_weight_and_bias(M1, K)\n",
    "        #Defining the W and b as tensorflow variables of type float32\n",
    "        self.W = tf.Variable(W.astype(np.float32))\n",
    "        self.b = tf.Variable(b.astype(np.float32))\n",
    "\n",
    "        # The parameters stored in self.params will be used later\n",
    "        \n",
    "        self.params = [self.W, self.b]\n",
    "        for h in self.hidden_layers:\n",
    "            self.params += h.params\n",
    "\n",
    "        # Setting up tensorflow placeholders for the data\n",
    "        # The act variable is passed as a parameter to softmax_cross_entropy_with_logits when the cost is \n",
    "        #calculated.\n",
    "        \n",
    "        tfX = tf.placeholder(tf.float32, shape=(None, D), name='X')\n",
    "        tfT = tf.placeholder(tf.float32, shape=(None, K), name='T')\n",
    "        act = self.forward(tfX)\n",
    "\n",
    "        rcost = reg*sum([tf.nn.l2_loss(p) for p in self.params])\n",
    "        cost = tf.reduce_mean(\n",
    "            tf.nn.softmax_cross_entropy_with_logits(\n",
    "                logits=act,\n",
    "                labels=tfT\n",
    "            )\n",
    "        ) + rcost\n",
    "        prediction = self.predict(tfX)\n",
    "        # Using RMSPropOptimizer to minimise the cost. It effectivelly performs gradient descent with some optimisations to \n",
    "        #make it calculate faster.\n",
    "        \n",
    "        train_op = tf.train.RMSPropOptimizer(learning_rate, decay=decay, momentum=mu).minimize(cost)\n",
    "\n",
    "        n_batches = N // batch_sz#setting up the batches \n",
    "        costs = []\n",
    "        init = tf.global_variables_initializer()\n",
    "        \n",
    "        #starting up a session\n",
    "        with tf.Session() as session:\n",
    "            session.run(init)\n",
    "            for i in range(epochs):\n",
    "                X, Y = shuffle(X, Y)\n",
    "                for j in range(n_batches):\n",
    "                    Xbatch = X[j*batch_sz:(j*batch_sz+batch_sz)]\n",
    "                    Ybatch = Y[j*batch_sz:(j*batch_sz+batch_sz)]\n",
    "\n",
    "                    session.run(train_op, feed_dict={tfX: Xbatch, tfT: Ybatch})\n",
    "\n",
    "                    if j % 20 == 0:\n",
    "                        #Will be printing each 20th sample of each batch\n",
    "                        c = session.run(cost, feed_dict={tfX: Xvalid, tfT: Yvalid})\n",
    "                        costs.append(c)\n",
    "\n",
    "                        p = session.run(prediction, feed_dict={tfX: Xvalid, tfT: Yvalid})\n",
    "                        e = error_rate_mean(Yvalid_flat, p)\n",
    "                        print(\"i:\", i, \"j:\", j, \"nb:\", n_batches, \"cost:\", c, \"error rate:\", e)\n",
    "        \n",
    "        if show_fig:\n",
    "            plt.plot(costs)\n",
    "            plt.show()\n",
    "            \n",
    "    #Defining the forward and predict methods\n",
    "    def forward(self, X):\n",
    "        Z = X\n",
    "        for h in self.hidden_layers:\n",
    "            Z = h.forward(Z)\n",
    "        return tf.matmul(Z, self.W) + self.b\n",
    "    # Performs the actual prediction i.e classifies the output.\n",
    "    def predict(self, X):\n",
    "        act = self.forward(X)\n",
    "        return tf.argmax(act, 1)"
   ]
  },
  {
   "cell_type": "markdown",
   "metadata": {},
   "source": [
    "## Class Initialisation"
   ]
  },
  {
   "cell_type": "markdown",
   "metadata": {},
   "source": [
    "> Here the main class will be initialised. The neural network is initialised with three hidden layers as stated above with sizes of 2000,1000 and 500 units respectivelly. "
   ]
  },
  {
   "cell_type": "code",
   "execution_count": 4,
   "metadata": {
    "collapsed": false
   },
   "outputs": [
    {
     "name": "stdout",
     "output_type": "stream",
     "text": [
      "i: 0 j: 0 nb: 348 cost: 3.69076 error rate: 0.837\n",
      "i: 0 j: 20 nb: 348 cost: 3.57621 error rate: 0.817\n",
      "i: 0 j: 40 nb: 348 cost: 3.49857 error rate: 0.724\n",
      "i: 0 j: 60 nb: 348 cost: 3.47054 error rate: 0.724\n",
      "i: 0 j: 80 nb: 348 cost: 3.43008 error rate: 0.724\n",
      "i: 0 j: 100 nb: 348 cost: 3.37122 error rate: 0.708\n",
      "i: 0 j: 120 nb: 348 cost: 3.34308 error rate: 0.684\n",
      "i: 0 j: 140 nb: 348 cost: 3.24996 error rate: 0.67\n",
      "i: 0 j: 160 nb: 348 cost: 3.25777 error rate: 0.716\n",
      "i: 0 j: 180 nb: 348 cost: 3.16058 error rate: 0.678\n",
      "i: 0 j: 200 nb: 348 cost: 3.07922 error rate: 0.671\n",
      "i: 0 j: 220 nb: 348 cost: 3.05901 error rate: 0.669\n",
      "i: 0 j: 240 nb: 348 cost: 3.02296 error rate: 0.688\n",
      "i: 0 j: 260 nb: 348 cost: 2.99217 error rate: 0.701\n",
      "i: 0 j: 280 nb: 348 cost: 2.92335 error rate: 0.675\n",
      "i: 0 j: 300 nb: 348 cost: 2.86585 error rate: 0.702\n",
      "i: 0 j: 320 nb: 348 cost: 2.79299 error rate: 0.673\n",
      "i: 0 j: 340 nb: 348 cost: 2.8155 error rate: 0.717\n",
      "i: 1 j: 0 nb: 348 cost: 2.73725 error rate: 0.674\n",
      "i: 1 j: 20 nb: 348 cost: 2.70342 error rate: 0.68\n",
      "i: 1 j: 40 nb: 348 cost: 2.704 error rate: 0.685\n",
      "i: 1 j: 60 nb: 348 cost: 2.61149 error rate: 0.665\n",
      "i: 1 j: 80 nb: 348 cost: 2.56314 error rate: 0.672\n",
      "i: 1 j: 100 nb: 348 cost: 2.51735 error rate: 0.661\n",
      "i: 1 j: 120 nb: 348 cost: 2.54598 error rate: 0.747\n",
      "i: 1 j: 140 nb: 348 cost: 2.4557 error rate: 0.677\n",
      "i: 1 j: 160 nb: 348 cost: 2.46258 error rate: 0.71\n",
      "i: 1 j: 180 nb: 348 cost: 2.44623 error rate: 0.691\n",
      "i: 1 j: 200 nb: 348 cost: 2.38442 error rate: 0.684\n",
      "i: 1 j: 220 nb: 348 cost: 2.37183 error rate: 0.687\n",
      "i: 1 j: 240 nb: 348 cost: 2.30058 error rate: 0.659\n",
      "i: 1 j: 260 nb: 348 cost: 2.31049 error rate: 0.704\n",
      "i: 1 j: 280 nb: 348 cost: 2.26459 error rate: 0.68\n",
      "i: 1 j: 300 nb: 348 cost: 2.23899 error rate: 0.679\n",
      "i: 1 j: 320 nb: 348 cost: 2.19086 error rate: 0.656\n",
      "i: 1 j: 340 nb: 348 cost: 2.18421 error rate: 0.677\n",
      "i: 2 j: 0 nb: 348 cost: 2.16025 error rate: 0.667\n",
      "i: 2 j: 20 nb: 348 cost: 2.20303 error rate: 0.716\n",
      "i: 2 j: 40 nb: 348 cost: 2.15926 error rate: 0.705\n",
      "i: 2 j: 60 nb: 348 cost: 2.16488 error rate: 0.702\n",
      "i: 2 j: 80 nb: 348 cost: 2.08157 error rate: 0.687\n",
      "i: 2 j: 100 nb: 348 cost: 2.05751 error rate: 0.682\n",
      "i: 2 j: 120 nb: 348 cost: 2.03729 error rate: 0.687\n",
      "i: 2 j: 140 nb: 348 cost: 2.05377 error rate: 0.694\n",
      "i: 2 j: 160 nb: 348 cost: 2.02138 error rate: 0.669\n",
      "i: 2 j: 180 nb: 348 cost: 2.04277 error rate: 0.719\n",
      "i: 2 j: 200 nb: 348 cost: 1.97149 error rate: 0.673\n",
      "i: 2 j: 220 nb: 348 cost: 1.95917 error rate: 0.672\n",
      "i: 2 j: 240 nb: 348 cost: 1.98402 error rate: 0.675\n",
      "i: 2 j: 260 nb: 348 cost: 1.95528 error rate: 0.682\n",
      "i: 2 j: 280 nb: 348 cost: 1.94278 error rate: 0.701\n",
      "i: 2 j: 300 nb: 348 cost: 1.9182 error rate: 0.676\n",
      "i: 2 j: 320 nb: 348 cost: 1.91276 error rate: 0.671\n",
      "i: 2 j: 340 nb: 348 cost: 1.89644 error rate: 0.666\n",
      "i: 3 j: 0 nb: 348 cost: 1.88379 error rate: 0.657\n",
      "i: 3 j: 20 nb: 348 cost: 1.89103 error rate: 0.678\n",
      "i: 3 j: 40 nb: 348 cost: 1.90382 error rate: 0.691\n",
      "i: 3 j: 60 nb: 348 cost: 1.92865 error rate: 0.712\n",
      "i: 3 j: 80 nb: 348 cost: 1.87571 error rate: 0.69\n",
      "i: 3 j: 100 nb: 348 cost: 1.87262 error rate: 0.667\n",
      "i: 3 j: 120 nb: 348 cost: 1.87776 error rate: 0.675\n",
      "i: 3 j: 140 nb: 348 cost: 1.84263 error rate: 0.683\n",
      "i: 3 j: 160 nb: 348 cost: 1.84198 error rate: 0.677\n",
      "i: 3 j: 180 nb: 348 cost: 1.83013 error rate: 0.676\n",
      "i: 3 j: 200 nb: 348 cost: 1.84665 error rate: 0.674\n",
      "i: 3 j: 220 nb: 348 cost: 1.83262 error rate: 0.689\n",
      "i: 3 j: 240 nb: 348 cost: 1.82019 error rate: 0.676\n",
      "i: 3 j: 260 nb: 348 cost: 1.80134 error rate: 0.673\n",
      "i: 3 j: 280 nb: 348 cost: 1.79201 error rate: 0.668\n",
      "i: 3 j: 300 nb: 348 cost: 1.77819 error rate: 0.669\n",
      "i: 3 j: 320 nb: 348 cost: 1.87085 error rate: 0.682\n",
      "i: 3 j: 340 nb: 348 cost: 1.88361 error rate: 0.71\n",
      "i: 4 j: 0 nb: 348 cost: 1.88883 error rate: 0.745\n",
      "i: 4 j: 20 nb: 348 cost: 1.848 error rate: 0.716\n",
      "i: 4 j: 40 nb: 348 cost: 1.84263 error rate: 0.721\n",
      "i: 4 j: 60 nb: 348 cost: 1.81197 error rate: 0.702\n",
      "i: 4 j: 80 nb: 348 cost: 1.82108 error rate: 0.703\n",
      "i: 4 j: 100 nb: 348 cost: 1.80076 error rate: 0.683\n",
      "i: 4 j: 120 nb: 348 cost: 1.82808 error rate: 0.72\n",
      "i: 4 j: 140 nb: 348 cost: 1.84749 error rate: 0.679\n",
      "i: 4 j: 160 nb: 348 cost: 1.81398 error rate: 0.69\n",
      "i: 4 j: 180 nb: 348 cost: 1.77452 error rate: 0.678\n",
      "i: 4 j: 200 nb: 348 cost: 1.79221 error rate: 0.686\n",
      "i: 4 j: 220 nb: 348 cost: 1.80619 error rate: 0.701\n",
      "i: 4 j: 240 nb: 348 cost: 1.88322 error rate: 0.72\n",
      "i: 4 j: 260 nb: 348 cost: 1.82811 error rate: 0.712\n",
      "i: 4 j: 280 nb: 348 cost: 1.82285 error rate: 0.711\n",
      "i: 4 j: 300 nb: 348 cost: 1.8117 error rate: 0.704\n",
      "i: 4 j: 320 nb: 348 cost: 1.78312 error rate: 0.689\n",
      "i: 4 j: 340 nb: 348 cost: 1.79997 error rate: 0.692\n",
      "i: 5 j: 0 nb: 348 cost: 1.77743 error rate: 0.686\n",
      "i: 5 j: 20 nb: 348 cost: 1.80211 error rate: 0.702\n",
      "i: 5 j: 40 nb: 348 cost: 1.83637 error rate: 0.746\n",
      "i: 5 j: 60 nb: 348 cost: 1.85444 error rate: 0.765\n",
      "i: 5 j: 80 nb: 348 cost: 1.78761 error rate: 0.7\n",
      "i: 5 j: 100 nb: 348 cost: 1.8227 error rate: 0.709\n",
      "i: 5 j: 120 nb: 348 cost: 1.82203 error rate: 0.719\n",
      "i: 5 j: 140 nb: 348 cost: 1.83669 error rate: 0.688\n",
      "i: 5 j: 160 nb: 348 cost: 1.84036 error rate: 0.723\n",
      "i: 5 j: 180 nb: 348 cost: 1.83497 error rate: 0.723\n",
      "i: 5 j: 200 nb: 348 cost: 1.82849 error rate: 0.723\n",
      "i: 5 j: 220 nb: 348 cost: 1.8277 error rate: 0.723\n",
      "i: 5 j: 240 nb: 348 cost: 1.83219 error rate: 0.723\n",
      "i: 5 j: 260 nb: 348 cost: 1.82582 error rate: 0.723\n",
      "i: 5 j: 280 nb: 348 cost: 1.82025 error rate: 0.723\n",
      "i: 5 j: 300 nb: 348 cost: 1.81707 error rate: 0.723\n",
      "i: 5 j: 320 nb: 348 cost: 1.81822 error rate: 0.723\n",
      "i: 5 j: 340 nb: 348 cost: 1.81133 error rate: 0.723\n",
      "i: 6 j: 0 nb: 348 cost: 1.81179 error rate: 0.723\n",
      "i: 6 j: 20 nb: 348 cost: 1.81086 error rate: 0.723\n",
      "i: 6 j: 40 nb: 348 cost: 1.8091 error rate: 0.723\n",
      "i: 6 j: 60 nb: 348 cost: 1.81273 error rate: 0.723\n",
      "i: 6 j: 80 nb: 348 cost: 1.80189 error rate: 0.723\n",
      "i: 6 j: 100 nb: 348 cost: 1.80502 error rate: 0.723\n",
      "i: 6 j: 120 nb: 348 cost: 1.8 error rate: 0.723\n",
      "i: 6 j: 140 nb: 348 cost: 1.80717 error rate: 0.723\n",
      "i: 6 j: 160 nb: 348 cost: 1.80067 error rate: 0.723\n",
      "i: 6 j: 180 nb: 348 cost: 1.79856 error rate: 0.723\n",
      "i: 6 j: 200 nb: 348 cost: 1.80036 error rate: 0.723\n",
      "i: 6 j: 220 nb: 348 cost: 1.80055 error rate: 0.723\n",
      "i: 6 j: 240 nb: 348 cost: 1.79731 error rate: 0.723\n",
      "i: 6 j: 260 nb: 348 cost: 1.79422 error rate: 0.723\n",
      "i: 6 j: 280 nb: 348 cost: 1.79927 error rate: 0.723\n",
      "i: 6 j: 300 nb: 348 cost: 1.79702 error rate: 0.723\n",
      "i: 6 j: 320 nb: 348 cost: 1.79702 error rate: 0.723\n",
      "i: 6 j: 340 nb: 348 cost: 1.79406 error rate: 0.723\n",
      "i: 7 j: 0 nb: 348 cost: 1.79389 error rate: 0.723\n",
      "i: 7 j: 20 nb: 348 cost: 1.79665 error rate: 0.723\n",
      "i: 7 j: 40 nb: 348 cost: 1.7944 error rate: 0.723\n",
      "i: 7 j: 60 nb: 348 cost: 1.79669 error rate: 0.723\n",
      "i: 7 j: 80 nb: 348 cost: 1.7961 error rate: 0.723\n",
      "i: 7 j: 100 nb: 348 cost: 1.79824 error rate: 0.723\n",
      "i: 7 j: 120 nb: 348 cost: 1.79981 error rate: 0.723\n",
      "i: 7 j: 140 nb: 348 cost: 1.79355 error rate: 0.723\n",
      "i: 7 j: 160 nb: 348 cost: 1.80998 error rate: 0.723\n",
      "i: 7 j: 180 nb: 348 cost: 1.79572 error rate: 0.723\n",
      "i: 7 j: 200 nb: 348 cost: 1.79897 error rate: 0.723\n",
      "i: 7 j: 220 nb: 348 cost: 1.78842 error rate: 0.723\n",
      "i: 7 j: 240 nb: 348 cost: 1.80818 error rate: 0.723\n",
      "i: 7 j: 260 nb: 348 cost: 1.79659 error rate: 0.723\n",
      "i: 7 j: 280 nb: 348 cost: 1.79668 error rate: 0.723\n",
      "i: 7 j: 300 nb: 348 cost: 1.7915 error rate: 0.723\n",
      "i: 7 j: 320 nb: 348 cost: 1.79853 error rate: 0.723\n",
      "i: 7 j: 340 nb: 348 cost: 1.79296 error rate: 0.723\n",
      "i: 8 j: 0 nb: 348 cost: 1.79062 error rate: 0.723\n",
      "i: 8 j: 20 nb: 348 cost: 1.79305 error rate: 0.723\n",
      "i: 8 j: 40 nb: 348 cost: 1.79687 error rate: 0.723\n",
      "i: 8 j: 60 nb: 348 cost: 1.79883 error rate: 0.723\n",
      "i: 8 j: 80 nb: 348 cost: 1.79648 error rate: 0.723\n",
      "i: 8 j: 100 nb: 348 cost: 1.79814 error rate: 0.723\n",
      "i: 8 j: 120 nb: 348 cost: 1.80018 error rate: 0.723\n",
      "i: 8 j: 140 nb: 348 cost: 1.80422 error rate: 0.723\n",
      "i: 8 j: 160 nb: 348 cost: 1.79373 error rate: 0.723\n",
      "i: 8 j: 180 nb: 348 cost: 1.79471 error rate: 0.723\n",
      "i: 8 j: 200 nb: 348 cost: 1.78937 error rate: 0.723\n",
      "i: 8 j: 220 nb: 348 cost: 1.79764 error rate: 0.723\n",
      "i: 8 j: 240 nb: 348 cost: 1.80237 error rate: 0.723\n",
      "i: 8 j: 260 nb: 348 cost: 1.7899 error rate: 0.723\n",
      "i: 8 j: 280 nb: 348 cost: 1.79216 error rate: 0.723\n",
      "i: 8 j: 300 nb: 348 cost: 1.79785 error rate: 0.723\n",
      "i: 8 j: 320 nb: 348 cost: 1.79223 error rate: 0.723\n",
      "i: 8 j: 340 nb: 348 cost: 1.79733 error rate: 0.723\n",
      "i: 9 j: 0 nb: 348 cost: 1.79464 error rate: 0.723\n",
      "i: 9 j: 20 nb: 348 cost: 1.80878 error rate: 0.831\n",
      "i: 9 j: 40 nb: 348 cost: 1.7893 error rate: 0.723\n",
      "i: 9 j: 60 nb: 348 cost: 1.80409 error rate: 0.723\n",
      "i: 9 j: 80 nb: 348 cost: 1.81064 error rate: 0.723\n",
      "i: 9 j: 100 nb: 348 cost: 1.79725 error rate: 0.723\n",
      "i: 9 j: 120 nb: 348 cost: 1.79117 error rate: 0.723\n",
      "i: 9 j: 140 nb: 348 cost: 1.81419 error rate: 0.723\n",
      "i: 9 j: 160 nb: 348 cost: 1.79891 error rate: 0.723\n",
      "i: 9 j: 180 nb: 348 cost: 1.79933 error rate: 0.723\n",
      "i: 9 j: 200 nb: 348 cost: 1.80819 error rate: 0.723\n",
      "i: 9 j: 220 nb: 348 cost: 1.80422 error rate: 0.723\n",
      "i: 9 j: 240 nb: 348 cost: 1.79973 error rate: 0.723\n",
      "i: 9 j: 260 nb: 348 cost: 1.81529 error rate: 0.831\n",
      "i: 9 j: 280 nb: 348 cost: 1.7988 error rate: 0.723\n",
      "i: 9 j: 300 nb: 348 cost: 1.80743 error rate: 0.723\n",
      "i: 9 j: 320 nb: 348 cost: 1.80897 error rate: 0.723\n",
      "i: 9 j: 340 nb: 348 cost: 1.79737 error rate: 0.723\n"
     ]
    },
    {
     "data": {
      "image/png": "[encoded data removed]",
      "text/plain": [
       "<matplotlib.figure.Figure at 0x1d24e5e26d8>"
      ]
     },
     "metadata": {},
     "output_type": "display_data"
    }
   ],
   "source": [
    "def main():\n",
    "    X, Y = getData()\n",
    "    # X, Y = getBinaryData()\n",
    "    model = NNet([2000, 1000, 500])\n",
    "    model.fit(X, Y, show_fig=True)\n",
    "\n",
    "if __name__ == '__main__':\n",
    "    main()"
   ]
  },
  {
   "cell_type": "code",
   "execution_count": null,
   "metadata": {
    "collapsed": true
   },
   "outputs": [],
   "source": []
  }
 ],
 "metadata": {
  "kernelspec": {
   "display_name": "Python 2",
   "language": "python",
   "name": "python2"
  },
  "language_info": {
   "codemirror_mode": {
    "name": "ipython",
    "version": 2
   },
   "file_extension": ".py",
   "mimetype": "text/x-python",
   "name": "python",
   "nbconvert_exporter": "python",
   "pygments_lexer": "ipython2",
   "version": "2.7.13"
  }
 },
 "nbformat": 4,
 "nbformat_minor": 2
}
