{
 "cells": [
  {
   "cell_type": "markdown",
   "metadata": {},
   "source": [
    "# Question 3 - Solution"
   ]
  },
  {
   "cell_type": "markdown",
   "metadata": {},
   "source": [
    "### Overview and data required"
   ]
  },
  {
   "cell_type": "markdown",
   "metadata": {},
   "source": [
    "> The task is to design a way of predicting when the TV will be turned on.\n",
    "In order to complete the task, data needs to be collected over a certain period of time. The data would need to \n",
    "contain the following features:\n",
    " - Time stamp - this could be hours, minutes or seconds depending on the accuracy of the prediction that is required. \n",
    " For example, for a time stamp in minutes if the TV is on for less than a minute this will not be registered as \n",
    " a sample which may have negative effects on the prediction. For this reason a time stamp of a format hh:mm:ss should \n",
    " selected. \n",
    " - Day of the week - Due to the nature of the problem, the day of the week plays an important role in the governing \n",
    "  when the TV  will be on. As shown by the Exploratory Data Analysis below, turning the TV on certain days is far more \n",
    "  likelly than on others. This feature is also heavily corelated with the time stamp\n",
    " - Weekend/Weekday - consist of binary data (0 for Weekday, 1 for Weekend)\n",
    " - Total Power Consumption - measured in Kilowatts \n",
    " - TV Consumption - measured in watts \n",
    " - Voltage - minute-averaged voltage (measured in volts)\n",
    " "
   ]
  },
  {
   "cell_type": "markdown",
   "metadata": {},
   "source": [
    "### Techniques and algorithms "
   ]
  },
  {
   "cell_type": "markdown",
   "metadata": {},
   "source": [
    "\n",
    "\n",
    "**Random Forest Classifier**\n",
    "\n",
    "The random forest classifier is an ensemble machine learning algorithm that uses many decision trees to split the data\n",
    "and make prediction. The algorithm performs well on large datasets and is also capable of hadling missing data and \n",
    "maintaining high accuracy when a portion of the data is missing. Furthemore, in case of a dataset that is class unbalanced\n",
    "is is capable of balancing the error. One particular advantage of this method is that individual decision trees can be analysed and attribute and value upon which the splitting occurs can be analysed. This in turn can lead to improvements in the final classification. \n",
    "An implementation of the Random Forest Classifier is shown below using a total 100 decision trees. For this implementation \n",
    "the sklearn library is used. Although the recall and precision produced by the sklearn classification report show 100% for \n",
    "both 0 and 1(i.e when the TV is turned on or off), this should in no way suggest that this implementation will perform \n",
    "the same way in a real situation with a considerably more data and input features. The implementation just aims to show\n",
    "a possible way of implementing the Random Forest Classification algorithm.\n",
    "\n",
    "**SVM**\n",
    "\n",
    "Support Vector Machine's model represents data samples as points in space. The points are mapped so that examples \n",
    "belonging to different classes are devided by a clear gap that is as wide as possible. Compared to Random Forest \n",
    "Classifier, SVMs can be seen as an improvement as in general they offer higher accuracy, however this comes at a cost\n",
    "of SVMs being more difficult to interpret compared to Random Forest Classifier. SVMs also require more data pre-processing.\n",
    "\n",
    "**LSTM**\n",
    "\n",
    "Long-Short-Term Memory network is a type of a recurrent neural network which has good performance on time series data.\n",
    "It can in many cases deliver higher performance compared to SVMs and Random Forest Classifier, however it is more \n",
    "difficult to interpret and requires a large data set to produce high performce. "
   ]
  },
  {
   "cell_type": "markdown",
   "metadata": {},
   "source": [
    "### Possible issues "
   ]
  },
  {
   "cell_type": "markdown",
   "metadata": {},
   "source": [
    "> One possible issue is related to the fact that each household may have a different pattern of turning the TV on. \n",
    "This may result in a drop in the algorithm's performce so it is important to gather data  from a variety of households\n",
    "in different regions. \n",
    "Also the type of the TV set may prove to be a factor since different TV sets consume differnt amounts of power. \n",
    "In a case where a household has multiple sets, data gathering becomes more difficult as well as predicting when the \n",
    "TV will be switched ON."
   ]
  },
  {
   "cell_type": "code",
   "execution_count": 2,
   "metadata": {
    "collapsed": true
   },
   "outputs": [],
   "source": [
    "# Imports\n",
    "import numpy as np\n",
    "import pandas as pd\n",
    "import seaborn as sns \n",
    "import matplotlib.pyplot as plt\n",
    "%matplotlib inline"
   ]
  },
  {
   "cell_type": "code",
   "execution_count": 75,
   "metadata": {
    "collapsed": true
   },
   "outputs": [],
   "source": [
    "from sklearn.ensemble import RandomForestClassifier\n",
    "from sklearn.model_selection import train_test_split\n",
    "from sklearn.metrics import classification_report,confusion_matrix"
   ]
  },
  {
   "cell_type": "code",
   "execution_count": 57,
   "metadata": {
    "collapsed": false
   },
   "outputs": [],
   "source": [
    "# Reading the data.\n",
    "data = pd.read_excel('C:\\Users\\Botev\\Desktop\\data_TV.xlsx')"
   ]
  },
  {
   "cell_type": "code",
   "execution_count": 58,
   "metadata": {
    "collapsed": false
   },
   "outputs": [
    {
     "data": {
      "text/html": [
       "<div>\n",
       "<table border=\"1\" class=\"dataframe\">\n",
       "  <thead>\n",
       "    <tr style=\"text-align: right;\">\n",
       "      <th></th>\n",
       "      <th>Time Stamp</th>\n",
       "      <th>TV_consump</th>\n",
       "      <th>Total_consump</th>\n",
       "    </tr>\n",
       "  </thead>\n",
       "  <tbody>\n",
       "    <tr>\n",
       "      <th>0</th>\n",
       "      <td>0</td>\n",
       "      <td>0.0</td>\n",
       "      <td>4.908</td>\n",
       "    </tr>\n",
       "    <tr>\n",
       "      <th>1</th>\n",
       "      <td>1</td>\n",
       "      <td>0.0</td>\n",
       "      <td>4.528</td>\n",
       "    </tr>\n",
       "    <tr>\n",
       "      <th>2</th>\n",
       "      <td>2</td>\n",
       "      <td>0.0</td>\n",
       "      <td>5.063</td>\n",
       "    </tr>\n",
       "    <tr>\n",
       "      <th>3</th>\n",
       "      <td>3</td>\n",
       "      <td>0.0</td>\n",
       "      <td>4.314</td>\n",
       "    </tr>\n",
       "    <tr>\n",
       "      <th>4</th>\n",
       "      <td>4</td>\n",
       "      <td>0.0</td>\n",
       "      <td>4.830</td>\n",
       "    </tr>\n",
       "  </tbody>\n",
       "</table>\n",
       "</div>"
      ],
      "text/plain": [
       "   Time Stamp  TV_consump  Total_consump\n",
       "0           0         0.0          4.908\n",
       "1           1         0.0          4.528\n",
       "2           2         0.0          5.063\n",
       "3           3         0.0          4.314\n",
       "4           4         0.0          4.830"
      ]
     },
     "execution_count": 58,
     "metadata": {},
     "output_type": "execute_result"
    }
   ],
   "source": [
    "data.head()"
   ]
  },
  {
   "cell_type": "code",
   "execution_count": 59,
   "metadata": {
    "collapsed": false
   },
   "outputs": [],
   "source": [
    "# Introducing another column 'TV_ON' to represent the TV being on or off.\n",
    "# If there is no power consumption TV is off, otherwise it is ON\n",
    "data['TV_ON'] = data['TV_consump'].apply(lambda x: 1 if x!=0 else 0)"
   ]
  },
  {
   "cell_type": "code",
   "execution_count": 60,
   "metadata": {
    "collapsed": false
   },
   "outputs": [
    {
     "data": {
      "text/html": [
       "<div>\n",
       "<table border=\"1\" class=\"dataframe\">\n",
       "  <thead>\n",
       "    <tr style=\"text-align: right;\">\n",
       "      <th></th>\n",
       "      <th>Time Stamp</th>\n",
       "      <th>TV_consump</th>\n",
       "      <th>Total_consump</th>\n",
       "      <th>TV_ON</th>\n",
       "    </tr>\n",
       "  </thead>\n",
       "  <tbody>\n",
       "    <tr>\n",
       "      <th>0</th>\n",
       "      <td>0</td>\n",
       "      <td>0.0</td>\n",
       "      <td>4.908</td>\n",
       "      <td>0</td>\n",
       "    </tr>\n",
       "    <tr>\n",
       "      <th>1</th>\n",
       "      <td>1</td>\n",
       "      <td>0.0</td>\n",
       "      <td>4.528</td>\n",
       "      <td>0</td>\n",
       "    </tr>\n",
       "    <tr>\n",
       "      <th>2</th>\n",
       "      <td>2</td>\n",
       "      <td>0.0</td>\n",
       "      <td>5.063</td>\n",
       "      <td>0</td>\n",
       "    </tr>\n",
       "    <tr>\n",
       "      <th>3</th>\n",
       "      <td>3</td>\n",
       "      <td>0.0</td>\n",
       "      <td>4.314</td>\n",
       "      <td>0</td>\n",
       "    </tr>\n",
       "    <tr>\n",
       "      <th>4</th>\n",
       "      <td>4</td>\n",
       "      <td>0.0</td>\n",
       "      <td>4.830</td>\n",
       "      <td>0</td>\n",
       "    </tr>\n",
       "  </tbody>\n",
       "</table>\n",
       "</div>"
      ],
      "text/plain": [
       "   Time Stamp  TV_consump  Total_consump  TV_ON\n",
       "0           0         0.0          4.908      0\n",
       "1           1         0.0          4.528      0\n",
       "2           2         0.0          5.063      0\n",
       "3           3         0.0          4.314      0\n",
       "4           4         0.0          4.830      0"
      ]
     },
     "execution_count": 60,
     "metadata": {},
     "output_type": "execute_result"
    }
   ],
   "source": [
    "data.head()"
   ]
  },
  {
   "cell_type": "code",
   "execution_count": null,
   "metadata": {
    "collapsed": false
   },
   "outputs": [],
   "source": [
    "      "
   ]
  },
  {
   "cell_type": "code",
   "execution_count": 45,
   "metadata": {
    "collapsed": false
   },
   "outputs": [
    {
     "data": {
      "text/html": [
       "<div>\n",
       "<table border=\"1\" class=\"dataframe\">\n",
       "  <thead>\n",
       "    <tr style=\"text-align: right;\">\n",
       "      <th></th>\n",
       "      <th>Time Stamp</th>\n",
       "      <th>TV_consump</th>\n",
       "      <th>Total_consump</th>\n",
       "      <th>TV_ON</th>\n",
       "    </tr>\n",
       "  </thead>\n",
       "  <tbody>\n",
       "    <tr>\n",
       "      <th>count</th>\n",
       "      <td>172782.000000</td>\n",
       "      <td>172782.000000</td>\n",
       "      <td>172782.000000</td>\n",
       "      <td>172782.000000</td>\n",
       "    </tr>\n",
       "    <tr>\n",
       "      <th>mean</th>\n",
       "      <td>86390.500000</td>\n",
       "      <td>11.926304</td>\n",
       "      <td>121.804287</td>\n",
       "      <td>0.173178</td>\n",
       "    </tr>\n",
       "    <tr>\n",
       "      <th>std</th>\n",
       "      <td>49878.011443</td>\n",
       "      <td>26.756472</td>\n",
       "      <td>373.031964</td>\n",
       "      <td>0.378402</td>\n",
       "    </tr>\n",
       "    <tr>\n",
       "      <th>min</th>\n",
       "      <td>0.000000</td>\n",
       "      <td>0.000000</td>\n",
       "      <td>2.798000</td>\n",
       "      <td>0.000000</td>\n",
       "    </tr>\n",
       "    <tr>\n",
       "      <th>25%</th>\n",
       "      <td>43195.250000</td>\n",
       "      <td>0.000000</td>\n",
       "      <td>6.338000</td>\n",
       "      <td>0.000000</td>\n",
       "    </tr>\n",
       "    <tr>\n",
       "      <th>50%</th>\n",
       "      <td>86390.500000</td>\n",
       "      <td>0.000000</td>\n",
       "      <td>69.948000</td>\n",
       "      <td>0.000000</td>\n",
       "    </tr>\n",
       "    <tr>\n",
       "      <th>75%</th>\n",
       "      <td>129585.750000</td>\n",
       "      <td>0.000000</td>\n",
       "      <td>75.925750</td>\n",
       "      <td>0.000000</td>\n",
       "    </tr>\n",
       "    <tr>\n",
       "      <th>max</th>\n",
       "      <td>172781.000000</td>\n",
       "      <td>101.005000</td>\n",
       "      <td>3137.189000</td>\n",
       "      <td>1.000000</td>\n",
       "    </tr>\n",
       "  </tbody>\n",
       "</table>\n",
       "</div>"
      ],
      "text/plain": [
       "          Time Stamp     TV_consump  Total_consump          TV_ON\n",
       "count  172782.000000  172782.000000  172782.000000  172782.000000\n",
       "mean    86390.500000      11.926304     121.804287       0.173178\n",
       "std     49878.011443      26.756472     373.031964       0.378402\n",
       "min         0.000000       0.000000       2.798000       0.000000\n",
       "25%     43195.250000       0.000000       6.338000       0.000000\n",
       "50%     86390.500000       0.000000      69.948000       0.000000\n",
       "75%    129585.750000       0.000000      75.925750       0.000000\n",
       "max    172781.000000     101.005000    3137.189000       1.000000"
      ]
     },
     "execution_count": 45,
     "metadata": {},
     "output_type": "execute_result"
    }
   ],
   "source": [
    "# An overall view of the data. \n",
    "# The dataset consists of a total of 172782 data samples. \n",
    "data.describe()"
   ]
  },
  {
   "cell_type": "code",
   "execution_count": null,
   "metadata": {
    "collapsed": false
   },
   "outputs": [],
   "source": []
  },
  {
   "cell_type": "markdown",
   "metadata": {
    "collapsed": false
   },
   "source": [
    "### Introducing new columns "
   ]
  },
  {
   "cell_type": "code",
   "execution_count": 61,
   "metadata": {
    "collapsed": false
   },
   "outputs": [],
   "source": [
    "data['Hour'] = data['Time Stamp'].apply(lambda x:x/3600)"
   ]
  },
  {
   "cell_type": "code",
   "execution_count": 62,
   "metadata": {
    "collapsed": false
   },
   "outputs": [],
   "source": [
    "data['Day'] = data['Hour'].apply(lambda x:'Day 1' if x<=24 else 'Day 2')\n"
   ]
  },
  {
   "cell_type": "code",
   "execution_count": 63,
   "metadata": {
    "collapsed": false
   },
   "outputs": [
    {
     "data": {
      "text/html": [
       "<div>\n",
       "<table border=\"1\" class=\"dataframe\">\n",
       "  <thead>\n",
       "    <tr style=\"text-align: right;\">\n",
       "      <th></th>\n",
       "      <th>Time Stamp</th>\n",
       "      <th>TV_consump</th>\n",
       "      <th>Total_consump</th>\n",
       "      <th>TV_ON</th>\n",
       "      <th>Hour</th>\n",
       "      <th>Day</th>\n",
       "    </tr>\n",
       "  </thead>\n",
       "  <tbody>\n",
       "    <tr>\n",
       "      <th>0</th>\n",
       "      <td>0</td>\n",
       "      <td>0.0</td>\n",
       "      <td>4.908</td>\n",
       "      <td>0</td>\n",
       "      <td>0</td>\n",
       "      <td>Day 1</td>\n",
       "    </tr>\n",
       "    <tr>\n",
       "      <th>1</th>\n",
       "      <td>1</td>\n",
       "      <td>0.0</td>\n",
       "      <td>4.528</td>\n",
       "      <td>0</td>\n",
       "      <td>0</td>\n",
       "      <td>Day 1</td>\n",
       "    </tr>\n",
       "    <tr>\n",
       "      <th>2</th>\n",
       "      <td>2</td>\n",
       "      <td>0.0</td>\n",
       "      <td>5.063</td>\n",
       "      <td>0</td>\n",
       "      <td>0</td>\n",
       "      <td>Day 1</td>\n",
       "    </tr>\n",
       "    <tr>\n",
       "      <th>3</th>\n",
       "      <td>3</td>\n",
       "      <td>0.0</td>\n",
       "      <td>4.314</td>\n",
       "      <td>0</td>\n",
       "      <td>0</td>\n",
       "      <td>Day 1</td>\n",
       "    </tr>\n",
       "    <tr>\n",
       "      <th>4</th>\n",
       "      <td>4</td>\n",
       "      <td>0.0</td>\n",
       "      <td>4.830</td>\n",
       "      <td>0</td>\n",
       "      <td>0</td>\n",
       "      <td>Day 1</td>\n",
       "    </tr>\n",
       "  </tbody>\n",
       "</table>\n",
       "</div>"
      ],
      "text/plain": [
       "   Time Stamp  TV_consump  Total_consump  TV_ON  Hour    Day\n",
       "0           0         0.0          4.908      0     0  Day 1\n",
       "1           1         0.0          4.528      0     0  Day 1\n",
       "2           2         0.0          5.063      0     0  Day 1\n",
       "3           3         0.0          4.314      0     0  Day 1\n",
       "4           4         0.0          4.830      0     0  Day 1"
      ]
     },
     "execution_count": 63,
     "metadata": {},
     "output_type": "execute_result"
    }
   ],
   "source": [
    "data.head()"
   ]
  },
  {
   "cell_type": "code",
   "execution_count": 20,
   "metadata": {
    "collapsed": false
   },
   "outputs": [
    {
     "data": {
      "text/plain": [
       "0    142860\n",
       "1     29922\n",
       "Name: TV_ON, dtype: int64"
      ]
     },
     "execution_count": 20,
     "metadata": {},
     "output_type": "execute_result"
    }
   ],
   "source": [
    "data['TV_ON'].value_counts()\n",
    "# There are only 29922 samples when the TV was on compared to 172782 samples in total. "
   ]
  },
  {
   "cell_type": "code",
   "execution_count": 22,
   "metadata": {
    "collapsed": false
   },
   "outputs": [
    {
     "data": {
      "text/plain": [
       "<seaborn.axisgrid.FacetGrid at 0x10a86940>"
      ]
     },
     "execution_count": 22,
     "metadata": {},
     "output_type": "execute_result"
    },
    {
     "data": {
      "image/png": "[encoded data removed]",
      "text/plain": [
       "<matplotlib.figure.Figure at 0x10a86ba8>"
      ]
     },
     "metadata": {},
     "output_type": "display_data"
    }
   ],
   "source": [
    "sns.factorplot(x=\"TV_ON\",y=\"Total_consump\",data=data,kind=\"bar\")\n",
    "# From the graph below it can be observed that the total consumtion is considerably higher\n",
    "# during the period of the TV being on. However this does not take into account other electrical\n",
    "#appliences that could potentially be on. "
   ]
  },
  {
   "cell_type": "code",
   "execution_count": null,
   "metadata": {
    "collapsed": true
   },
   "outputs": [],
   "source": []
  },
  {
   "cell_type": "code",
   "execution_count": 9,
   "metadata": {
    "collapsed": false
   },
   "outputs": [
    {
     "data": {
      "text/plain": [
       "<seaborn.axisgrid.FacetGrid at 0xbbc1710>"
      ]
     },
     "execution_count": 9,
     "metadata": {},
     "output_type": "execute_result"
    },
    {
     "data": {
      "image/png": "[encoded data removed]",
      "text/plain": [
       "<matplotlib.figure.Figure at 0xc5376a0>"
      ]
     },
     "metadata": {},
     "output_type": "display_data"
    }
   ],
   "source": [
    "sns.factorplot(x=\"TV_ON\",y=\"Hour\",data=data,kind=\"bar\")"
   ]
  },
  {
   "cell_type": "code",
   "execution_count": 10,
   "metadata": {
    "collapsed": false
   },
   "outputs": [
    {
     "data": {
      "text/plain": [
       "<seaborn.axisgrid.FacetGrid at 0x108c6518>"
      ]
     },
     "execution_count": 10,
     "metadata": {},
     "output_type": "execute_result"
    },
    {
     "data": {
      "image/png": "[encoded data removed]",
      "text/plain": [
       "<matplotlib.figure.Figure at 0x108c6390>"
      ]
     },
     "metadata": {},
     "output_type": "display_data"
    }
   ],
   "source": [
    "# The day proves to be an important feature regarding the TV being turned on or off.\n",
    "sns.factorplot(x=\"TV_ON\",y=\"Day\",data=data,kind=\"bar\")"
   ]
  },
  {
   "cell_type": "code",
   "execution_count": 11,
   "metadata": {
    "collapsed": false
   },
   "outputs": [
    {
     "data": {
      "text/plain": [
       "<seaborn.axisgrid.FacetGrid at 0xcb9fac8>"
      ]
     },
     "execution_count": 11,
     "metadata": {},
     "output_type": "execute_result"
    },
    {
     "data": {
      "image/png": "[encoded data removed]",
      "text/plain": [
       "<matplotlib.figure.Figure at 0xcb9f710>"
      ]
     },
     "metadata": {},
     "output_type": "display_data"
    }
   ],
   "source": [
    "g = sns.FacetGrid(data, col = 'TV_ON')\n",
    "g.map(sns.boxplot, 'Hour')"
   ]
  },
  {
   "cell_type": "code",
   "execution_count": null,
   "metadata": {
    "collapsed": true
   },
   "outputs": [],
   "source": []
  },
  {
   "cell_type": "code",
   "execution_count": 12,
   "metadata": {
    "collapsed": false
   },
   "outputs": [
    {
     "data": {
      "text/plain": [
       "<seaborn.axisgrid.FacetGrid at 0xc539ac8>"
      ]
     },
     "execution_count": 12,
     "metadata": {},
     "output_type": "execute_result"
    },
    {
     "data": {
      "image/png": "[encoded data removed]",
      "text/plain": [
       "<matplotlib.figure.Figure at 0xc539cc0>"
      ]
     },
     "metadata": {},
     "output_type": "display_data"
    }
   ],
   "source": [
    "sns.factorplot(x= 'Hour', y = 'TV_ON', data = data, size = 10)"
   ]
  },
  {
   "cell_type": "markdown",
   "metadata": {},
   "source": [
    "> Conclusion\n",
    "\n",
    "Looking at the factor plot above, it can be observed that the TV was ON considerably longer for Day 1\n",
    "compared to Day 2. An assumption can be made that unless either Day 1 or Day 2 were outliers, the \n",
    "difference can be attributed to Day 1 being a specific day of the week namelly Sunday and Day 2 \n",
    "being a working day- Monday - Friday. "
   ]
  },
  {
   "cell_type": "code",
   "execution_count": 16,
   "metadata": {
    "collapsed": true
   },
   "outputs": [],
   "source": []
  },
  {
   "cell_type": "code",
   "execution_count": 79,
   "metadata": {
    "collapsed": false
   },
   "outputs": [
    {
     "data": {
      "text/plain": [
       "<matplotlib.text.Text at 0x1ca26b70>"
      ]
     },
     "execution_count": 79,
     "metadata": {},
     "output_type": "execute_result"
    },
    {
     "data": {
      "image/png": "[encoded data removed]",
      "text/plain": [
       "<matplotlib.figure.Figure at 0x22b330f0>"
      ]
     },
     "metadata": {},
     "output_type": "display_data"
    }
   ],
   "source": [
    "plt.figure(figsize=(18,8))\n",
    "\n",
    "data[data['TV_ON']==0]['Total_consump'].hist(bins=100,color='blue',\n",
    "                                            label = 'TV OFF',\n",
    "                                            alpha = 0.6)\n",
    "\n",
    "data[data['TV_ON']==1]['Total_consump'].hist(bins=100,color='red',\n",
    "                                            label = 'TV ON',\n",
    "                                            alpha = 0.6)\n",
    "plt.legend()\n",
    "plt.xlabel('Total Consumption')"
   ]
  },
  {
   "cell_type": "code",
   "execution_count": 38,
   "metadata": {
    "collapsed": false
   },
   "outputs": [
    {
     "data": {
      "text/plain": [
       "3137.1889999999999"
      ]
     },
     "execution_count": 38,
     "metadata": {},
     "output_type": "execute_result"
    }
   ],
   "source": [
    "data['Total_consump'].max()"
   ]
  },
  {
   "cell_type": "code",
   "execution_count": 40,
   "metadata": {
    "collapsed": false
   },
   "outputs": [
    {
     "data": {
      "text/plain": [
       "2.798"
      ]
     },
     "execution_count": 40,
     "metadata": {},
     "output_type": "execute_result"
    }
   ],
   "source": [
    "data['Total_consump'].min()"
   ]
  },
  {
   "cell_type": "code",
   "execution_count": 41,
   "metadata": {
    "collapsed": true
   },
   "outputs": [],
   "source": [
    "# can observe that for those two days the TV power consumption is either in the lower end or at the higher end.\n"
   ]
  },
  {
   "cell_type": "code",
   "execution_count": 48,
   "metadata": {
    "collapsed": false
   },
   "outputs": [
    {
     "data": {
      "text/plain": [
       "<seaborn.axisgrid.FacetGrid at 0x1c1869e8>"
      ]
     },
     "execution_count": 48,
     "metadata": {},
     "output_type": "execute_result"
    },
    {
     "data": {
      "text/plain": [
       "<matplotlib.figure.Figure at 0x1c186ac8>"
      ]
     },
     "metadata": {},
     "output_type": "display_data"
    },
    {
     "data": {
      "image/png": "[encoded data removed]",
      "text/plain": [
       "<matplotlib.figure.Figure at 0x1be50588>"
      ]
     },
     "metadata": {},
     "output_type": "display_data"
    }
   ],
   "source": [
    "plt.figure(figsize = (50,22))\n",
    "\n",
    "sns.lmplot(y = 'Total_consump',x = 'TV_consump',data = data,hue = 'TV_ON',palette='Set1')\n",
    "\n"
   ]
  },
  {
   "cell_type": "markdown",
   "metadata": {},
   "source": [
    "### Random Forest Classifier"
   ]
  },
  {
   "cell_type": "markdown",
   "metadata": {
    "collapsed": false
   },
   "source": [
    "#### Data Preparation"
   ]
  },
  {
   "cell_type": "markdown",
   "metadata": {},
   "source": [
    "> First the numerical columns need to be normalised. This leads to introducing two new columns:\n",
    "TV_Consumption_norm and Total_consump_norm."
   ]
  },
  {
   "cell_type": "code",
   "execution_count": 65,
   "metadata": {
    "collapsed": false
   },
   "outputs": [],
   "source": [
    "data[\"TV_Consumtion_norm\"] = (data[\"TV_consump\"] - data[\"TV_consump\"].mean())/(data[\"TV_consump\"].max()-data[\"TV_consump\"].min())"
   ]
  },
  {
   "cell_type": "code",
   "execution_count": 66,
   "metadata": {
    "collapsed": true
   },
   "outputs": [],
   "source": [
    "data[\"Total_consump_norm\"] = (data[\"Total_consump\"] - data[\"Total_consump\"].mean())/(data[\"Total_consump\"].max()-data[\"Total_consump\"].min())"
   ]
  },
  {
   "cell_type": "code",
   "execution_count": 67,
   "metadata": {
    "collapsed": false
   },
   "outputs": [
    {
     "data": {
      "text/html": [
       "<div>\n",
       "<table border=\"1\" class=\"dataframe\">\n",
       "  <thead>\n",
       "    <tr style=\"text-align: right;\">\n",
       "      <th></th>\n",
       "      <th>Time Stamp</th>\n",
       "      <th>TV_consump</th>\n",
       "      <th>Total_consump</th>\n",
       "      <th>TV_ON</th>\n",
       "      <th>Hour</th>\n",
       "      <th>Day</th>\n",
       "      <th>TV_Consumtion_norm</th>\n",
       "      <th>Total_consump_norm</th>\n",
       "    </tr>\n",
       "  </thead>\n",
       "  <tbody>\n",
       "    <tr>\n",
       "      <th>0</th>\n",
       "      <td>0</td>\n",
       "      <td>0.0</td>\n",
       "      <td>4.908</td>\n",
       "      <td>0</td>\n",
       "      <td>0</td>\n",
       "      <td>Day 1</td>\n",
       "      <td>-0.118076</td>\n",
       "      <td>-0.037295</td>\n",
       "    </tr>\n",
       "    <tr>\n",
       "      <th>1</th>\n",
       "      <td>1</td>\n",
       "      <td>0.0</td>\n",
       "      <td>4.528</td>\n",
       "      <td>0</td>\n",
       "      <td>0</td>\n",
       "      <td>Day 1</td>\n",
       "      <td>-0.118076</td>\n",
       "      <td>-0.037416</td>\n",
       "    </tr>\n",
       "    <tr>\n",
       "      <th>2</th>\n",
       "      <td>2</td>\n",
       "      <td>0.0</td>\n",
       "      <td>5.063</td>\n",
       "      <td>0</td>\n",
       "      <td>0</td>\n",
       "      <td>Day 1</td>\n",
       "      <td>-0.118076</td>\n",
       "      <td>-0.037245</td>\n",
       "    </tr>\n",
       "    <tr>\n",
       "      <th>3</th>\n",
       "      <td>3</td>\n",
       "      <td>0.0</td>\n",
       "      <td>4.314</td>\n",
       "      <td>0</td>\n",
       "      <td>0</td>\n",
       "      <td>Day 1</td>\n",
       "      <td>-0.118076</td>\n",
       "      <td>-0.037484</td>\n",
       "    </tr>\n",
       "    <tr>\n",
       "      <th>4</th>\n",
       "      <td>4</td>\n",
       "      <td>0.0</td>\n",
       "      <td>4.830</td>\n",
       "      <td>0</td>\n",
       "      <td>0</td>\n",
       "      <td>Day 1</td>\n",
       "      <td>-0.118076</td>\n",
       "      <td>-0.037320</td>\n",
       "    </tr>\n",
       "  </tbody>\n",
       "</table>\n",
       "</div>"
      ],
      "text/plain": [
       "   Time Stamp  TV_consump  Total_consump  TV_ON  Hour    Day  \\\n",
       "0           0         0.0          4.908      0     0  Day 1   \n",
       "1           1         0.0          4.528      0     0  Day 1   \n",
       "2           2         0.0          5.063      0     0  Day 1   \n",
       "3           3         0.0          4.314      0     0  Day 1   \n",
       "4           4         0.0          4.830      0     0  Day 1   \n",
       "\n",
       "   TV_Consumtion_norm  Total_consump_norm  \n",
       "0           -0.118076           -0.037295  \n",
       "1           -0.118076           -0.037416  \n",
       "2           -0.118076           -0.037245  \n",
       "3           -0.118076           -0.037484  \n",
       "4           -0.118076           -0.037320  "
      ]
     },
     "execution_count": 67,
     "metadata": {},
     "output_type": "execute_result"
    }
   ],
   "source": [
    "data.head()"
   ]
  },
  {
   "cell_type": "markdown",
   "metadata": {},
   "source": [
    "#### Implementation"
   ]
  },
  {
   "cell_type": "code",
   "execution_count": 56,
   "metadata": {
    "collapsed": true
   },
   "outputs": [],
   "source": [
    "# Number of decision trees used in the Random Forest is 100.\n",
    "classifier = RandomForestClassifier(n_estimators=100)"
   ]
  },
  {
   "cell_type": "markdown",
   "metadata": {},
   "source": [
    "> Three features are used for the classification: TV_Consumtion_norm','Hour','Total_consump_norm.\n",
    "The feature that will be predicted is: TV_ON"
   ]
  },
  {
   "cell_type": "code",
   "execution_count": 68,
   "metadata": {
    "collapsed": true
   },
   "outputs": [],
   "source": [
    "X = data[['TV_Consumtion_norm','Hour','Total_consump_norm']]\n",
    "Y = data['TV_ON']"
   ]
  },
  {
   "cell_type": "code",
   "execution_count": 70,
   "metadata": {
    "collapsed": false
   },
   "outputs": [],
   "source": [
    "# 40% of the data is used for testing purposes, 60% for training purposes.\n",
    "X_train,X_test,Y_train,Y_test = train_test_split(X,Y,test_size = 0.4,random_state = 101)"
   ]
  },
  {
   "cell_type": "code",
   "execution_count": 71,
   "metadata": {
    "collapsed": false
   },
   "outputs": [
    {
     "data": {
      "text/plain": [
       "RandomForestClassifier(bootstrap=True, class_weight=None, criterion='gini',\n",
       "            max_depth=None, max_features='auto', max_leaf_nodes=None,\n",
       "            min_impurity_split=1e-07, min_samples_leaf=1,\n",
       "            min_samples_split=2, min_weight_fraction_leaf=0.0,\n",
       "            n_estimators=100, n_jobs=1, oob_score=False, random_state=None,\n",
       "            verbose=0, warm_start=False)"
      ]
     },
     "execution_count": 71,
     "metadata": {},
     "output_type": "execute_result"
    }
   ],
   "source": [
    "classifier.fit(X_train,Y_train)"
   ]
  },
  {
   "cell_type": "code",
   "execution_count": 73,
   "metadata": {
    "collapsed": false
   },
   "outputs": [],
   "source": [
    "pred = classifier.predict(X_test)"
   ]
  },
  {
   "cell_type": "code",
   "execution_count": 76,
   "metadata": {
    "collapsed": false
   },
   "outputs": [
    {
     "name": "stdout",
     "output_type": "stream",
     "text": [
      "             precision    recall  f1-score   support\n",
      "\n",
      "          0       1.00      1.00      1.00     57222\n",
      "          1       1.00      1.00      1.00     11891\n",
      "\n",
      "avg / total       1.00      1.00      1.00     69113\n",
      "\n"
     ]
    }
   ],
   "source": [
    "print classification_report(Y_test,pred)"
   ]
  },
  {
   "cell_type": "markdown",
   "metadata": {
    "collapsed": true
   },
   "source": [
    "### Conclusion"
   ]
  },
  {
   "cell_type": "markdown",
   "metadata": {},
   "source": [
    "> The precision and recall values outputed from the Random Forest Classifier indicate very high performance.\n",
    "However this performance would drastically change when the algorithm is applied to a real data set. The way the \n",
    "dataset is structured will also have an impact on performance. For example noise in the data, skewed datapoints as \n",
    "well as class inbalance issues can have an inpact on the performance of the algorithm."
   ]
  },
  {
   "cell_type": "code",
   "execution_count": null,
   "metadata": {
    "collapsed": true
   },
   "outputs": [],
   "source": []
  }
 ],
 "metadata": {
  "kernelspec": {
   "display_name": "Python 2",
   "language": "python",
   "name": "python2"
  },
  "language_info": {
   "codemirror_mode": {
    "name": "ipython",
    "version": 2
   },
   "file_extension": ".py",
   "mimetype": "text/x-python",
   "name": "python",
   "nbconvert_exporter": "python",
   "pygments_lexer": "ipython2",
   "version": "2.7.13"
  }
 },
 "nbformat": 4,
 "nbformat_minor": 2
}
